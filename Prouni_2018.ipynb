{
 "cells": [
  {
   "cell_type": "markdown",
   "metadata": {},
   "source": [
    "# Análise de Dados - Prouni 2018\n",
    "\n",
    "Conjunto de dados que apresenta as bolsas concedidas e o perfil dos beneficiários do ProUni de 2018.\n",
    "\n",
    "Os dados são disponibilizados pelo Site Dados Abertos (http://dadosabertos.mec.gov.br/prouni), em arquivo CSV."
   ]
  },
  {
   "cell_type": "code",
   "execution_count": 1,
   "metadata": {},
   "outputs": [],
   "source": [
    "import pandas as pd\n",
    "df = pd.read_csv ('datasets/pda-prouni-2018.csv', sep = ';', encoding = 'utf-8')"
   ]
  },
  {
   "cell_type": "markdown",
   "metadata": {},
   "source": [
    "## Conhecendo o dataframe"
   ]
  },
  {
   "cell_type": "code",
   "execution_count": 2,
   "metadata": {},
   "outputs": [
    {
     "data": {
      "text/html": [
       "<div>\n",
       "<style scoped>\n",
       "    .dataframe tbody tr th:only-of-type {\n",
       "        vertical-align: middle;\n",
       "    }\n",
       "\n",
       "    .dataframe tbody tr th {\n",
       "        vertical-align: top;\n",
       "    }\n",
       "\n",
       "    .dataframe thead th {\n",
       "        text-align: right;\n",
       "    }\n",
       "</style>\n",
       "<table border=\"1\" class=\"dataframe\">\n",
       "  <thead>\n",
       "    <tr style=\"text-align: right;\">\n",
       "      <th></th>\n",
       "      <th>ANO_CONCESSAO_BOLSA</th>\n",
       "      <th>CODIGO_EMEC_IES_BOLSA</th>\n",
       "      <th>NOME_IES_BOLSA</th>\n",
       "      <th>TIPO_BOLSA</th>\n",
       "      <th>MODALIDADE_ENSINO_BOLSA</th>\n",
       "      <th>NOME_CURSO_BOLSA</th>\n",
       "      <th>NOME_TURNO_CURSO_BOLSA</th>\n",
       "      <th>CPF_BENEFICIARIO_BOLSA</th>\n",
       "      <th>SEXO_BENEFICIARIO_BOLSA</th>\n",
       "      <th>RACA_BENEFICIARIO_BOLSA</th>\n",
       "      <th>DT_NASCIMENTO_BENEFICIARIO</th>\n",
       "      <th>BENEFICIARIO_DEFICIENTE_FISICO</th>\n",
       "      <th>REGIAO_BENEFICIARIO_BOLSA</th>\n",
       "      <th>SIGLA_UF_BENEFICIARIO_BOLSA</th>\n",
       "      <th>MUNICIPIO_BENEFICIARIO_BOLSA</th>\n",
       "    </tr>\n",
       "  </thead>\n",
       "  <tbody>\n",
       "    <tr>\n",
       "      <th>159564</th>\n",
       "      <td>2018</td>\n",
       "      <td>322</td>\n",
       "      <td>UNIVERSIDADE PAULISTA</td>\n",
       "      <td>BOLSA INTEGRAL</td>\n",
       "      <td>Presencial</td>\n",
       "      <td>Design De Interiores</td>\n",
       "      <td>Noturno</td>\n",
       "      <td>***05561737**</td>\n",
       "      <td>F</td>\n",
       "      <td>Preta</td>\n",
       "      <td>27/02/1997</td>\n",
       "      <td>N</td>\n",
       "      <td>Sudeste</td>\n",
       "      <td>ES</td>\n",
       "      <td>ARACRUZ</td>\n",
       "    </tr>\n",
       "    <tr>\n",
       "      <th>214041</th>\n",
       "      <td>2018</td>\n",
       "      <td>1139</td>\n",
       "      <td>FACULDADE DE ESTUDOS ADMINISTRATIVOS DE MINAS ...</td>\n",
       "      <td>BOLSA INTEGRAL</td>\n",
       "      <td>EAD</td>\n",
       "      <td>Ciências Econômicas</td>\n",
       "      <td>Curso a distância</td>\n",
       "      <td>***91630628**</td>\n",
       "      <td>F</td>\n",
       "      <td>Parda</td>\n",
       "      <td>13/02/1997</td>\n",
       "      <td>N</td>\n",
       "      <td>Sudeste</td>\n",
       "      <td>MG</td>\n",
       "      <td>SAO JOSE DA LAPA</td>\n",
       "    </tr>\n",
       "    <tr>\n",
       "      <th>100922</th>\n",
       "      <td>2018</td>\n",
       "      <td>1491</td>\n",
       "      <td>CENTRO UNIVERSITÁRIO INTERNACIONAL</td>\n",
       "      <td>BOLSA PARCIAL 50%</td>\n",
       "      <td>EAD</td>\n",
       "      <td>Artes Visuais</td>\n",
       "      <td>Curso a distância</td>\n",
       "      <td>***60780974**</td>\n",
       "      <td>F</td>\n",
       "      <td>Parda</td>\n",
       "      <td>07/10/1990</td>\n",
       "      <td>N</td>\n",
       "      <td>Sul</td>\n",
       "      <td>SC</td>\n",
       "      <td>BLUMENAU</td>\n",
       "    </tr>\n",
       "  </tbody>\n",
       "</table>\n",
       "</div>"
      ],
      "text/plain": [
       "        ANO_CONCESSAO_BOLSA  CODIGO_EMEC_IES_BOLSA  \\\n",
       "159564                 2018                    322   \n",
       "214041                 2018                   1139   \n",
       "100922                 2018                   1491   \n",
       "\n",
       "                                           NOME_IES_BOLSA         TIPO_BOLSA  \\\n",
       "159564                              UNIVERSIDADE PAULISTA     BOLSA INTEGRAL   \n",
       "214041  FACULDADE DE ESTUDOS ADMINISTRATIVOS DE MINAS ...     BOLSA INTEGRAL   \n",
       "100922                 CENTRO UNIVERSITÁRIO INTERNACIONAL  BOLSA PARCIAL 50%   \n",
       "\n",
       "       MODALIDADE_ENSINO_BOLSA      NOME_CURSO_BOLSA NOME_TURNO_CURSO_BOLSA  \\\n",
       "159564              Presencial  Design De Interiores                Noturno   \n",
       "214041                     EAD   Ciências Econômicas      Curso a distância   \n",
       "100922                     EAD         Artes Visuais      Curso a distância   \n",
       "\n",
       "       CPF_BENEFICIARIO_BOLSA SEXO_BENEFICIARIO_BOLSA RACA_BENEFICIARIO_BOLSA  \\\n",
       "159564          ***05561737**                       F                   Preta   \n",
       "214041          ***91630628**                       F                   Parda   \n",
       "100922          ***60780974**                       F                   Parda   \n",
       "\n",
       "       DT_NASCIMENTO_BENEFICIARIO BENEFICIARIO_DEFICIENTE_FISICO  \\\n",
       "159564                 27/02/1997                              N   \n",
       "214041                 13/02/1997                              N   \n",
       "100922                 07/10/1990                              N   \n",
       "\n",
       "       REGIAO_BENEFICIARIO_BOLSA SIGLA_UF_BENEFICIARIO_BOLSA  \\\n",
       "159564                   Sudeste                          ES   \n",
       "214041                   Sudeste                          MG   \n",
       "100922                       Sul                          SC   \n",
       "\n",
       "       MUNICIPIO_BENEFICIARIO_BOLSA  \n",
       "159564                      ARACRUZ  \n",
       "214041             SAO JOSE DA LAPA  \n",
       "100922                     BLUMENAU  "
      ]
     },
     "execution_count": 2,
     "metadata": {},
     "output_type": "execute_result"
    }
   ],
   "source": [
    "df.sample(3)"
   ]
  },
  {
   "cell_type": "code",
   "execution_count": 3,
   "metadata": {},
   "outputs": [
    {
     "data": {
      "text/plain": [
       "(241032, 15)"
      ]
     },
     "execution_count": 3,
     "metadata": {},
     "output_type": "execute_result"
    }
   ],
   "source": [
    "df.shape"
   ]
  },
  {
   "cell_type": "code",
   "execution_count": 4,
   "metadata": {},
   "outputs": [
    {
     "data": {
      "text/plain": [
       "ANO_CONCESSAO_BOLSA                int64\n",
       "CODIGO_EMEC_IES_BOLSA              int64\n",
       "NOME_IES_BOLSA                    object\n",
       "TIPO_BOLSA                        object\n",
       "MODALIDADE_ENSINO_BOLSA           object\n",
       "NOME_CURSO_BOLSA                  object\n",
       "NOME_TURNO_CURSO_BOLSA            object\n",
       "CPF_BENEFICIARIO_BOLSA            object\n",
       "SEXO_BENEFICIARIO_BOLSA           object\n",
       "RACA_BENEFICIARIO_BOLSA           object\n",
       "DT_NASCIMENTO_BENEFICIARIO        object\n",
       "BENEFICIARIO_DEFICIENTE_FISICO    object\n",
       "REGIAO_BENEFICIARIO_BOLSA         object\n",
       "SIGLA_UF_BENEFICIARIO_BOLSA       object\n",
       "MUNICIPIO_BENEFICIARIO_BOLSA      object\n",
       "dtype: object"
      ]
     },
     "execution_count": 4,
     "metadata": {},
     "output_type": "execute_result"
    }
   ],
   "source": [
    "df.dtypes"
   ]
  },
  {
   "cell_type": "code",
   "execution_count": 5,
   "metadata": {},
   "outputs": [
    {
     "data": {
      "text/plain": [
       "ANO_CONCESSAO_BOLSA               0\n",
       "CODIGO_EMEC_IES_BOLSA             0\n",
       "NOME_IES_BOLSA                    0\n",
       "TIPO_BOLSA                        0\n",
       "MODALIDADE_ENSINO_BOLSA           0\n",
       "NOME_CURSO_BOLSA                  0\n",
       "NOME_TURNO_CURSO_BOLSA            0\n",
       "CPF_BENEFICIARIO_BOLSA            0\n",
       "SEXO_BENEFICIARIO_BOLSA           0\n",
       "RACA_BENEFICIARIO_BOLSA           0\n",
       "DT_NASCIMENTO_BENEFICIARIO        0\n",
       "BENEFICIARIO_DEFICIENTE_FISICO    0\n",
       "REGIAO_BENEFICIARIO_BOLSA         0\n",
       "SIGLA_UF_BENEFICIARIO_BOLSA       0\n",
       "MUNICIPIO_BENEFICIARIO_BOLSA      0\n",
       "dtype: int64"
      ]
     },
     "execution_count": 5,
     "metadata": {},
     "output_type": "execute_result"
    }
   ],
   "source": [
    "df.isnull().sum()"
   ]
  },
  {
   "cell_type": "markdown",
   "metadata": {},
   "source": [
    "### Excluindo as Colunas CPF_BENEFICIARIO_BOLSA e MUNICIPIO_BENEFICIARIO_BOLSA"
   ]
  },
  {
   "cell_type": "code",
   "execution_count": 6,
   "metadata": {},
   "outputs": [],
   "source": [
    "df.drop(['CPF_BENEFICIARIO_BOLSA','MUNICIPIO_BENEFICIARIO_BOLSA'] , axis=1, inplace = True)"
   ]
  },
  {
   "cell_type": "markdown",
   "metadata": {},
   "source": [
    "### Renomeando Colunas"
   ]
  },
  {
   "cell_type": "code",
   "execution_count": 7,
   "metadata": {},
   "outputs": [
    {
     "data": {
      "text/plain": [
       "Index(['ANO_CONCESSAO_BOLSA', 'CODIGO_EMEC_IES_BOLSA', 'NOME_IES_BOLSA',\n",
       "       'TIPO_BOLSA', 'MODALIDADE_ENSINO_BOLSA', 'NOME_CURSO_BOLSA',\n",
       "       'NOME_TURNO_CURSO_BOLSA', 'SEXO_BENEFICIARIO_BOLSA',\n",
       "       'RACA_BENEFICIARIO_BOLSA', 'DT_NASCIMENTO_BENEFICIARIO',\n",
       "       'BENEFICIARIO_DEFICIENTE_FISICO', 'REGIAO_BENEFICIARIO_BOLSA',\n",
       "       'SIGLA_UF_BENEFICIARIO_BOLSA'],\n",
       "      dtype='object')"
      ]
     },
     "execution_count": 7,
     "metadata": {},
     "output_type": "execute_result"
    }
   ],
   "source": [
    "df.columns"
   ]
  },
  {
   "cell_type": "code",
   "execution_count": 8,
   "metadata": {},
   "outputs": [],
   "source": [
    "df.rename(columns = {'ANO_CONCESSAO_BOLSA':'ANO_CONCESSAO', \n",
    "                     'CODIGO_EMEC_IES_BOLSA':'CODIGO_IES', \n",
    "                     'NOME_IES_BOLSA':'NOME_IES', \n",
    "                     'MODALIDADE_ENSINO_BOLSA':'MODALIDADE_ENSINO', \n",
    "                     'NOME_CURSO_BOLSA':'NOME_CURSO'}, inplace = True)"
   ]
  },
  {
   "cell_type": "code",
   "execution_count": 9,
   "metadata": {},
   "outputs": [],
   "source": [
    "df.rename(columns = {'NOME_TURNO_CURSO_BOLSA':'TURNO_CURSO', \n",
    "                     'SEXO_BENEFICIARIO_BOLSA':'SEXO_BENEFICIARIO', \n",
    "                     'RACA_BENEFICIARIO_BOLSA':'RACA_BENEFICIARIO', \n",
    "                     'REGIAO_BENEFICIARIO_BOLSA':'REGIAO_BENEFICIARIO', \n",
    "                     'SIGLA_UF_BENEFICIARIO_BOLSA':'UF_BENEFICIARIO', \n",
    "                     'DT_NASCIMENTO_BENEFICIARIO':'ANO_NASCIMENTO_BENEFICIARIO'}, inplace = True)"
   ]
  },
  {
   "cell_type": "code",
   "execution_count": 10,
   "metadata": {},
   "outputs": [
    {
     "data": {
      "text/html": [
       "<div>\n",
       "<style scoped>\n",
       "    .dataframe tbody tr th:only-of-type {\n",
       "        vertical-align: middle;\n",
       "    }\n",
       "\n",
       "    .dataframe tbody tr th {\n",
       "        vertical-align: top;\n",
       "    }\n",
       "\n",
       "    .dataframe thead th {\n",
       "        text-align: right;\n",
       "    }\n",
       "</style>\n",
       "<table border=\"1\" class=\"dataframe\">\n",
       "  <thead>\n",
       "    <tr style=\"text-align: right;\">\n",
       "      <th></th>\n",
       "      <th>ANO_CONCESSAO</th>\n",
       "      <th>CODIGO_IES</th>\n",
       "      <th>NOME_IES</th>\n",
       "      <th>TIPO_BOLSA</th>\n",
       "      <th>MODALIDADE_ENSINO</th>\n",
       "      <th>NOME_CURSO</th>\n",
       "      <th>TURNO_CURSO</th>\n",
       "      <th>SEXO_BENEFICIARIO</th>\n",
       "      <th>RACA_BENEFICIARIO</th>\n",
       "      <th>ANO_NASCIMENTO_BENEFICIARIO</th>\n",
       "      <th>BENEFICIARIO_DEFICIENTE_FISICO</th>\n",
       "      <th>REGIAO_BENEFICIARIO</th>\n",
       "      <th>UF_BENEFICIARIO</th>\n",
       "    </tr>\n",
       "  </thead>\n",
       "  <tbody>\n",
       "    <tr>\n",
       "      <th>42231</th>\n",
       "      <td>2018</td>\n",
       "      <td>417</td>\n",
       "      <td>UNIVERSIDADE CIDADE DE SÃO PAULO</td>\n",
       "      <td>BOLSA PARCIAL 50%</td>\n",
       "      <td>Presencial</td>\n",
       "      <td>Enfermagem</td>\n",
       "      <td>Matutino</td>\n",
       "      <td>F</td>\n",
       "      <td>Preta</td>\n",
       "      <td>29/01/2000</td>\n",
       "      <td>N</td>\n",
       "      <td>Sudeste</td>\n",
       "      <td>SP</td>\n",
       "    </tr>\n",
       "    <tr>\n",
       "      <th>25358</th>\n",
       "      <td>2018</td>\n",
       "      <td>322</td>\n",
       "      <td>UNIVERSIDADE PAULISTA</td>\n",
       "      <td>BOLSA INTEGRAL</td>\n",
       "      <td>EAD</td>\n",
       "      <td>Gestão De Recursos Humanos</td>\n",
       "      <td>Curso a distância</td>\n",
       "      <td>M</td>\n",
       "      <td>Preta</td>\n",
       "      <td>06/03/1983</td>\n",
       "      <td>S</td>\n",
       "      <td>Centro-Oeste</td>\n",
       "      <td>GO</td>\n",
       "    </tr>\n",
       "    <tr>\n",
       "      <th>230374</th>\n",
       "      <td>2018</td>\n",
       "      <td>1676</td>\n",
       "      <td>CENTRO UNIVERSITÁRIO SÃO MIGUEL</td>\n",
       "      <td>BOLSA PARCIAL 50%</td>\n",
       "      <td>Presencial</td>\n",
       "      <td>Educação Física</td>\n",
       "      <td>Matutino</td>\n",
       "      <td>M</td>\n",
       "      <td>Preta</td>\n",
       "      <td>28/09/1999</td>\n",
       "      <td>N</td>\n",
       "      <td>Nordeste</td>\n",
       "      <td>PE</td>\n",
       "    </tr>\n",
       "    <tr>\n",
       "      <th>195234</th>\n",
       "      <td>2018</td>\n",
       "      <td>1255</td>\n",
       "      <td>CENTRO UNIVERSITÁRIO FBV WYDEN</td>\n",
       "      <td>BOLSA PARCIAL 50%</td>\n",
       "      <td>Presencial</td>\n",
       "      <td>Engenharia De Controle E Automação</td>\n",
       "      <td>Noturno</td>\n",
       "      <td>M</td>\n",
       "      <td>Branca</td>\n",
       "      <td>04/11/1996</td>\n",
       "      <td>N</td>\n",
       "      <td>Nordeste</td>\n",
       "      <td>PE</td>\n",
       "    </tr>\n",
       "    <tr>\n",
       "      <th>128667</th>\n",
       "      <td>2018</td>\n",
       "      <td>3966</td>\n",
       "      <td>CENTRO UNIVERSITÁRIO DE CARATINGA</td>\n",
       "      <td>BOLSA PARCIAL 50%</td>\n",
       "      <td>Presencial</td>\n",
       "      <td>Farmácia</td>\n",
       "      <td>Noturno</td>\n",
       "      <td>F</td>\n",
       "      <td>Branca</td>\n",
       "      <td>03/08/1998</td>\n",
       "      <td>N</td>\n",
       "      <td>Sudeste</td>\n",
       "      <td>MG</td>\n",
       "    </tr>\n",
       "  </tbody>\n",
       "</table>\n",
       "</div>"
      ],
      "text/plain": [
       "        ANO_CONCESSAO  CODIGO_IES                           NOME_IES  \\\n",
       "42231            2018         417   UNIVERSIDADE CIDADE DE SÃO PAULO   \n",
       "25358            2018         322              UNIVERSIDADE PAULISTA   \n",
       "230374           2018        1676    CENTRO UNIVERSITÁRIO SÃO MIGUEL   \n",
       "195234           2018        1255     CENTRO UNIVERSITÁRIO FBV WYDEN   \n",
       "128667           2018        3966  CENTRO UNIVERSITÁRIO DE CARATINGA   \n",
       "\n",
       "               TIPO_BOLSA MODALIDADE_ENSINO  \\\n",
       "42231   BOLSA PARCIAL 50%        Presencial   \n",
       "25358      BOLSA INTEGRAL               EAD   \n",
       "230374  BOLSA PARCIAL 50%        Presencial   \n",
       "195234  BOLSA PARCIAL 50%        Presencial   \n",
       "128667  BOLSA PARCIAL 50%        Presencial   \n",
       "\n",
       "                                NOME_CURSO        TURNO_CURSO  \\\n",
       "42231                           Enfermagem           Matutino   \n",
       "25358           Gestão De Recursos Humanos  Curso a distância   \n",
       "230374                     Educação Física           Matutino   \n",
       "195234  Engenharia De Controle E Automação            Noturno   \n",
       "128667                            Farmácia            Noturno   \n",
       "\n",
       "       SEXO_BENEFICIARIO RACA_BENEFICIARIO ANO_NASCIMENTO_BENEFICIARIO  \\\n",
       "42231                  F             Preta                  29/01/2000   \n",
       "25358                  M             Preta                  06/03/1983   \n",
       "230374                 M             Preta                  28/09/1999   \n",
       "195234                 M            Branca                  04/11/1996   \n",
       "128667                 F            Branca                  03/08/1998   \n",
       "\n",
       "       BENEFICIARIO_DEFICIENTE_FISICO REGIAO_BENEFICIARIO UF_BENEFICIARIO  \n",
       "42231                               N             Sudeste              SP  \n",
       "25358                               S        Centro-Oeste              GO  \n",
       "230374                              N            Nordeste              PE  \n",
       "195234                              N            Nordeste              PE  \n",
       "128667                              N             Sudeste              MG  "
      ]
     },
     "execution_count": 10,
     "metadata": {},
     "output_type": "execute_result"
    }
   ],
   "source": [
    "df.sample(5)"
   ]
  },
  {
   "cell_type": "markdown",
   "metadata": {},
   "source": [
    "### Renomeando variáveis"
   ]
  },
  {
   "cell_type": "code",
   "execution_count": 11,
   "metadata": {},
   "outputs": [],
   "source": [
    "df.loc[(df['MODALIDADE_ENSINO'] == 'EAD'), 'MODALIDADE_ENSINO'] = 'EDUCAÇÃO A DISTÂNCIA'\n",
    "df.loc[(df['SEXO_BENEFICIARIO'] == 'M'), 'SEXO_BENEFICIARIO'] = 'Masculino'\n",
    "df.loc[(df['SEXO_BENEFICIARIO'] == 'F'), 'SEXO_BENEFICIARIO'] = 'Feminino'\n",
    "df.loc[(df['BENEFICIARIO_DEFICIENTE_FISICO'] == 'S'), 'BENEFICIARIO_DEFICIENTE_FISICO'] = 'SIM'\n",
    "df.loc[(df['BENEFICIARIO_DEFICIENTE_FISICO'] == 'N'), 'BENEFICIARIO_DEFICIENTE_FISICO'] = 'NÃO'"
   ]
  },
  {
   "cell_type": "markdown",
   "metadata": {},
   "source": [
    "### Tranformando letras minúsculas em letras maiúsculas"
   ]
  },
  {
   "cell_type": "code",
   "execution_count": 12,
   "metadata": {},
   "outputs": [],
   "source": [
    "df['MODALIDADE_ENSINO'] = df['MODALIDADE_ENSINO'].str.upper()\n",
    "df['REGIAO_BENEFICIARIO'] = df['REGIAO_BENEFICIARIO'].str.upper()"
   ]
  },
  {
   "cell_type": "markdown",
   "metadata": {},
   "source": [
    "### Descobrindo a idade aproximada* dos beneficiários\n",
    "\n",
    "é aproximada, pois o dataframe não menciona qual semestre do ano o beneficiário foi contemplado pela bolsa."
   ]
  },
  {
   "cell_type": "markdown",
   "metadata": {},
   "source": [
    "-> Criar uma nova coluna IDADE_APROX_BENEFICIARIO para calcular a idade aproximada deles\n",
    "\n",
    "-> Alterar o formato da coluna DT_NASCIMENTO_BENEFICIARIO Para Y\n",
    "\n",
    "-> Calcular com base na coluna ANO_CONCESSAO a idade aproximada do beneficiário"
   ]
  },
  {
   "cell_type": "code",
   "execution_count": 13,
   "metadata": {},
   "outputs": [
    {
     "data": {
      "text/html": [
       "<div>\n",
       "<style scoped>\n",
       "    .dataframe tbody tr th:only-of-type {\n",
       "        vertical-align: middle;\n",
       "    }\n",
       "\n",
       "    .dataframe tbody tr th {\n",
       "        vertical-align: top;\n",
       "    }\n",
       "\n",
       "    .dataframe thead th {\n",
       "        text-align: right;\n",
       "    }\n",
       "</style>\n",
       "<table border=\"1\" class=\"dataframe\">\n",
       "  <thead>\n",
       "    <tr style=\"text-align: right;\">\n",
       "      <th></th>\n",
       "      <th>ANO_CONCESSAO</th>\n",
       "      <th>CODIGO_IES</th>\n",
       "      <th>NOME_IES</th>\n",
       "      <th>TIPO_BOLSA</th>\n",
       "      <th>MODALIDADE_ENSINO</th>\n",
       "      <th>NOME_CURSO</th>\n",
       "      <th>TURNO_CURSO</th>\n",
       "      <th>SEXO_BENEFICIARIO</th>\n",
       "      <th>RACA_BENEFICIARIO</th>\n",
       "      <th>ANO_NASCIMENTO_BENEFICIARIO</th>\n",
       "      <th>IDADE_APROX_BENEFICIARIO</th>\n",
       "      <th>BENEFICIARIO_DEFICIENTE_FISICO</th>\n",
       "      <th>REGIAO_BENEFICIARIO</th>\n",
       "      <th>UF_BENEFICIARIO</th>\n",
       "    </tr>\n",
       "  </thead>\n",
       "  <tbody>\n",
       "    <tr>\n",
       "      <th>0</th>\n",
       "      <td>2018</td>\n",
       "      <td>11</td>\n",
       "      <td>UNIVERSIDADE CATÓLICA DE PERNAMBUCO</td>\n",
       "      <td>BOLSA INTEGRAL</td>\n",
       "      <td>PRESENCIAL</td>\n",
       "      <td>Letras - Espanhol</td>\n",
       "      <td>Noturno</td>\n",
       "      <td>Feminino</td>\n",
       "      <td>Parda</td>\n",
       "      <td>15/07/1980</td>\n",
       "      <td>10</td>\n",
       "      <td>NÃO</td>\n",
       "      <td>NORDESTE</td>\n",
       "      <td>PE</td>\n",
       "    </tr>\n",
       "  </tbody>\n",
       "</table>\n",
       "</div>"
      ],
      "text/plain": [
       "   ANO_CONCESSAO  CODIGO_IES                             NOME_IES  \\\n",
       "0           2018          11  UNIVERSIDADE CATÓLICA DE PERNAMBUCO   \n",
       "\n",
       "       TIPO_BOLSA MODALIDADE_ENSINO         NOME_CURSO TURNO_CURSO  \\\n",
       "0  BOLSA INTEGRAL        PRESENCIAL  Letras - Espanhol     Noturno   \n",
       "\n",
       "  SEXO_BENEFICIARIO RACA_BENEFICIARIO ANO_NASCIMENTO_BENEFICIARIO  \\\n",
       "0          Feminino             Parda                  15/07/1980   \n",
       "\n",
       "   IDADE_APROX_BENEFICIARIO BENEFICIARIO_DEFICIENTE_FISICO  \\\n",
       "0                        10                            NÃO   \n",
       "\n",
       "  REGIAO_BENEFICIARIO UF_BENEFICIARIO  \n",
       "0            NORDESTE              PE  "
      ]
     },
     "execution_count": 13,
     "metadata": {},
     "output_type": "execute_result"
    }
   ],
   "source": [
    "df.insert(loc=10, column='IDADE_APROX_BENEFICIARIO', value=10)\n",
    "df.head(1)"
   ]
  },
  {
   "cell_type": "code",
   "execution_count": 14,
   "metadata": {},
   "outputs": [
    {
     "name": "stdout",
     "output_type": "stream",
     "text": [
      "0         1980\n",
      "1         2000\n",
      "2         1998\n",
      "3         1999\n",
      "4         2000\n",
      "          ... \n",
      "241027    1997\n",
      "241028    1989\n",
      "241029    1995\n",
      "241030    1999\n",
      "241031    1994\n",
      "Name: ANO_NASCIMENTO_BENEFICIARIO, Length: 241032, dtype: int64\n"
     ]
    }
   ],
   "source": [
    "df['ANO_NASCIMENTO_BENEFICIARIO'] = pd.to_datetime(df['ANO_NASCIMENTO_BENEFICIARIO']).dt.year\n",
    "print(df['ANO_NASCIMENTO_BENEFICIARIO'])"
   ]
  },
  {
   "cell_type": "code",
   "execution_count": 15,
   "metadata": {},
   "outputs": [
    {
     "data": {
      "text/html": [
       "<div>\n",
       "<style scoped>\n",
       "    .dataframe tbody tr th:only-of-type {\n",
       "        vertical-align: middle;\n",
       "    }\n",
       "\n",
       "    .dataframe tbody tr th {\n",
       "        vertical-align: top;\n",
       "    }\n",
       "\n",
       "    .dataframe thead th {\n",
       "        text-align: right;\n",
       "    }\n",
       "</style>\n",
       "<table border=\"1\" class=\"dataframe\">\n",
       "  <thead>\n",
       "    <tr style=\"text-align: right;\">\n",
       "      <th></th>\n",
       "      <th>ANO_CONCESSAO</th>\n",
       "      <th>CODIGO_IES</th>\n",
       "      <th>NOME_IES</th>\n",
       "      <th>TIPO_BOLSA</th>\n",
       "      <th>MODALIDADE_ENSINO</th>\n",
       "      <th>NOME_CURSO</th>\n",
       "      <th>TURNO_CURSO</th>\n",
       "      <th>SEXO_BENEFICIARIO</th>\n",
       "      <th>RACA_BENEFICIARIO</th>\n",
       "      <th>ANO_NASCIMENTO_BENEFICIARIO</th>\n",
       "      <th>IDADE_APROX_BENEFICIARIO</th>\n",
       "      <th>BENEFICIARIO_DEFICIENTE_FISICO</th>\n",
       "      <th>REGIAO_BENEFICIARIO</th>\n",
       "      <th>UF_BENEFICIARIO</th>\n",
       "    </tr>\n",
       "  </thead>\n",
       "  <tbody>\n",
       "    <tr>\n",
       "      <th>131041</th>\n",
       "      <td>2018</td>\n",
       "      <td>3786</td>\n",
       "      <td>FACULDADE DE ENSINO DE MINAS GERAIS</td>\n",
       "      <td>BOLSA INTEGRAL</td>\n",
       "      <td>PRESENCIAL</td>\n",
       "      <td>Educação Física</td>\n",
       "      <td>Noturno</td>\n",
       "      <td>Feminino</td>\n",
       "      <td>Preta</td>\n",
       "      <td>1984</td>\n",
       "      <td>34</td>\n",
       "      <td>NÃO</td>\n",
       "      <td>SUDESTE</td>\n",
       "      <td>MG</td>\n",
       "    </tr>\n",
       "    <tr>\n",
       "      <th>190317</th>\n",
       "      <td>2018</td>\n",
       "      <td>823</td>\n",
       "      <td>UNIVERSIDADE CEUMA</td>\n",
       "      <td>BOLSA PARCIAL 50%</td>\n",
       "      <td>PRESENCIAL</td>\n",
       "      <td>Fonoaudiologia</td>\n",
       "      <td>Matutino</td>\n",
       "      <td>Feminino</td>\n",
       "      <td>Branca</td>\n",
       "      <td>2000</td>\n",
       "      <td>18</td>\n",
       "      <td>NÃO</td>\n",
       "      <td>NORDESTE</td>\n",
       "      <td>MA</td>\n",
       "    </tr>\n",
       "    <tr>\n",
       "      <th>88166</th>\n",
       "      <td>2018</td>\n",
       "      <td>1491</td>\n",
       "      <td>CENTRO UNIVERSITÁRIO INTERNACIONAL</td>\n",
       "      <td>BOLSA PARCIAL 50%</td>\n",
       "      <td>EDUCAÇÃO A DISTÂNCIA</td>\n",
       "      <td>Curso Superior De Tecnologia Em Gestão Pública...</td>\n",
       "      <td>Curso a distância</td>\n",
       "      <td>Feminino</td>\n",
       "      <td>Branca</td>\n",
       "      <td>1997</td>\n",
       "      <td>21</td>\n",
       "      <td>NÃO</td>\n",
       "      <td>SUDESTE</td>\n",
       "      <td>MG</td>\n",
       "    </tr>\n",
       "  </tbody>\n",
       "</table>\n",
       "</div>"
      ],
      "text/plain": [
       "        ANO_CONCESSAO  CODIGO_IES                             NOME_IES  \\\n",
       "131041           2018        3786  FACULDADE DE ENSINO DE MINAS GERAIS   \n",
       "190317           2018         823                   UNIVERSIDADE CEUMA   \n",
       "88166            2018        1491   CENTRO UNIVERSITÁRIO INTERNACIONAL   \n",
       "\n",
       "               TIPO_BOLSA     MODALIDADE_ENSINO  \\\n",
       "131041     BOLSA INTEGRAL            PRESENCIAL   \n",
       "190317  BOLSA PARCIAL 50%            PRESENCIAL   \n",
       "88166   BOLSA PARCIAL 50%  EDUCAÇÃO A DISTÂNCIA   \n",
       "\n",
       "                                               NOME_CURSO        TURNO_CURSO  \\\n",
       "131041                                    Educação Física            Noturno   \n",
       "190317                                     Fonoaudiologia           Matutino   \n",
       "88166   Curso Superior De Tecnologia Em Gestão Pública...  Curso a distância   \n",
       "\n",
       "       SEXO_BENEFICIARIO RACA_BENEFICIARIO  ANO_NASCIMENTO_BENEFICIARIO  \\\n",
       "131041          Feminino             Preta                         1984   \n",
       "190317          Feminino            Branca                         2000   \n",
       "88166           Feminino            Branca                         1997   \n",
       "\n",
       "        IDADE_APROX_BENEFICIARIO BENEFICIARIO_DEFICIENTE_FISICO  \\\n",
       "131041                        34                            NÃO   \n",
       "190317                        18                            NÃO   \n",
       "88166                         21                            NÃO   \n",
       "\n",
       "       REGIAO_BENEFICIARIO UF_BENEFICIARIO  \n",
       "131041             SUDESTE              MG  \n",
       "190317            NORDESTE              MA  \n",
       "88166              SUDESTE              MG  "
      ]
     },
     "execution_count": 15,
     "metadata": {},
     "output_type": "execute_result"
    }
   ],
   "source": [
    "df['IDADE_APROX_BENEFICIARIO'] = df['ANO_CONCESSAO'] - df['ANO_NASCIMENTO_BENEFICIARIO']\n",
    "df.sample(3)"
   ]
  },
  {
   "cell_type": "markdown",
   "metadata": {},
   "source": [
    "### Criando intervalos em que se agrupam pessoas de idade aproximada"
   ]
  },
  {
   "cell_type": "markdown",
   "metadata": {},
   "source": [
    "-> Criar uma nova coluna FAIXA_ETA_BENEFICIARIO\n",
    "\n",
    "-> Popular a coluna seguindo os seguintes critérios:\n",
    "\n",
    "    Menos de 18 anos\n",
    "    De 18 a 24 anos\n",
    "    De 24 a 30 anos\n",
    "    De 30 a 36 anos\n",
    "    De 36 a 48 anos\n",
    "    De 48 a 60 anos\n",
    "    Mais de 60 anos"
   ]
  },
  {
   "cell_type": "code",
   "execution_count": 16,
   "metadata": {},
   "outputs": [],
   "source": [
    "df.insert(loc=11, column='FAIXA_ETA_BENEFICIARIO', value='Idade')"
   ]
  },
  {
   "cell_type": "code",
   "execution_count": 17,
   "metadata": {},
   "outputs": [
    {
     "data": {
      "text/html": [
       "<div>\n",
       "<style scoped>\n",
       "    .dataframe tbody tr th:only-of-type {\n",
       "        vertical-align: middle;\n",
       "    }\n",
       "\n",
       "    .dataframe tbody tr th {\n",
       "        vertical-align: top;\n",
       "    }\n",
       "\n",
       "    .dataframe thead th {\n",
       "        text-align: right;\n",
       "    }\n",
       "</style>\n",
       "<table border=\"1\" class=\"dataframe\">\n",
       "  <thead>\n",
       "    <tr style=\"text-align: right;\">\n",
       "      <th></th>\n",
       "      <th>ANO_CONCESSAO</th>\n",
       "      <th>CODIGO_IES</th>\n",
       "      <th>NOME_IES</th>\n",
       "      <th>TIPO_BOLSA</th>\n",
       "      <th>MODALIDADE_ENSINO</th>\n",
       "      <th>NOME_CURSO</th>\n",
       "      <th>TURNO_CURSO</th>\n",
       "      <th>SEXO_BENEFICIARIO</th>\n",
       "      <th>RACA_BENEFICIARIO</th>\n",
       "      <th>ANO_NASCIMENTO_BENEFICIARIO</th>\n",
       "      <th>IDADE_APROX_BENEFICIARIO</th>\n",
       "      <th>FAIXA_ETA_BENEFICIARIO</th>\n",
       "      <th>BENEFICIARIO_DEFICIENTE_FISICO</th>\n",
       "      <th>REGIAO_BENEFICIARIO</th>\n",
       "      <th>UF_BENEFICIARIO</th>\n",
       "    </tr>\n",
       "  </thead>\n",
       "  <tbody>\n",
       "    <tr>\n",
       "      <th>0</th>\n",
       "      <td>2018</td>\n",
       "      <td>11</td>\n",
       "      <td>UNIVERSIDADE CATÓLICA DE PERNAMBUCO</td>\n",
       "      <td>BOLSA INTEGRAL</td>\n",
       "      <td>PRESENCIAL</td>\n",
       "      <td>Letras - Espanhol</td>\n",
       "      <td>Noturno</td>\n",
       "      <td>Feminino</td>\n",
       "      <td>Parda</td>\n",
       "      <td>1980</td>\n",
       "      <td>38</td>\n",
       "      <td>Idade</td>\n",
       "      <td>NÃO</td>\n",
       "      <td>NORDESTE</td>\n",
       "      <td>PE</td>\n",
       "    </tr>\n",
       "    <tr>\n",
       "      <th>1</th>\n",
       "      <td>2018</td>\n",
       "      <td>11</td>\n",
       "      <td>UNIVERSIDADE CATÓLICA DE PERNAMBUCO</td>\n",
       "      <td>BOLSA INTEGRAL</td>\n",
       "      <td>PRESENCIAL</td>\n",
       "      <td>Letras - Português E Espanhol</td>\n",
       "      <td>Noturno</td>\n",
       "      <td>Masculino</td>\n",
       "      <td>Branca</td>\n",
       "      <td>2000</td>\n",
       "      <td>18</td>\n",
       "      <td>Idade</td>\n",
       "      <td>NÃO</td>\n",
       "      <td>NORDESTE</td>\n",
       "      <td>PE</td>\n",
       "    </tr>\n",
       "    <tr>\n",
       "      <th>2</th>\n",
       "      <td>2018</td>\n",
       "      <td>11</td>\n",
       "      <td>UNIVERSIDADE CATÓLICA DE PERNAMBUCO</td>\n",
       "      <td>BOLSA INTEGRAL</td>\n",
       "      <td>PRESENCIAL</td>\n",
       "      <td>Psicologia</td>\n",
       "      <td>Vespertino</td>\n",
       "      <td>Feminino</td>\n",
       "      <td>Parda</td>\n",
       "      <td>1998</td>\n",
       "      <td>20</td>\n",
       "      <td>Idade</td>\n",
       "      <td>NÃO</td>\n",
       "      <td>NORDESTE</td>\n",
       "      <td>PE</td>\n",
       "    </tr>\n",
       "    <tr>\n",
       "      <th>3</th>\n",
       "      <td>2018</td>\n",
       "      <td>11</td>\n",
       "      <td>UNIVERSIDADE CATÓLICA DE PERNAMBUCO</td>\n",
       "      <td>BOLSA INTEGRAL</td>\n",
       "      <td>PRESENCIAL</td>\n",
       "      <td>Serviço Social</td>\n",
       "      <td>Noturno</td>\n",
       "      <td>Feminino</td>\n",
       "      <td>Parda</td>\n",
       "      <td>1999</td>\n",
       "      <td>19</td>\n",
       "      <td>Idade</td>\n",
       "      <td>NÃO</td>\n",
       "      <td>NORDESTE</td>\n",
       "      <td>PE</td>\n",
       "    </tr>\n",
       "    <tr>\n",
       "      <th>4</th>\n",
       "      <td>2018</td>\n",
       "      <td>13</td>\n",
       "      <td>UNIVERSIDADE DE CAXIAS DO SUL</td>\n",
       "      <td>BOLSA INTEGRAL</td>\n",
       "      <td>EDUCAÇÃO A DISTÂNCIA</td>\n",
       "      <td>Administração</td>\n",
       "      <td>Curso a distância</td>\n",
       "      <td>Feminino</td>\n",
       "      <td>Branca</td>\n",
       "      <td>2000</td>\n",
       "      <td>18</td>\n",
       "      <td>Idade</td>\n",
       "      <td>NÃO</td>\n",
       "      <td>SUL</td>\n",
       "      <td>RS</td>\n",
       "    </tr>\n",
       "  </tbody>\n",
       "</table>\n",
       "</div>"
      ],
      "text/plain": [
       "   ANO_CONCESSAO  CODIGO_IES                             NOME_IES  \\\n",
       "0           2018          11  UNIVERSIDADE CATÓLICA DE PERNAMBUCO   \n",
       "1           2018          11  UNIVERSIDADE CATÓLICA DE PERNAMBUCO   \n",
       "2           2018          11  UNIVERSIDADE CATÓLICA DE PERNAMBUCO   \n",
       "3           2018          11  UNIVERSIDADE CATÓLICA DE PERNAMBUCO   \n",
       "4           2018          13        UNIVERSIDADE DE CAXIAS DO SUL   \n",
       "\n",
       "       TIPO_BOLSA     MODALIDADE_ENSINO                     NOME_CURSO  \\\n",
       "0  BOLSA INTEGRAL            PRESENCIAL              Letras - Espanhol   \n",
       "1  BOLSA INTEGRAL            PRESENCIAL  Letras - Português E Espanhol   \n",
       "2  BOLSA INTEGRAL            PRESENCIAL                     Psicologia   \n",
       "3  BOLSA INTEGRAL            PRESENCIAL                 Serviço Social   \n",
       "4  BOLSA INTEGRAL  EDUCAÇÃO A DISTÂNCIA                  Administração   \n",
       "\n",
       "         TURNO_CURSO SEXO_BENEFICIARIO RACA_BENEFICIARIO  \\\n",
       "0            Noturno          Feminino             Parda   \n",
       "1            Noturno         Masculino            Branca   \n",
       "2         Vespertino          Feminino             Parda   \n",
       "3            Noturno          Feminino             Parda   \n",
       "4  Curso a distância          Feminino            Branca   \n",
       "\n",
       "   ANO_NASCIMENTO_BENEFICIARIO  IDADE_APROX_BENEFICIARIO  \\\n",
       "0                         1980                        38   \n",
       "1                         2000                        18   \n",
       "2                         1998                        20   \n",
       "3                         1999                        19   \n",
       "4                         2000                        18   \n",
       "\n",
       "  FAIXA_ETA_BENEFICIARIO BENEFICIARIO_DEFICIENTE_FISICO REGIAO_BENEFICIARIO  \\\n",
       "0                  Idade                            NÃO            NORDESTE   \n",
       "1                  Idade                            NÃO            NORDESTE   \n",
       "2                  Idade                            NÃO            NORDESTE   \n",
       "3                  Idade                            NÃO            NORDESTE   \n",
       "4                  Idade                            NÃO                 SUL   \n",
       "\n",
       "  UF_BENEFICIARIO  \n",
       "0              PE  \n",
       "1              PE  \n",
       "2              PE  \n",
       "3              PE  \n",
       "4              RS  "
      ]
     },
     "execution_count": 17,
     "metadata": {},
     "output_type": "execute_result"
    }
   ],
   "source": [
    "df.head()"
   ]
  },
  {
   "cell_type": "code",
   "execution_count": 18,
   "metadata": {},
   "outputs": [],
   "source": [
    "for i in range(len (df)): \n",
    "    if (df.loc[i, 'IDADE_APROX_BENEFICIARIO'] > 0) & (df.loc[i, 'IDADE_APROX_BENEFICIARIO'] < 18):\n",
    "        df.loc[i, 'FAIXA_ETA_BENEFICIARIO'] = 'Menos de 18 anos'\n",
    "    \n",
    "    elif (df.loc[i, 'IDADE_APROX_BENEFICIARIO'] >= 18) & (df.loc[i, 'IDADE_APROX_BENEFICIARIO'] < 24):\n",
    "        df.loc[i, 'FAIXA_ETA_BENEFICIARIO'] = 'De 18 a 24 anos'\n",
    "    \n",
    "    elif (df.loc[i, 'IDADE_APROX_BENEFICIARIO'] >= 24) & (df.loc[i, 'IDADE_APROX_BENEFICIARIO'] < 30):\n",
    "        df.loc[i, 'FAIXA_ETA_BENEFICIARIO'] = 'De 24 a 30 anos'\n",
    "    \n",
    "    elif (df.loc[i, 'IDADE_APROX_BENEFICIARIO'] >= 30) & (df.loc[i, 'IDADE_APROX_BENEFICIARIO'] < 36):\n",
    "        df.loc[i, 'FAIXA_ETA_BENEFICIARIO'] = 'De 30 a 36 anos'\n",
    "    \n",
    "    elif (df.loc[i, 'IDADE_APROX_BENEFICIARIO'] >= 36) & (df.loc[i, 'IDADE_APROX_BENEFICIARIO'] < 48):\n",
    "        df.loc[i, 'FAIXA_ETA_BENEFICIARIO'] = 'De 36 a 48 anos'\n",
    "    \n",
    "    elif (df.loc[i, 'IDADE_APROX_BENEFICIARIO'] >= 48) & (df.loc[i, 'IDADE_APROX_BENEFICIARIO'] < 60):\n",
    "        df.loc[i, 'FAIXA_ETA_BENEFICIARIO'] = 'De 48 a 60 anos'\n",
    "    \n",
    "    else:\n",
    "        df.loc[i, 'FAIXA_ETA_BENEFICIARIO'] = 'Mais de 60 anos'"
   ]
  },
  {
   "cell_type": "code",
   "execution_count": 19,
   "metadata": {},
   "outputs": [
    {
     "data": {
      "text/html": [
       "<div>\n",
       "<style scoped>\n",
       "    .dataframe tbody tr th:only-of-type {\n",
       "        vertical-align: middle;\n",
       "    }\n",
       "\n",
       "    .dataframe tbody tr th {\n",
       "        vertical-align: top;\n",
       "    }\n",
       "\n",
       "    .dataframe thead th {\n",
       "        text-align: right;\n",
       "    }\n",
       "</style>\n",
       "<table border=\"1\" class=\"dataframe\">\n",
       "  <thead>\n",
       "    <tr style=\"text-align: right;\">\n",
       "      <th></th>\n",
       "      <th>ANO_CONCESSAO</th>\n",
       "      <th>CODIGO_IES</th>\n",
       "      <th>NOME_IES</th>\n",
       "      <th>TIPO_BOLSA</th>\n",
       "      <th>MODALIDADE_ENSINO</th>\n",
       "      <th>NOME_CURSO</th>\n",
       "      <th>TURNO_CURSO</th>\n",
       "      <th>SEXO_BENEFICIARIO</th>\n",
       "      <th>RACA_BENEFICIARIO</th>\n",
       "      <th>ANO_NASCIMENTO_BENEFICIARIO</th>\n",
       "      <th>IDADE_APROX_BENEFICIARIO</th>\n",
       "      <th>FAIXA_ETA_BENEFICIARIO</th>\n",
       "      <th>BENEFICIARIO_DEFICIENTE_FISICO</th>\n",
       "      <th>REGIAO_BENEFICIARIO</th>\n",
       "      <th>UF_BENEFICIARIO</th>\n",
       "    </tr>\n",
       "  </thead>\n",
       "  <tbody>\n",
       "    <tr>\n",
       "      <th>61018</th>\n",
       "      <td>2018</td>\n",
       "      <td>528</td>\n",
       "      <td>PONTIFÍCIA UNIVERSIDADE CATÓLICA DO RIO DE JAN...</td>\n",
       "      <td>BOLSA INTEGRAL</td>\n",
       "      <td>PRESENCIAL</td>\n",
       "      <td>Engenharia Química - Engenharia Química</td>\n",
       "      <td>Integral</td>\n",
       "      <td>Masculino</td>\n",
       "      <td>Branca</td>\n",
       "      <td>2000</td>\n",
       "      <td>18</td>\n",
       "      <td>De 18 a 24 anos</td>\n",
       "      <td>NÃO</td>\n",
       "      <td>SUDESTE</td>\n",
       "      <td>RJ</td>\n",
       "    </tr>\n",
       "  </tbody>\n",
       "</table>\n",
       "</div>"
      ],
      "text/plain": [
       "       ANO_CONCESSAO  CODIGO_IES  \\\n",
       "61018           2018         528   \n",
       "\n",
       "                                                NOME_IES      TIPO_BOLSA  \\\n",
       "61018  PONTIFÍCIA UNIVERSIDADE CATÓLICA DO RIO DE JAN...  BOLSA INTEGRAL   \n",
       "\n",
       "      MODALIDADE_ENSINO                               NOME_CURSO TURNO_CURSO  \\\n",
       "61018        PRESENCIAL  Engenharia Química - Engenharia Química    Integral   \n",
       "\n",
       "      SEXO_BENEFICIARIO RACA_BENEFICIARIO  ANO_NASCIMENTO_BENEFICIARIO  \\\n",
       "61018         Masculino            Branca                         2000   \n",
       "\n",
       "       IDADE_APROX_BENEFICIARIO FAIXA_ETA_BENEFICIARIO  \\\n",
       "61018                        18        De 18 a 24 anos   \n",
       "\n",
       "      BENEFICIARIO_DEFICIENTE_FISICO REGIAO_BENEFICIARIO UF_BENEFICIARIO  \n",
       "61018                            NÃO             SUDESTE              RJ  "
      ]
     },
     "execution_count": 19,
     "metadata": {},
     "output_type": "execute_result"
    }
   ],
   "source": [
    "df.sample()"
   ]
  },
  {
   "cell_type": "markdown",
   "metadata": {},
   "source": [
    "# Análisando os dados"
   ]
  },
  {
   "cell_type": "markdown",
   "metadata": {},
   "source": [
    "### Tipos de bolsas"
   ]
  },
  {
   "cell_type": "code",
   "execution_count": 20,
   "metadata": {},
   "outputs": [
    {
     "data": {
      "text/plain": [
       "BOLSA INTEGRAL       161571\n",
       "BOLSA PARCIAL 50%     79461\n",
       "Name: TIPO_BOLSA, dtype: int64"
      ]
     },
     "execution_count": 20,
     "metadata": {},
     "output_type": "execute_result"
    }
   ],
   "source": [
    "df['TIPO_BOLSA'].value_counts()"
   ]
  },
  {
   "cell_type": "markdown",
   "metadata": {},
   "source": [
    "### Modalidade de ensino"
   ]
  },
  {
   "cell_type": "code",
   "execution_count": 21,
   "metadata": {},
   "outputs": [
    {
     "data": {
      "text/plain": [
       "PRESENCIAL              183702\n",
       "EDUCAÇÃO A DISTÂNCIA     57330\n",
       "Name: MODALIDADE_ENSINO, dtype: int64"
      ]
     },
     "execution_count": 21,
     "metadata": {},
     "output_type": "execute_result"
    }
   ],
   "source": [
    "df['MODALIDADE_ENSINO'].value_counts()"
   ]
  },
  {
   "cell_type": "markdown",
   "metadata": {},
   "source": [
    "### Top 10 - Cursos"
   ]
  },
  {
   "cell_type": "code",
   "execution_count": 22,
   "metadata": {},
   "outputs": [
    {
     "data": {
      "text/plain": [
       "Direito                       17363\n",
       "Administração                 17184\n",
       "Pedagogia                     16830\n",
       "Ciências Contábeis            10797\n",
       "Enfermagem                    10310\n",
       "Educação Física                8599\n",
       "Engenharia Civil               7806\n",
       "Psicologia                     6996\n",
       "Gestão De Recursos Humanos     5766\n",
       "Fisioterapia                   5540\n",
       "Name: NOME_CURSO, dtype: int64"
      ]
     },
     "execution_count": 22,
     "metadata": {},
     "output_type": "execute_result"
    }
   ],
   "source": [
    "df['NOME_CURSO'].value_counts().head(10)"
   ]
  },
  {
   "cell_type": "markdown",
   "metadata": {},
   "source": [
    "### Turno predominante"
   ]
  },
  {
   "cell_type": "code",
   "execution_count": 23,
   "metadata": {},
   "outputs": [
    {
     "data": {
      "text/plain": [
       "Noturno              128722\n",
       "Curso a distância     57330\n",
       "Matutino              42914\n",
       "Integral               6638\n",
       "Vespertino             5428\n",
       "Name: TURNO_CURSO, dtype: int64"
      ]
     },
     "execution_count": 23,
     "metadata": {},
     "output_type": "execute_result"
    }
   ],
   "source": [
    "df['TURNO_CURSO'].value_counts()"
   ]
  },
  {
   "cell_type": "markdown",
   "metadata": {},
   "source": [
    "### Sexo do beneficiários"
   ]
  },
  {
   "cell_type": "code",
   "execution_count": 24,
   "metadata": {},
   "outputs": [
    {
     "data": {
      "text/plain": [
       "Feminino     136029\n",
       "Masculino    105003\n",
       "Name: SEXO_BENEFICIARIO, dtype: int64"
      ]
     },
     "execution_count": 24,
     "metadata": {},
     "output_type": "execute_result"
    }
   ],
   "source": [
    "df['SEXO_BENEFICIARIO'].value_counts()"
   ]
  },
  {
   "cell_type": "markdown",
   "metadata": {},
   "source": [
    "### Raça dos beneficiários"
   ]
  },
  {
   "cell_type": "code",
   "execution_count": 25,
   "metadata": {},
   "outputs": [
    {
     "data": {
      "text/plain": [
       "Parda            112148\n",
       "Branca            93254\n",
       "Preta             31239\n",
       "Amarela            4165\n",
       "Indígena            204\n",
       "Não Informada        22\n",
       "Name: RACA_BENEFICIARIO, dtype: int64"
      ]
     },
     "execution_count": 25,
     "metadata": {},
     "output_type": "execute_result"
    }
   ],
   "source": [
    "df['RACA_BENEFICIARIO'].value_counts()"
   ]
  },
  {
   "cell_type": "markdown",
   "metadata": {},
   "source": [
    "### Faixa etária dos beneficiários"
   ]
  },
  {
   "cell_type": "code",
   "execution_count": 26,
   "metadata": {},
   "outputs": [
    {
     "data": {
      "text/plain": [
       "De 18 a 24 anos     160129\n",
       "De 24 a 30 anos      42607\n",
       "De 30 a 36 anos      18915\n",
       "De 36 a 48 anos      14217\n",
       "De 48 a 60 anos       2547\n",
       "Menos de 18 anos      2458\n",
       "Mais de 60 anos        159\n",
       "Name: FAIXA_ETA_BENEFICIARIO, dtype: int64"
      ]
     },
     "execution_count": 26,
     "metadata": {},
     "output_type": "execute_result"
    }
   ],
   "source": [
    "df['FAIXA_ETA_BENEFICIARIO'].value_counts()"
   ]
  },
  {
   "cell_type": "markdown",
   "metadata": {},
   "source": [
    "### Beneficiários deficientes físicos"
   ]
  },
  {
   "cell_type": "code",
   "execution_count": 27,
   "metadata": {},
   "outputs": [
    {
     "data": {
      "text/plain": [
       "NÃO    239444\n",
       "SIM      1588\n",
       "Name: BENEFICIARIO_DEFICIENTE_FISICO, dtype: int64"
      ]
     },
     "execution_count": 27,
     "metadata": {},
     "output_type": "execute_result"
    }
   ],
   "source": [
    "df['BENEFICIARIO_DEFICIENTE_FISICO'].value_counts()"
   ]
  },
  {
   "cell_type": "markdown",
   "metadata": {},
   "source": [
    "### Região x Bolsas"
   ]
  },
  {
   "cell_type": "code",
   "execution_count": 28,
   "metadata": {},
   "outputs": [
    {
     "data": {
      "text/plain": [
       "SUDESTE         104006\n",
       "NORDESTE         53163\n",
       "SUL              43458\n",
       "CENTRO-OESTE     22064\n",
       "NORTE            18341\n",
       "Name: REGIAO_BENEFICIARIO, dtype: int64"
      ]
     },
     "execution_count": 28,
     "metadata": {},
     "output_type": "execute_result"
    }
   ],
   "source": [
    "df['REGIAO_BENEFICIARIO'].value_counts()"
   ]
  },
  {
   "cell_type": "markdown",
   "metadata": {},
   "source": [
    "### Top 5 - UF's x Bolsas"
   ]
  },
  {
   "cell_type": "code",
   "execution_count": 29,
   "metadata": {},
   "outputs": [
    {
     "data": {
      "text/plain": [
       "SP    60713\n",
       "MG    28759\n",
       "RS    21050\n",
       "PR    16077\n",
       "BA    14498\n",
       "Name: UF_BENEFICIARIO, dtype: int64"
      ]
     },
     "execution_count": 29,
     "metadata": {},
     "output_type": "execute_result"
    }
   ],
   "source": [
    "df['UF_BENEFICIARIO'].value_counts().head()"
   ]
  },
  {
   "cell_type": "markdown",
   "metadata": {},
   "source": [
    "### Top 10 - IE's x Bolsas"
   ]
  },
  {
   "cell_type": "code",
   "execution_count": 30,
   "metadata": {},
   "outputs": [
    {
     "data": {
      "text/plain": [
       "UNIVERSIDADE PAULISTA                               16632\n",
       "CENTRO UNIVERSITÁRIO INTERNACIONAL                  13206\n",
       "UNIVERSIDADE PITÁGORAS UNOPAR                        9595\n",
       "UNIVERSIDADE LUTERANA DO BRASIL                      7318\n",
       "UNIVERSIDADE ANHANGUERA                              5212\n",
       "UNIVERSIDADE NOVE DE JULHO                           5069\n",
       "PONTIFÍCIA UNIVERSIDADE CATÓLICA DE MINAS GERAIS     4354\n",
       "UNIVERSIDADE CEUMA                                   3571\n",
       "UNIVERSIDADE CRUZEIRO DO SUL                         2953\n",
       "UNIVERSIDADE ESTÁCIO DE SÁ                           2857\n",
       "Name: NOME_IES, dtype: int64"
      ]
     },
     "execution_count": 30,
     "metadata": {},
     "output_type": "execute_result"
    }
   ],
   "source": [
    "df['NOME_IES'].value_counts().head(10)"
   ]
  },
  {
   "cell_type": "markdown",
   "metadata": {},
   "source": [
    "## Criando um novo arquivo csv"
   ]
  },
  {
   "cell_type": "code",
   "execution_count": 31,
   "metadata": {},
   "outputs": [],
   "source": [
    "df_novo = df"
   ]
  },
  {
   "cell_type": "code",
   "execution_count": 32,
   "metadata": {},
   "outputs": [],
   "source": [
    "df_novo.to_csv('N_Datasets/Novo_Prouni2018.csv', sep = ';', encoding = 'utf-8', index = False)"
   ]
  }
 ],
 "metadata": {
  "kernelspec": {
   "display_name": "Python 3",
   "language": "python",
   "name": "python3"
  },
  "language_info": {
   "codemirror_mode": {
    "name": "ipython",
    "version": 3
   },
   "file_extension": ".py",
   "mimetype": "text/x-python",
   "name": "python",
   "nbconvert_exporter": "python",
   "pygments_lexer": "ipython3",
   "version": "3.8.5"
  }
 },
 "nbformat": 4,
 "nbformat_minor": 4
}
