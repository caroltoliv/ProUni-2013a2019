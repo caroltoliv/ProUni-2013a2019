{
 "cells": [
  {
   "cell_type": "markdown",
   "metadata": {},
   "source": [
    "# Análise de Dados - Prouni 2017\n",
    "\n",
    "Conjunto de dados que apresenta as bolsas concedidas e o perfil dos beneficiários do ProUni de 2017.\n",
    "\n",
    "Os dados são disponibilizados pelo Site Dados Abertos (http://dadosabertos.mec.gov.br/prouni), em arquivo CSV."
   ]
  },
  {
   "cell_type": "code",
   "execution_count": 1,
   "metadata": {},
   "outputs": [],
   "source": [
    "import pandas as pd\n",
    "\n",
    "df = pd.read_csv('datasets/pda-prouni-2017.csv', sep = ';', encoding = 'utf-8')"
   ]
  },
  {
   "cell_type": "markdown",
   "metadata": {},
   "source": [
    "## Conhecendo o dataframe"
   ]
  },
  {
   "cell_type": "code",
   "execution_count": 2,
   "metadata": {},
   "outputs": [
    {
     "data": {
      "text/html": [
       "<div>\n",
       "<style scoped>\n",
       "    .dataframe tbody tr th:only-of-type {\n",
       "        vertical-align: middle;\n",
       "    }\n",
       "\n",
       "    .dataframe tbody tr th {\n",
       "        vertical-align: top;\n",
       "    }\n",
       "\n",
       "    .dataframe thead th {\n",
       "        text-align: right;\n",
       "    }\n",
       "</style>\n",
       "<table border=\"1\" class=\"dataframe\">\n",
       "  <thead>\n",
       "    <tr style=\"text-align: right;\">\n",
       "      <th></th>\n",
       "      <th>ANO_CONCESSAO_BOLSA</th>\n",
       "      <th>CODIGO_EMEC_IES_BOLSA</th>\n",
       "      <th>NOME_IES_BOLSA</th>\n",
       "      <th>TIPO_BOLSA</th>\n",
       "      <th>MODALIDADE_ENSINO_BOLSA</th>\n",
       "      <th>NOME_CURSO_BOLSA</th>\n",
       "      <th>NOME_TURNO_CURSO_BOLSA</th>\n",
       "      <th>CPF_BENEFICIARIO_BOLSA</th>\n",
       "      <th>SEXO_BENEFICIARIO_BOLSA</th>\n",
       "      <th>RACA_BENEFICIARIO_BOLSA</th>\n",
       "      <th>DT_NASCIMENTO_BENEFICIARIO</th>\n",
       "      <th>BENEFICIARIO_DEFICIENTE_FISICO</th>\n",
       "      <th>REGIAO_BENEFICIARIO_BOLSA</th>\n",
       "      <th>SIGLA_UF_BENEFICIARIO_BOLSA</th>\n",
       "      <th>MUNICIPIO_BENEFICIARIO_BOLSA</th>\n",
       "    </tr>\n",
       "  </thead>\n",
       "  <tbody>\n",
       "    <tr>\n",
       "      <th>209116</th>\n",
       "      <td>2017</td>\n",
       "      <td>1508</td>\n",
       "      <td>CENTRO UNIVERSITÁRIO METROPOLITANO DE MARINGÁ</td>\n",
       "      <td>BOLSA INTEGRAL</td>\n",
       "      <td>Presencial</td>\n",
       "      <td>Sistemas De Informação</td>\n",
       "      <td>Matutino</td>\n",
       "      <td>***93846903**</td>\n",
       "      <td>M</td>\n",
       "      <td>Branca</td>\n",
       "      <td>29/06/1999</td>\n",
       "      <td>N</td>\n",
       "      <td>Sul</td>\n",
       "      <td>PR</td>\n",
       "      <td>PARANAVAI</td>\n",
       "    </tr>\n",
       "    <tr>\n",
       "      <th>30491</th>\n",
       "      <td>2017</td>\n",
       "      <td>322</td>\n",
       "      <td>UNIVERSIDADE PAULISTA</td>\n",
       "      <td>BOLSA INTEGRAL</td>\n",
       "      <td>EAD</td>\n",
       "      <td>Pedagogia(Ead)</td>\n",
       "      <td>Curso a distância</td>\n",
       "      <td>***78498037**</td>\n",
       "      <td>F</td>\n",
       "      <td>Parda</td>\n",
       "      <td>12/06/1985</td>\n",
       "      <td>N</td>\n",
       "      <td>Sul</td>\n",
       "      <td>RS</td>\n",
       "      <td>CAMPO BOM</td>\n",
       "    </tr>\n",
       "    <tr>\n",
       "      <th>1525</th>\n",
       "      <td>2017</td>\n",
       "      <td>20</td>\n",
       "      <td>UNIVERSIDADE DE PASSO FUNDO</td>\n",
       "      <td>BOLSA PARCIAL 50%</td>\n",
       "      <td>Presencial</td>\n",
       "      <td>Administração</td>\n",
       "      <td>Noturno</td>\n",
       "      <td>***01098092**</td>\n",
       "      <td>F</td>\n",
       "      <td>Parda</td>\n",
       "      <td>29/10/1992</td>\n",
       "      <td>N</td>\n",
       "      <td>Sul</td>\n",
       "      <td>RS</td>\n",
       "      <td>ALMIRANTE TAMANDARE DO SUL</td>\n",
       "    </tr>\n",
       "    <tr>\n",
       "      <th>96129</th>\n",
       "      <td>2017</td>\n",
       "      <td>1490</td>\n",
       "      <td>CENTRO UNIVERSITÁRIO DE JAGUARIÚNA</td>\n",
       "      <td>BOLSA INTEGRAL</td>\n",
       "      <td>Presencial</td>\n",
       "      <td>Educação Física</td>\n",
       "      <td>Noturno</td>\n",
       "      <td>***81944823**</td>\n",
       "      <td>F</td>\n",
       "      <td>Parda</td>\n",
       "      <td>05/06/1998</td>\n",
       "      <td>N</td>\n",
       "      <td>Sudeste</td>\n",
       "      <td>SP</td>\n",
       "      <td>ARTUR NOGUEIRA</td>\n",
       "    </tr>\n",
       "    <tr>\n",
       "      <th>188051</th>\n",
       "      <td>2017</td>\n",
       "      <td>496</td>\n",
       "      <td>UNIVERSIDADE DE FRANCA</td>\n",
       "      <td>BOLSA PARCIAL 50%</td>\n",
       "      <td>Presencial</td>\n",
       "      <td>Comunicação Social - Publicidade E Propaganda</td>\n",
       "      <td>Noturno</td>\n",
       "      <td>***53973886**</td>\n",
       "      <td>M</td>\n",
       "      <td>Branca</td>\n",
       "      <td>27/04/1999</td>\n",
       "      <td>N</td>\n",
       "      <td>Sudeste</td>\n",
       "      <td>SP</td>\n",
       "      <td>FRANCA</td>\n",
       "    </tr>\n",
       "  </tbody>\n",
       "</table>\n",
       "</div>"
      ],
      "text/plain": [
       "        ANO_CONCESSAO_BOLSA  CODIGO_EMEC_IES_BOLSA  \\\n",
       "209116                 2017                   1508   \n",
       "30491                  2017                    322   \n",
       "1525                   2017                     20   \n",
       "96129                  2017                   1490   \n",
       "188051                 2017                    496   \n",
       "\n",
       "                                       NOME_IES_BOLSA         TIPO_BOLSA  \\\n",
       "209116  CENTRO UNIVERSITÁRIO METROPOLITANO DE MARINGÁ     BOLSA INTEGRAL   \n",
       "30491                           UNIVERSIDADE PAULISTA     BOLSA INTEGRAL   \n",
       "1525                      UNIVERSIDADE DE PASSO FUNDO  BOLSA PARCIAL 50%   \n",
       "96129              CENTRO UNIVERSITÁRIO DE JAGUARIÚNA     BOLSA INTEGRAL   \n",
       "188051                         UNIVERSIDADE DE FRANCA  BOLSA PARCIAL 50%   \n",
       "\n",
       "       MODALIDADE_ENSINO_BOLSA                               NOME_CURSO_BOLSA  \\\n",
       "209116              Presencial                         Sistemas De Informação   \n",
       "30491                      EAD                                 Pedagogia(Ead)   \n",
       "1525                Presencial                                  Administração   \n",
       "96129               Presencial                                Educação Física   \n",
       "188051              Presencial  Comunicação Social - Publicidade E Propaganda   \n",
       "\n",
       "       NOME_TURNO_CURSO_BOLSA CPF_BENEFICIARIO_BOLSA SEXO_BENEFICIARIO_BOLSA  \\\n",
       "209116               Matutino          ***93846903**                       M   \n",
       "30491       Curso a distância          ***78498037**                       F   \n",
       "1525                  Noturno          ***01098092**                       F   \n",
       "96129                 Noturno          ***81944823**                       F   \n",
       "188051                Noturno          ***53973886**                       M   \n",
       "\n",
       "       RACA_BENEFICIARIO_BOLSA DT_NASCIMENTO_BENEFICIARIO  \\\n",
       "209116                  Branca                 29/06/1999   \n",
       "30491                    Parda                 12/06/1985   \n",
       "1525                     Parda                 29/10/1992   \n",
       "96129                    Parda                 05/06/1998   \n",
       "188051                  Branca                 27/04/1999   \n",
       "\n",
       "       BENEFICIARIO_DEFICIENTE_FISICO REGIAO_BENEFICIARIO_BOLSA  \\\n",
       "209116                              N                       Sul   \n",
       "30491                               N                       Sul   \n",
       "1525                                N                       Sul   \n",
       "96129                               N                   Sudeste   \n",
       "188051                              N                   Sudeste   \n",
       "\n",
       "       SIGLA_UF_BENEFICIARIO_BOLSA MUNICIPIO_BENEFICIARIO_BOLSA  \n",
       "209116                          PR                    PARANAVAI  \n",
       "30491                           RS                    CAMPO BOM  \n",
       "1525                            RS   ALMIRANTE TAMANDARE DO SUL  \n",
       "96129                           SP               ARTUR NOGUEIRA  \n",
       "188051                          SP                       FRANCA  "
      ]
     },
     "execution_count": 2,
     "metadata": {},
     "output_type": "execute_result"
    }
   ],
   "source": [
    "df.sample(5)"
   ]
  },
  {
   "cell_type": "code",
   "execution_count": 3,
   "metadata": {},
   "outputs": [
    {
     "data": {
      "text/plain": [
       "(236636, 15)"
      ]
     },
     "execution_count": 3,
     "metadata": {},
     "output_type": "execute_result"
    }
   ],
   "source": [
    "df.shape"
   ]
  },
  {
   "cell_type": "code",
   "execution_count": 4,
   "metadata": {},
   "outputs": [
    {
     "data": {
      "text/plain": [
       "ANO_CONCESSAO_BOLSA                int64\n",
       "CODIGO_EMEC_IES_BOLSA              int64\n",
       "NOME_IES_BOLSA                    object\n",
       "TIPO_BOLSA                        object\n",
       "MODALIDADE_ENSINO_BOLSA           object\n",
       "NOME_CURSO_BOLSA                  object\n",
       "NOME_TURNO_CURSO_BOLSA            object\n",
       "CPF_BENEFICIARIO_BOLSA            object\n",
       "SEXO_BENEFICIARIO_BOLSA           object\n",
       "RACA_BENEFICIARIO_BOLSA           object\n",
       "DT_NASCIMENTO_BENEFICIARIO        object\n",
       "BENEFICIARIO_DEFICIENTE_FISICO    object\n",
       "REGIAO_BENEFICIARIO_BOLSA         object\n",
       "SIGLA_UF_BENEFICIARIO_BOLSA       object\n",
       "MUNICIPIO_BENEFICIARIO_BOLSA      object\n",
       "dtype: object"
      ]
     },
     "execution_count": 4,
     "metadata": {},
     "output_type": "execute_result"
    }
   ],
   "source": [
    "df.dtypes"
   ]
  },
  {
   "cell_type": "code",
   "execution_count": 5,
   "metadata": {},
   "outputs": [
    {
     "data": {
      "text/plain": [
       "ANO_CONCESSAO_BOLSA               0\n",
       "CODIGO_EMEC_IES_BOLSA             0\n",
       "NOME_IES_BOLSA                    0\n",
       "TIPO_BOLSA                        0\n",
       "MODALIDADE_ENSINO_BOLSA           0\n",
       "NOME_CURSO_BOLSA                  0\n",
       "NOME_TURNO_CURSO_BOLSA            0\n",
       "CPF_BENEFICIARIO_BOLSA            0\n",
       "SEXO_BENEFICIARIO_BOLSA           0\n",
       "RACA_BENEFICIARIO_BOLSA           0\n",
       "DT_NASCIMENTO_BENEFICIARIO        0\n",
       "BENEFICIARIO_DEFICIENTE_FISICO    0\n",
       "REGIAO_BENEFICIARIO_BOLSA         0\n",
       "SIGLA_UF_BENEFICIARIO_BOLSA       0\n",
       "MUNICIPIO_BENEFICIARIO_BOLSA      0\n",
       "dtype: int64"
      ]
     },
     "execution_count": 5,
     "metadata": {},
     "output_type": "execute_result"
    }
   ],
   "source": [
    "df.isnull().sum()"
   ]
  },
  {
   "cell_type": "markdown",
   "metadata": {},
   "source": [
    "### Excluindo as Colunas CPF_BENEFICIARIO_BOLSA e MUNICIPIO_BENEFICIARIO_BOLSA"
   ]
  },
  {
   "cell_type": "code",
   "execution_count": 6,
   "metadata": {},
   "outputs": [],
   "source": [
    "df.drop(['CPF_BENEFICIARIO_BOLSA','MUNICIPIO_BENEFICIARIO_BOLSA'] , axis=1, inplace = True)"
   ]
  },
  {
   "cell_type": "markdown",
   "metadata": {},
   "source": [
    "### Renomeando Colunas"
   ]
  },
  {
   "cell_type": "code",
   "execution_count": 7,
   "metadata": {},
   "outputs": [
    {
     "data": {
      "text/plain": [
       "Index(['ANO_CONCESSAO_BOLSA', 'CODIGO_EMEC_IES_BOLSA', 'NOME_IES_BOLSA',\n",
       "       'TIPO_BOLSA', 'MODALIDADE_ENSINO_BOLSA', 'NOME_CURSO_BOLSA',\n",
       "       'NOME_TURNO_CURSO_BOLSA', 'SEXO_BENEFICIARIO_BOLSA',\n",
       "       'RACA_BENEFICIARIO_BOLSA', 'DT_NASCIMENTO_BENEFICIARIO',\n",
       "       'BENEFICIARIO_DEFICIENTE_FISICO', 'REGIAO_BENEFICIARIO_BOLSA',\n",
       "       'SIGLA_UF_BENEFICIARIO_BOLSA'],\n",
       "      dtype='object')"
      ]
     },
     "execution_count": 7,
     "metadata": {},
     "output_type": "execute_result"
    }
   ],
   "source": [
    "df.columns"
   ]
  },
  {
   "cell_type": "code",
   "execution_count": 8,
   "metadata": {},
   "outputs": [],
   "source": [
    "df.rename(columns = {'ANO_CONCESSAO_BOLSA':'ANO_CONCESSAO', \n",
    "                     'CODIGO_EMEC_IES_BOLSA':'CODIGO_IES', \n",
    "                     'NOME_IES_BOLSA':'NOME_IES', \n",
    "                     'MODALIDADE_ENSINO_BOLSA':'MODALIDADE_ENSINO', \n",
    "                     'NOME_CURSO_BOLSA':'NOME_CURSO'}, inplace = True)"
   ]
  },
  {
   "cell_type": "code",
   "execution_count": 9,
   "metadata": {},
   "outputs": [],
   "source": [
    "df.rename(columns = {'NOME_TURNO_CURSO_BOLSA':'TURNO_CURSO', \n",
    "                     'SEXO_BENEFICIARIO_BOLSA':'SEXO_BENEFICIARIO', \n",
    "                     'RACA_BENEFICIARIO_BOLSA':'RACA_BENEFICIARIO', \n",
    "                     'REGIAO_BENEFICIARIO_BOLSA':'REGIAO_BENEFICIARIO', \n",
    "                     'SIGLA_UF_BENEFICIARIO_BOLSA':'UF_BENEFICIARIO', \n",
    "                     'DT_NASCIMENTO_BENEFICIARIO':'ANO_NASCIMENTO_BENEFICIARIO'}, inplace = True)"
   ]
  },
  {
   "cell_type": "code",
   "execution_count": 10,
   "metadata": {},
   "outputs": [
    {
     "data": {
      "text/html": [
       "<div>\n",
       "<style scoped>\n",
       "    .dataframe tbody tr th:only-of-type {\n",
       "        vertical-align: middle;\n",
       "    }\n",
       "\n",
       "    .dataframe tbody tr th {\n",
       "        vertical-align: top;\n",
       "    }\n",
       "\n",
       "    .dataframe thead th {\n",
       "        text-align: right;\n",
       "    }\n",
       "</style>\n",
       "<table border=\"1\" class=\"dataframe\">\n",
       "  <thead>\n",
       "    <tr style=\"text-align: right;\">\n",
       "      <th></th>\n",
       "      <th>ANO_CONCESSAO</th>\n",
       "      <th>CODIGO_IES</th>\n",
       "      <th>NOME_IES</th>\n",
       "      <th>TIPO_BOLSA</th>\n",
       "      <th>MODALIDADE_ENSINO</th>\n",
       "      <th>NOME_CURSO</th>\n",
       "      <th>TURNO_CURSO</th>\n",
       "      <th>SEXO_BENEFICIARIO</th>\n",
       "      <th>RACA_BENEFICIARIO</th>\n",
       "      <th>ANO_NASCIMENTO_BENEFICIARIO</th>\n",
       "      <th>BENEFICIARIO_DEFICIENTE_FISICO</th>\n",
       "      <th>REGIAO_BENEFICIARIO</th>\n",
       "      <th>UF_BENEFICIARIO</th>\n",
       "    </tr>\n",
       "  </thead>\n",
       "  <tbody>\n",
       "    <tr>\n",
       "      <th>110493</th>\n",
       "      <td>2017</td>\n",
       "      <td>1878</td>\n",
       "      <td>CENTRO UNIVERSITÁRIO DA FUNDAÇÃO EDUCACIONAL I...</td>\n",
       "      <td>BOLSA INTEGRAL</td>\n",
       "      <td>Presencial</td>\n",
       "      <td>Engenharia Mecânica</td>\n",
       "      <td>Matutino</td>\n",
       "      <td>M</td>\n",
       "      <td>Preta</td>\n",
       "      <td>30/04/1999</td>\n",
       "      <td>N</td>\n",
       "      <td>Sudeste</td>\n",
       "      <td>SP</td>\n",
       "    </tr>\n",
       "    <tr>\n",
       "      <th>80850</th>\n",
       "      <td>2017</td>\n",
       "      <td>724</td>\n",
       "      <td>CENTRO UNIVERSITÁRIO FACEX</td>\n",
       "      <td>BOLSA PARCIAL 50%</td>\n",
       "      <td>Presencial</td>\n",
       "      <td>Arquitetura E Urbanismo</td>\n",
       "      <td>Noturno</td>\n",
       "      <td>M</td>\n",
       "      <td>Branca</td>\n",
       "      <td>17/10/1989</td>\n",
       "      <td>N</td>\n",
       "      <td>Nordeste</td>\n",
       "      <td>RN</td>\n",
       "    </tr>\n",
       "    <tr>\n",
       "      <th>128082</th>\n",
       "      <td>2017</td>\n",
       "      <td>2147</td>\n",
       "      <td>CENTRO UNIVERSITÁRIO CEUNI - FAMETRO</td>\n",
       "      <td>BOLSA INTEGRAL</td>\n",
       "      <td>Presencial</td>\n",
       "      <td>Química</td>\n",
       "      <td>Noturno</td>\n",
       "      <td>M</td>\n",
       "      <td>Parda</td>\n",
       "      <td>18/09/1992</td>\n",
       "      <td>N</td>\n",
       "      <td>Norte</td>\n",
       "      <td>AM</td>\n",
       "    </tr>\n",
       "    <tr>\n",
       "      <th>34860</th>\n",
       "      <td>2017</td>\n",
       "      <td>322</td>\n",
       "      <td>UNIVERSIDADE PAULISTA</td>\n",
       "      <td>BOLSA INTEGRAL</td>\n",
       "      <td>Presencial</td>\n",
       "      <td>Curso Superior De Tecnologia Gestão Financeira...</td>\n",
       "      <td>Noturno</td>\n",
       "      <td>F</td>\n",
       "      <td>Branca</td>\n",
       "      <td>19/01/1996</td>\n",
       "      <td>N</td>\n",
       "      <td>Sudeste</td>\n",
       "      <td>SP</td>\n",
       "    </tr>\n",
       "    <tr>\n",
       "      <th>154566</th>\n",
       "      <td>2017</td>\n",
       "      <td>263</td>\n",
       "      <td>FACULDADES INTEGRADAS CAMPOS SALLES</td>\n",
       "      <td>BOLSA PARCIAL 50%</td>\n",
       "      <td>Presencial</td>\n",
       "      <td>Direito</td>\n",
       "      <td>Matutino</td>\n",
       "      <td>F</td>\n",
       "      <td>Parda</td>\n",
       "      <td>07/08/1990</td>\n",
       "      <td>N</td>\n",
       "      <td>Sudeste</td>\n",
       "      <td>SP</td>\n",
       "    </tr>\n",
       "  </tbody>\n",
       "</table>\n",
       "</div>"
      ],
      "text/plain": [
       "        ANO_CONCESSAO  CODIGO_IES  \\\n",
       "110493           2017        1878   \n",
       "80850            2017         724   \n",
       "128082           2017        2147   \n",
       "34860            2017         322   \n",
       "154566           2017         263   \n",
       "\n",
       "                                                 NOME_IES         TIPO_BOLSA  \\\n",
       "110493  CENTRO UNIVERSITÁRIO DA FUNDAÇÃO EDUCACIONAL I...     BOLSA INTEGRAL   \n",
       "80850                          CENTRO UNIVERSITÁRIO FACEX  BOLSA PARCIAL 50%   \n",
       "128082               CENTRO UNIVERSITÁRIO CEUNI - FAMETRO     BOLSA INTEGRAL   \n",
       "34860                               UNIVERSIDADE PAULISTA     BOLSA INTEGRAL   \n",
       "154566                FACULDADES INTEGRADAS CAMPOS SALLES  BOLSA PARCIAL 50%   \n",
       "\n",
       "       MODALIDADE_ENSINO                                         NOME_CURSO  \\\n",
       "110493        Presencial                                Engenharia Mecânica   \n",
       "80850         Presencial                            Arquitetura E Urbanismo   \n",
       "128082        Presencial                                            Química   \n",
       "34860         Presencial  Curso Superior De Tecnologia Gestão Financeira...   \n",
       "154566        Presencial                                            Direito   \n",
       "\n",
       "       TURNO_CURSO SEXO_BENEFICIARIO RACA_BENEFICIARIO  \\\n",
       "110493    Matutino                 M             Preta   \n",
       "80850      Noturno                 M            Branca   \n",
       "128082     Noturno                 M             Parda   \n",
       "34860      Noturno                 F            Branca   \n",
       "154566    Matutino                 F             Parda   \n",
       "\n",
       "       ANO_NASCIMENTO_BENEFICIARIO BENEFICIARIO_DEFICIENTE_FISICO  \\\n",
       "110493                  30/04/1999                              N   \n",
       "80850                   17/10/1989                              N   \n",
       "128082                  18/09/1992                              N   \n",
       "34860                   19/01/1996                              N   \n",
       "154566                  07/08/1990                              N   \n",
       "\n",
       "       REGIAO_BENEFICIARIO UF_BENEFICIARIO  \n",
       "110493             Sudeste              SP  \n",
       "80850             Nordeste              RN  \n",
       "128082               Norte              AM  \n",
       "34860              Sudeste              SP  \n",
       "154566             Sudeste              SP  "
      ]
     },
     "execution_count": 10,
     "metadata": {},
     "output_type": "execute_result"
    }
   ],
   "source": [
    "df.sample(5)"
   ]
  },
  {
   "cell_type": "markdown",
   "metadata": {},
   "source": [
    "### Renomeando variáveis"
   ]
  },
  {
   "cell_type": "code",
   "execution_count": 11,
   "metadata": {},
   "outputs": [],
   "source": [
    "df.loc[(df['MODALIDADE_ENSINO'] == 'EAD'), 'MODALIDADE_ENSINO'] = 'EDUCAÇÃO A DISTÂNCIA'\n",
    "df.loc[(df['SEXO_BENEFICIARIO'] == 'M'), 'SEXO_BENEFICIARIO'] = 'Masculino'\n",
    "df.loc[(df['SEXO_BENEFICIARIO'] == 'F'), 'SEXO_BENEFICIARIO'] = 'Feminino'\n",
    "df.loc[(df['BENEFICIARIO_DEFICIENTE_FISICO'] == 'S'), 'BENEFICIARIO_DEFICIENTE_FISICO'] = 'SIM'\n",
    "df.loc[(df['BENEFICIARIO_DEFICIENTE_FISICO'] == 'N'), 'BENEFICIARIO_DEFICIENTE_FISICO'] = 'NÃO'"
   ]
  },
  {
   "cell_type": "markdown",
   "metadata": {},
   "source": [
    "### Tranformando letras minúsculas em letras maiúsculas"
   ]
  },
  {
   "cell_type": "code",
   "execution_count": 12,
   "metadata": {},
   "outputs": [],
   "source": [
    "df['MODALIDADE_ENSINO'] = df['MODALIDADE_ENSINO'].str.upper()\n",
    "df['REGIAO_BENEFICIARIO'] = df['REGIAO_BENEFICIARIO'].str.upper()"
   ]
  },
  {
   "cell_type": "markdown",
   "metadata": {},
   "source": [
    "### Descobrindo a idade aproximada* dos beneficiários\n",
    "\n",
    "é aproximada, pois o dataframe não menciona qual semestre do ano o beneficiário foi contemplado pela bolsa."
   ]
  },
  {
   "cell_type": "markdown",
   "metadata": {},
   "source": [
    "-> Criar uma nova coluna IDADE_APROX_BENEFICIARIO para calcular a idade aproximada deles\n",
    "\n",
    "-> Alterar o formato da coluna DT_NASCIMENTO_BENEFICIARIO Para Y\n",
    "\n",
    "-> Calcular com base na coluna ANO_CONCESSAO a idade aproximada do beneficiário"
   ]
  },
  {
   "cell_type": "code",
   "execution_count": 13,
   "metadata": {},
   "outputs": [
    {
     "data": {
      "text/html": [
       "<div>\n",
       "<style scoped>\n",
       "    .dataframe tbody tr th:only-of-type {\n",
       "        vertical-align: middle;\n",
       "    }\n",
       "\n",
       "    .dataframe tbody tr th {\n",
       "        vertical-align: top;\n",
       "    }\n",
       "\n",
       "    .dataframe thead th {\n",
       "        text-align: right;\n",
       "    }\n",
       "</style>\n",
       "<table border=\"1\" class=\"dataframe\">\n",
       "  <thead>\n",
       "    <tr style=\"text-align: right;\">\n",
       "      <th></th>\n",
       "      <th>ANO_CONCESSAO</th>\n",
       "      <th>CODIGO_IES</th>\n",
       "      <th>NOME_IES</th>\n",
       "      <th>TIPO_BOLSA</th>\n",
       "      <th>MODALIDADE_ENSINO</th>\n",
       "      <th>NOME_CURSO</th>\n",
       "      <th>TURNO_CURSO</th>\n",
       "      <th>SEXO_BENEFICIARIO</th>\n",
       "      <th>RACA_BENEFICIARIO</th>\n",
       "      <th>ANO_NASCIMENTO_BENEFICIARIO</th>\n",
       "      <th>IDADE_APROX_BENEFICIARIO</th>\n",
       "      <th>BENEFICIARIO_DEFICIENTE_FISICO</th>\n",
       "      <th>REGIAO_BENEFICIARIO</th>\n",
       "      <th>UF_BENEFICIARIO</th>\n",
       "    </tr>\n",
       "  </thead>\n",
       "  <tbody>\n",
       "    <tr>\n",
       "      <th>0</th>\n",
       "      <td>2017</td>\n",
       "      <td>10</td>\n",
       "      <td>PONTIFÍCIA UNIVERSIDADE CATÓLICA DO PARANÁ</td>\n",
       "      <td>BOLSA PARCIAL 50%</td>\n",
       "      <td>PRESENCIAL</td>\n",
       "      <td>Ciências Contábeis</td>\n",
       "      <td>Noturno</td>\n",
       "      <td>Feminino</td>\n",
       "      <td>Branca</td>\n",
       "      <td>29/04/1992</td>\n",
       "      <td>10</td>\n",
       "      <td>NÃO</td>\n",
       "      <td>SUL</td>\n",
       "      <td>PR</td>\n",
       "    </tr>\n",
       "  </tbody>\n",
       "</table>\n",
       "</div>"
      ],
      "text/plain": [
       "   ANO_CONCESSAO  CODIGO_IES                                    NOME_IES  \\\n",
       "0           2017          10  PONTIFÍCIA UNIVERSIDADE CATÓLICA DO PARANÁ   \n",
       "\n",
       "          TIPO_BOLSA MODALIDADE_ENSINO          NOME_CURSO TURNO_CURSO  \\\n",
       "0  BOLSA PARCIAL 50%        PRESENCIAL  Ciências Contábeis     Noturno   \n",
       "\n",
       "  SEXO_BENEFICIARIO RACA_BENEFICIARIO ANO_NASCIMENTO_BENEFICIARIO  \\\n",
       "0          Feminino            Branca                  29/04/1992   \n",
       "\n",
       "   IDADE_APROX_BENEFICIARIO BENEFICIARIO_DEFICIENTE_FISICO  \\\n",
       "0                        10                            NÃO   \n",
       "\n",
       "  REGIAO_BENEFICIARIO UF_BENEFICIARIO  \n",
       "0                 SUL              PR  "
      ]
     },
     "execution_count": 13,
     "metadata": {},
     "output_type": "execute_result"
    }
   ],
   "source": [
    "df.insert(loc=10, column='IDADE_APROX_BENEFICIARIO', value=10)\n",
    "df.head(1)"
   ]
  },
  {
   "cell_type": "code",
   "execution_count": 14,
   "metadata": {},
   "outputs": [
    {
     "name": "stdout",
     "output_type": "stream",
     "text": [
      "0         1992\n",
      "1         1999\n",
      "2         1994\n",
      "3         1997\n",
      "4         1994\n",
      "          ... \n",
      "236631    1991\n",
      "236632    1995\n",
      "236633    1989\n",
      "236634    1997\n",
      "236635    1996\n",
      "Name: ANO_NASCIMENTO_BENEFICIARIO, Length: 236636, dtype: int64\n"
     ]
    }
   ],
   "source": [
    "df['ANO_NASCIMENTO_BENEFICIARIO'] = pd.to_datetime(df['ANO_NASCIMENTO_BENEFICIARIO']).dt.year\n",
    "print(df['ANO_NASCIMENTO_BENEFICIARIO'])"
   ]
  },
  {
   "cell_type": "code",
   "execution_count": 15,
   "metadata": {},
   "outputs": [
    {
     "data": {
      "text/html": [
       "<div>\n",
       "<style scoped>\n",
       "    .dataframe tbody tr th:only-of-type {\n",
       "        vertical-align: middle;\n",
       "    }\n",
       "\n",
       "    .dataframe tbody tr th {\n",
       "        vertical-align: top;\n",
       "    }\n",
       "\n",
       "    .dataframe thead th {\n",
       "        text-align: right;\n",
       "    }\n",
       "</style>\n",
       "<table border=\"1\" class=\"dataframe\">\n",
       "  <thead>\n",
       "    <tr style=\"text-align: right;\">\n",
       "      <th></th>\n",
       "      <th>ANO_CONCESSAO</th>\n",
       "      <th>CODIGO_IES</th>\n",
       "      <th>NOME_IES</th>\n",
       "      <th>TIPO_BOLSA</th>\n",
       "      <th>MODALIDADE_ENSINO</th>\n",
       "      <th>NOME_CURSO</th>\n",
       "      <th>TURNO_CURSO</th>\n",
       "      <th>SEXO_BENEFICIARIO</th>\n",
       "      <th>RACA_BENEFICIARIO</th>\n",
       "      <th>ANO_NASCIMENTO_BENEFICIARIO</th>\n",
       "      <th>IDADE_APROX_BENEFICIARIO</th>\n",
       "      <th>BENEFICIARIO_DEFICIENTE_FISICO</th>\n",
       "      <th>REGIAO_BENEFICIARIO</th>\n",
       "      <th>UF_BENEFICIARIO</th>\n",
       "    </tr>\n",
       "  </thead>\n",
       "  <tbody>\n",
       "    <tr>\n",
       "      <th>70679</th>\n",
       "      <td>2017</td>\n",
       "      <td>521</td>\n",
       "      <td>UNIVERSIDADE DE MOGI DAS CRUZES</td>\n",
       "      <td>BOLSA INTEGRAL</td>\n",
       "      <td>PRESENCIAL</td>\n",
       "      <td>Psicologia</td>\n",
       "      <td>Noturno</td>\n",
       "      <td>Masculino</td>\n",
       "      <td>Branca</td>\n",
       "      <td>1997</td>\n",
       "      <td>20</td>\n",
       "      <td>NÃO</td>\n",
       "      <td>SUDESTE</td>\n",
       "      <td>SP</td>\n",
       "    </tr>\n",
       "    <tr>\n",
       "      <th>155947</th>\n",
       "      <td>2017</td>\n",
       "      <td>18133</td>\n",
       "      <td>FACULDADE UNIDA DE CAMPINAS GOIÂNIA - FACUNICA...</td>\n",
       "      <td>BOLSA PARCIAL 50%</td>\n",
       "      <td>PRESENCIAL</td>\n",
       "      <td>Enfermagem</td>\n",
       "      <td>Matutino</td>\n",
       "      <td>Feminino</td>\n",
       "      <td>Branca</td>\n",
       "      <td>1998</td>\n",
       "      <td>19</td>\n",
       "      <td>NÃO</td>\n",
       "      <td>CENTRO-OESTE</td>\n",
       "      <td>GO</td>\n",
       "    </tr>\n",
       "    <tr>\n",
       "      <th>67724</th>\n",
       "      <td>2017</td>\n",
       "      <td>494</td>\n",
       "      <td>UNIVERSIDADE DO SUL DE SANTA CATARINA</td>\n",
       "      <td>BOLSA INTEGRAL</td>\n",
       "      <td>PRESENCIAL</td>\n",
       "      <td>Curso Superior De Tecnologia Em Cosmetologia E...</td>\n",
       "      <td>Noturno</td>\n",
       "      <td>Feminino</td>\n",
       "      <td>Branca</td>\n",
       "      <td>1995</td>\n",
       "      <td>22</td>\n",
       "      <td>NÃO</td>\n",
       "      <td>SUL</td>\n",
       "      <td>SC</td>\n",
       "    </tr>\n",
       "  </tbody>\n",
       "</table>\n",
       "</div>"
      ],
      "text/plain": [
       "        ANO_CONCESSAO  CODIGO_IES  \\\n",
       "70679            2017         521   \n",
       "155947           2017       18133   \n",
       "67724            2017         494   \n",
       "\n",
       "                                                 NOME_IES         TIPO_BOLSA  \\\n",
       "70679                     UNIVERSIDADE DE MOGI DAS CRUZES     BOLSA INTEGRAL   \n",
       "155947  FACULDADE UNIDA DE CAMPINAS GOIÂNIA - FACUNICA...  BOLSA PARCIAL 50%   \n",
       "67724               UNIVERSIDADE DO SUL DE SANTA CATARINA     BOLSA INTEGRAL   \n",
       "\n",
       "       MODALIDADE_ENSINO                                         NOME_CURSO  \\\n",
       "70679         PRESENCIAL                                         Psicologia   \n",
       "155947        PRESENCIAL                                         Enfermagem   \n",
       "67724         PRESENCIAL  Curso Superior De Tecnologia Em Cosmetologia E...   \n",
       "\n",
       "       TURNO_CURSO SEXO_BENEFICIARIO RACA_BENEFICIARIO  \\\n",
       "70679      Noturno         Masculino            Branca   \n",
       "155947    Matutino          Feminino            Branca   \n",
       "67724      Noturno          Feminino            Branca   \n",
       "\n",
       "        ANO_NASCIMENTO_BENEFICIARIO  IDADE_APROX_BENEFICIARIO  \\\n",
       "70679                          1997                        20   \n",
       "155947                         1998                        19   \n",
       "67724                          1995                        22   \n",
       "\n",
       "       BENEFICIARIO_DEFICIENTE_FISICO REGIAO_BENEFICIARIO UF_BENEFICIARIO  \n",
       "70679                             NÃO             SUDESTE              SP  \n",
       "155947                            NÃO        CENTRO-OESTE              GO  \n",
       "67724                             NÃO                 SUL              SC  "
      ]
     },
     "execution_count": 15,
     "metadata": {},
     "output_type": "execute_result"
    }
   ],
   "source": [
    "df['IDADE_APROX_BENEFICIARIO'] = df['ANO_CONCESSAO'] - df['ANO_NASCIMENTO_BENEFICIARIO']\n",
    "df.sample(3)"
   ]
  },
  {
   "cell_type": "markdown",
   "metadata": {},
   "source": [
    "### Criando intervalos em que se agrupam pessoas de idade aproximada"
   ]
  },
  {
   "cell_type": "markdown",
   "metadata": {},
   "source": [
    "-> Criar uma nova coluna FAIXA_ETA_BENEFICIARIO\n",
    "\n",
    "-> Popular a coluna seguindo os seguintes critérios:\n",
    "\n",
    "    Menos de 18 anos\n",
    "    De 18 a 24 anos\n",
    "    De 24 a 30 anos\n",
    "    De 30 a 36 anos\n",
    "    De 36 a 48 anos\n",
    "    De 48 a 60 anos\n",
    "    Mais de 60 anos"
   ]
  },
  {
   "cell_type": "code",
   "execution_count": 16,
   "metadata": {},
   "outputs": [],
   "source": [
    "df.insert(loc=11, column='FAIXA_ETA_BENEFICIARIO', value='Idade')"
   ]
  },
  {
   "cell_type": "code",
   "execution_count": 17,
   "metadata": {},
   "outputs": [
    {
     "data": {
      "text/html": [
       "<div>\n",
       "<style scoped>\n",
       "    .dataframe tbody tr th:only-of-type {\n",
       "        vertical-align: middle;\n",
       "    }\n",
       "\n",
       "    .dataframe tbody tr th {\n",
       "        vertical-align: top;\n",
       "    }\n",
       "\n",
       "    .dataframe thead th {\n",
       "        text-align: right;\n",
       "    }\n",
       "</style>\n",
       "<table border=\"1\" class=\"dataframe\">\n",
       "  <thead>\n",
       "    <tr style=\"text-align: right;\">\n",
       "      <th></th>\n",
       "      <th>ANO_CONCESSAO</th>\n",
       "      <th>CODIGO_IES</th>\n",
       "      <th>NOME_IES</th>\n",
       "      <th>TIPO_BOLSA</th>\n",
       "      <th>MODALIDADE_ENSINO</th>\n",
       "      <th>NOME_CURSO</th>\n",
       "      <th>TURNO_CURSO</th>\n",
       "      <th>SEXO_BENEFICIARIO</th>\n",
       "      <th>RACA_BENEFICIARIO</th>\n",
       "      <th>ANO_NASCIMENTO_BENEFICIARIO</th>\n",
       "      <th>IDADE_APROX_BENEFICIARIO</th>\n",
       "      <th>FAIXA_ETA_BENEFICIARIO</th>\n",
       "      <th>BENEFICIARIO_DEFICIENTE_FISICO</th>\n",
       "      <th>REGIAO_BENEFICIARIO</th>\n",
       "      <th>UF_BENEFICIARIO</th>\n",
       "    </tr>\n",
       "  </thead>\n",
       "  <tbody>\n",
       "    <tr>\n",
       "      <th>0</th>\n",
       "      <td>2017</td>\n",
       "      <td>10</td>\n",
       "      <td>PONTIFÍCIA UNIVERSIDADE CATÓLICA DO PARANÁ</td>\n",
       "      <td>BOLSA PARCIAL 50%</td>\n",
       "      <td>PRESENCIAL</td>\n",
       "      <td>Ciências Contábeis</td>\n",
       "      <td>Noturno</td>\n",
       "      <td>Feminino</td>\n",
       "      <td>Branca</td>\n",
       "      <td>1992</td>\n",
       "      <td>25</td>\n",
       "      <td>Idade</td>\n",
       "      <td>NÃO</td>\n",
       "      <td>SUL</td>\n",
       "      <td>PR</td>\n",
       "    </tr>\n",
       "    <tr>\n",
       "      <th>1</th>\n",
       "      <td>2017</td>\n",
       "      <td>10</td>\n",
       "      <td>PONTIFÍCIA UNIVERSIDADE CATÓLICA DO PARANÁ</td>\n",
       "      <td>BOLSA PARCIAL 50%</td>\n",
       "      <td>PRESENCIAL</td>\n",
       "      <td>Ciências Contábeis</td>\n",
       "      <td>Noturno</td>\n",
       "      <td>Masculino</td>\n",
       "      <td>Branca</td>\n",
       "      <td>1999</td>\n",
       "      <td>18</td>\n",
       "      <td>Idade</td>\n",
       "      <td>NÃO</td>\n",
       "      <td>SUL</td>\n",
       "      <td>PR</td>\n",
       "    </tr>\n",
       "    <tr>\n",
       "      <th>2</th>\n",
       "      <td>2017</td>\n",
       "      <td>10</td>\n",
       "      <td>PONTIFÍCIA UNIVERSIDADE CATÓLICA DO PARANÁ</td>\n",
       "      <td>BOLSA PARCIAL 50%</td>\n",
       "      <td>PRESENCIAL</td>\n",
       "      <td>Ciências Contábeis</td>\n",
       "      <td>Noturno</td>\n",
       "      <td>Masculino</td>\n",
       "      <td>Branca</td>\n",
       "      <td>1994</td>\n",
       "      <td>23</td>\n",
       "      <td>Idade</td>\n",
       "      <td>NÃO</td>\n",
       "      <td>SUL</td>\n",
       "      <td>PR</td>\n",
       "    </tr>\n",
       "    <tr>\n",
       "      <th>3</th>\n",
       "      <td>2017</td>\n",
       "      <td>10</td>\n",
       "      <td>PONTIFÍCIA UNIVERSIDADE CATÓLICA DO PARANÁ</td>\n",
       "      <td>BOLSA PARCIAL 50%</td>\n",
       "      <td>PRESENCIAL</td>\n",
       "      <td>Ciências Contábeis</td>\n",
       "      <td>Noturno</td>\n",
       "      <td>Masculino</td>\n",
       "      <td>Branca</td>\n",
       "      <td>1997</td>\n",
       "      <td>20</td>\n",
       "      <td>Idade</td>\n",
       "      <td>NÃO</td>\n",
       "      <td>SUL</td>\n",
       "      <td>PR</td>\n",
       "    </tr>\n",
       "    <tr>\n",
       "      <th>4</th>\n",
       "      <td>2017</td>\n",
       "      <td>10</td>\n",
       "      <td>PONTIFÍCIA UNIVERSIDADE CATÓLICA DO PARANÁ</td>\n",
       "      <td>BOLSA PARCIAL 50%</td>\n",
       "      <td>PRESENCIAL</td>\n",
       "      <td>Ciências Contábeis</td>\n",
       "      <td>Noturno</td>\n",
       "      <td>Masculino</td>\n",
       "      <td>Branca</td>\n",
       "      <td>1994</td>\n",
       "      <td>23</td>\n",
       "      <td>Idade</td>\n",
       "      <td>NÃO</td>\n",
       "      <td>SUL</td>\n",
       "      <td>PR</td>\n",
       "    </tr>\n",
       "  </tbody>\n",
       "</table>\n",
       "</div>"
      ],
      "text/plain": [
       "   ANO_CONCESSAO  CODIGO_IES                                    NOME_IES  \\\n",
       "0           2017          10  PONTIFÍCIA UNIVERSIDADE CATÓLICA DO PARANÁ   \n",
       "1           2017          10  PONTIFÍCIA UNIVERSIDADE CATÓLICA DO PARANÁ   \n",
       "2           2017          10  PONTIFÍCIA UNIVERSIDADE CATÓLICA DO PARANÁ   \n",
       "3           2017          10  PONTIFÍCIA UNIVERSIDADE CATÓLICA DO PARANÁ   \n",
       "4           2017          10  PONTIFÍCIA UNIVERSIDADE CATÓLICA DO PARANÁ   \n",
       "\n",
       "          TIPO_BOLSA MODALIDADE_ENSINO          NOME_CURSO TURNO_CURSO  \\\n",
       "0  BOLSA PARCIAL 50%        PRESENCIAL  Ciências Contábeis     Noturno   \n",
       "1  BOLSA PARCIAL 50%        PRESENCIAL  Ciências Contábeis     Noturno   \n",
       "2  BOLSA PARCIAL 50%        PRESENCIAL  Ciências Contábeis     Noturno   \n",
       "3  BOLSA PARCIAL 50%        PRESENCIAL  Ciências Contábeis     Noturno   \n",
       "4  BOLSA PARCIAL 50%        PRESENCIAL  Ciências Contábeis     Noturno   \n",
       "\n",
       "  SEXO_BENEFICIARIO RACA_BENEFICIARIO  ANO_NASCIMENTO_BENEFICIARIO  \\\n",
       "0          Feminino            Branca                         1992   \n",
       "1         Masculino            Branca                         1999   \n",
       "2         Masculino            Branca                         1994   \n",
       "3         Masculino            Branca                         1997   \n",
       "4         Masculino            Branca                         1994   \n",
       "\n",
       "   IDADE_APROX_BENEFICIARIO FAIXA_ETA_BENEFICIARIO  \\\n",
       "0                        25                  Idade   \n",
       "1                        18                  Idade   \n",
       "2                        23                  Idade   \n",
       "3                        20                  Idade   \n",
       "4                        23                  Idade   \n",
       "\n",
       "  BENEFICIARIO_DEFICIENTE_FISICO REGIAO_BENEFICIARIO UF_BENEFICIARIO  \n",
       "0                            NÃO                 SUL              PR  \n",
       "1                            NÃO                 SUL              PR  \n",
       "2                            NÃO                 SUL              PR  \n",
       "3                            NÃO                 SUL              PR  \n",
       "4                            NÃO                 SUL              PR  "
      ]
     },
     "execution_count": 17,
     "metadata": {},
     "output_type": "execute_result"
    }
   ],
   "source": [
    "df.head()"
   ]
  },
  {
   "cell_type": "code",
   "execution_count": 18,
   "metadata": {},
   "outputs": [],
   "source": [
    "for i in range(len (df)): \n",
    "    if (df.loc[i, 'IDADE_APROX_BENEFICIARIO'] > 0) & (df.loc[i, 'IDADE_APROX_BENEFICIARIO'] < 18):\n",
    "        df.loc[i, 'FAIXA_ETA_BENEFICIARIO'] = 'Menos de 18 anos'\n",
    "    \n",
    "    elif (df.loc[i, 'IDADE_APROX_BENEFICIARIO'] >= 18) & (df.loc[i, 'IDADE_APROX_BENEFICIARIO'] < 24):\n",
    "        df.loc[i, 'FAIXA_ETA_BENEFICIARIO'] = 'De 18 a 24 anos'\n",
    "    \n",
    "    elif (df.loc[i, 'IDADE_APROX_BENEFICIARIO'] >= 24) & (df.loc[i, 'IDADE_APROX_BENEFICIARIO'] < 30):\n",
    "        df.loc[i, 'FAIXA_ETA_BENEFICIARIO'] = 'De 24 a 30 anos'\n",
    "    \n",
    "    elif (df.loc[i, 'IDADE_APROX_BENEFICIARIO'] >= 30) & (df.loc[i, 'IDADE_APROX_BENEFICIARIO'] < 36):\n",
    "        df.loc[i, 'FAIXA_ETA_BENEFICIARIO'] = 'De 30 a 36 anos'\n",
    "    \n",
    "    elif (df.loc[i, 'IDADE_APROX_BENEFICIARIO'] >= 36) & (df.loc[i, 'IDADE_APROX_BENEFICIARIO'] < 48):\n",
    "        df.loc[i, 'FAIXA_ETA_BENEFICIARIO'] = 'De 36 a 48 anos'\n",
    "    \n",
    "    elif (df.loc[i, 'IDADE_APROX_BENEFICIARIO'] >= 48) & (df.loc[i, 'IDADE_APROX_BENEFICIARIO'] < 60):\n",
    "        df.loc[i, 'FAIXA_ETA_BENEFICIARIO'] = 'De 48 a 60 anos'\n",
    "    \n",
    "    else:\n",
    "        df.loc[i, 'FAIXA_ETA_BENEFICIARIO'] = 'Mais de 60 anos'"
   ]
  },
  {
   "cell_type": "code",
   "execution_count": 19,
   "metadata": {},
   "outputs": [
    {
     "data": {
      "text/html": [
       "<div>\n",
       "<style scoped>\n",
       "    .dataframe tbody tr th:only-of-type {\n",
       "        vertical-align: middle;\n",
       "    }\n",
       "\n",
       "    .dataframe tbody tr th {\n",
       "        vertical-align: top;\n",
       "    }\n",
       "\n",
       "    .dataframe thead th {\n",
       "        text-align: right;\n",
       "    }\n",
       "</style>\n",
       "<table border=\"1\" class=\"dataframe\">\n",
       "  <thead>\n",
       "    <tr style=\"text-align: right;\">\n",
       "      <th></th>\n",
       "      <th>ANO_CONCESSAO</th>\n",
       "      <th>CODIGO_IES</th>\n",
       "      <th>NOME_IES</th>\n",
       "      <th>TIPO_BOLSA</th>\n",
       "      <th>MODALIDADE_ENSINO</th>\n",
       "      <th>NOME_CURSO</th>\n",
       "      <th>TURNO_CURSO</th>\n",
       "      <th>SEXO_BENEFICIARIO</th>\n",
       "      <th>RACA_BENEFICIARIO</th>\n",
       "      <th>ANO_NASCIMENTO_BENEFICIARIO</th>\n",
       "      <th>IDADE_APROX_BENEFICIARIO</th>\n",
       "      <th>FAIXA_ETA_BENEFICIARIO</th>\n",
       "      <th>BENEFICIARIO_DEFICIENTE_FISICO</th>\n",
       "      <th>REGIAO_BENEFICIARIO</th>\n",
       "      <th>UF_BENEFICIARIO</th>\n",
       "    </tr>\n",
       "  </thead>\n",
       "  <tbody>\n",
       "    <tr>\n",
       "      <th>189146</th>\n",
       "      <td>2017</td>\n",
       "      <td>449</td>\n",
       "      <td>UNIVERSIDADE LUTERANA DO BRASIL</td>\n",
       "      <td>BOLSA INTEGRAL</td>\n",
       "      <td>PRESENCIAL</td>\n",
       "      <td>Estética E Cosmética</td>\n",
       "      <td>Noturno</td>\n",
       "      <td>Feminino</td>\n",
       "      <td>Branca</td>\n",
       "      <td>1981</td>\n",
       "      <td>36</td>\n",
       "      <td>De 36 a 48 anos</td>\n",
       "      <td>NÃO</td>\n",
       "      <td>SUL</td>\n",
       "      <td>RS</td>\n",
       "    </tr>\n",
       "  </tbody>\n",
       "</table>\n",
       "</div>"
      ],
      "text/plain": [
       "        ANO_CONCESSAO  CODIGO_IES                         NOME_IES  \\\n",
       "189146           2017         449  UNIVERSIDADE LUTERANA DO BRASIL   \n",
       "\n",
       "            TIPO_BOLSA MODALIDADE_ENSINO            NOME_CURSO TURNO_CURSO  \\\n",
       "189146  BOLSA INTEGRAL        PRESENCIAL  Estética E Cosmética     Noturno   \n",
       "\n",
       "       SEXO_BENEFICIARIO RACA_BENEFICIARIO  ANO_NASCIMENTO_BENEFICIARIO  \\\n",
       "189146          Feminino            Branca                         1981   \n",
       "\n",
       "        IDADE_APROX_BENEFICIARIO FAIXA_ETA_BENEFICIARIO  \\\n",
       "189146                        36        De 36 a 48 anos   \n",
       "\n",
       "       BENEFICIARIO_DEFICIENTE_FISICO REGIAO_BENEFICIARIO UF_BENEFICIARIO  \n",
       "189146                            NÃO                 SUL              RS  "
      ]
     },
     "execution_count": 19,
     "metadata": {},
     "output_type": "execute_result"
    }
   ],
   "source": [
    "df.sample()"
   ]
  },
  {
   "cell_type": "markdown",
   "metadata": {},
   "source": [
    "# Análisando os dados"
   ]
  },
  {
   "cell_type": "markdown",
   "metadata": {},
   "source": [
    "### Tipos de bolsas"
   ]
  },
  {
   "cell_type": "code",
   "execution_count": 20,
   "metadata": {},
   "outputs": [
    {
     "data": {
      "text/plain": [
       "BOLSA INTEGRAL       155041\n",
       "BOLSA PARCIAL 50%     81595\n",
       "Name: TIPO_BOLSA, dtype: int64"
      ]
     },
     "execution_count": 20,
     "metadata": {},
     "output_type": "execute_result"
    }
   ],
   "source": [
    "df['TIPO_BOLSA'].value_counts()"
   ]
  },
  {
   "cell_type": "markdown",
   "metadata": {},
   "source": [
    "### Modalidade de ensino"
   ]
  },
  {
   "cell_type": "code",
   "execution_count": 21,
   "metadata": {},
   "outputs": [
    {
     "data": {
      "text/plain": [
       "PRESENCIAL              184397\n",
       "EDUCAÇÃO A DISTÂNCIA     52239\n",
       "Name: MODALIDADE_ENSINO, dtype: int64"
      ]
     },
     "execution_count": 21,
     "metadata": {},
     "output_type": "execute_result"
    }
   ],
   "source": [
    "df['MODALIDADE_ENSINO'].value_counts()"
   ]
  },
  {
   "cell_type": "markdown",
   "metadata": {},
   "source": [
    "### Top 10 - Cursos"
   ]
  },
  {
   "cell_type": "code",
   "execution_count": 22,
   "metadata": {},
   "outputs": [
    {
     "data": {
      "text/plain": [
       "Administração                 17217\n",
       "Direito                       15570\n",
       "Pedagogia                     14098\n",
       "Ciências Contábeis            10328\n",
       "Educação Física                9032\n",
       "Engenharia Civil               8101\n",
       "Enfermagem                     7946\n",
       "Psicologia                     6150\n",
       "Gestão De Recursos Humanos     5803\n",
       "Fisioterapia                   4437\n",
       "Name: NOME_CURSO, dtype: int64"
      ]
     },
     "execution_count": 22,
     "metadata": {},
     "output_type": "execute_result"
    }
   ],
   "source": [
    "df['NOME_CURSO'].value_counts().head(10)"
   ]
  },
  {
   "cell_type": "markdown",
   "metadata": {},
   "source": [
    "### Turno predominante"
   ]
  },
  {
   "cell_type": "code",
   "execution_count": 23,
   "metadata": {},
   "outputs": [
    {
     "data": {
      "text/plain": [
       "Noturno              130766\n",
       "Curso a distância     52239\n",
       "Matutino              42449\n",
       "Integral               5982\n",
       "Vespertino             5200\n",
       "Name: TURNO_CURSO, dtype: int64"
      ]
     },
     "execution_count": 23,
     "metadata": {},
     "output_type": "execute_result"
    }
   ],
   "source": [
    "df['TURNO_CURSO'].value_counts()"
   ]
  },
  {
   "cell_type": "markdown",
   "metadata": {},
   "source": [
    "### Sexo dos beneficiários"
   ]
  },
  {
   "cell_type": "code",
   "execution_count": 24,
   "metadata": {},
   "outputs": [
    {
     "data": {
      "text/plain": [
       "Feminino     128976\n",
       "Masculino    107660\n",
       "Name: SEXO_BENEFICIARIO, dtype: int64"
      ]
     },
     "execution_count": 24,
     "metadata": {},
     "output_type": "execute_result"
    }
   ],
   "source": [
    "df['SEXO_BENEFICIARIO'].value_counts()"
   ]
  },
  {
   "cell_type": "markdown",
   "metadata": {},
   "source": [
    "### Raça dos beneficiários"
   ]
  },
  {
   "cell_type": "code",
   "execution_count": 25,
   "metadata": {},
   "outputs": [
    {
     "data": {
      "text/plain": [
       "Parda            107215\n",
       "Branca            94472\n",
       "Preta             30741\n",
       "Amarela            4004\n",
       "Indígena            191\n",
       "Não Informada        13\n",
       "Name: RACA_BENEFICIARIO, dtype: int64"
      ]
     },
     "execution_count": 25,
     "metadata": {},
     "output_type": "execute_result"
    }
   ],
   "source": [
    "df['RACA_BENEFICIARIO'].value_counts()"
   ]
  },
  {
   "cell_type": "markdown",
   "metadata": {},
   "source": [
    "### Faixa etária dos beneficiários"
   ]
  },
  {
   "cell_type": "code",
   "execution_count": 26,
   "metadata": {},
   "outputs": [
    {
     "data": {
      "text/plain": [
       "De 18 a 24 anos     156598\n",
       "De 24 a 30 anos      43154\n",
       "De 30 a 36 anos      18531\n",
       "De 36 a 48 anos      12803\n",
       "Menos de 18 anos      2908\n",
       "De 48 a 60 anos       2469\n",
       "Mais de 60 anos        173\n",
       "Name: FAIXA_ETA_BENEFICIARIO, dtype: int64"
      ]
     },
     "execution_count": 26,
     "metadata": {},
     "output_type": "execute_result"
    }
   ],
   "source": [
    "df['FAIXA_ETA_BENEFICIARIO'].value_counts()"
   ]
  },
  {
   "cell_type": "markdown",
   "metadata": {},
   "source": [
    "### Beneficiários deficientes físicos"
   ]
  },
  {
   "cell_type": "code",
   "execution_count": 27,
   "metadata": {},
   "outputs": [
    {
     "data": {
      "text/plain": [
       "NÃO    234873\n",
       "SIM      1763\n",
       "Name: BENEFICIARIO_DEFICIENTE_FISICO, dtype: int64"
      ]
     },
     "execution_count": 27,
     "metadata": {},
     "output_type": "execute_result"
    }
   ],
   "source": [
    "df['BENEFICIARIO_DEFICIENTE_FISICO'].value_counts()"
   ]
  },
  {
   "cell_type": "markdown",
   "metadata": {},
   "source": [
    "### Região x Bolsas"
   ]
  },
  {
   "cell_type": "code",
   "execution_count": 28,
   "metadata": {},
   "outputs": [
    {
     "data": {
      "text/plain": [
       "SUDESTE         105105\n",
       "NORDESTE         49213\n",
       "SUL              45250\n",
       "CENTRO-OESTE     20294\n",
       "NORTE            16774\n",
       "Name: REGIAO_BENEFICIARIO, dtype: int64"
      ]
     },
     "execution_count": 28,
     "metadata": {},
     "output_type": "execute_result"
    }
   ],
   "source": [
    "df['REGIAO_BENEFICIARIO'].value_counts()"
   ]
  },
  {
   "cell_type": "markdown",
   "metadata": {},
   "source": [
    "### Top 5 bolsas - UF's x Bolsas"
   ]
  },
  {
   "cell_type": "code",
   "execution_count": 29,
   "metadata": {},
   "outputs": [
    {
     "data": {
      "text/plain": [
       "SP    64159\n",
       "MG    25966\n",
       "PR    16935\n",
       "RS    16078\n",
       "BA    14319\n",
       "Name: UF_BENEFICIARIO, dtype: int64"
      ]
     },
     "execution_count": 29,
     "metadata": {},
     "output_type": "execute_result"
    }
   ],
   "source": [
    "df['UF_BENEFICIARIO'].value_counts().head()"
   ]
  },
  {
   "cell_type": "markdown",
   "metadata": {},
   "source": [
    "### Top 10 bolsas - IE's xBolsas"
   ]
  },
  {
   "cell_type": "code",
   "execution_count": 30,
   "metadata": {},
   "outputs": [
    {
     "data": {
      "text/plain": [
       "UNIVERSIDADE PAULISTA                               15289\n",
       "UNIVERSIDADE PITÁGORAS UNOPAR                       10837\n",
       "CENTRO UNIVERSITÁRIO INTERNACIONAL                   8139\n",
       "UNIVERSIDADE ANHANGUERA                              5859\n",
       "PONTIFÍCIA UNIVERSIDADE CATÓLICA DE MINAS GERAIS     5034\n",
       "UNIVERSIDADE NOVE DE JULHO                           5003\n",
       "UNIVERSIDADE ESTÁCIO DE SÁ                           3557\n",
       "UNIVERSIDADE CEUMA                                   3547\n",
       "UNIVERSIDADE SÃO JUDAS TADEU                         3219\n",
       "UNIVERSIDADE LUTERANA DO BRASIL                      3169\n",
       "Name: NOME_IES, dtype: int64"
      ]
     },
     "execution_count": 30,
     "metadata": {},
     "output_type": "execute_result"
    }
   ],
   "source": [
    "df['NOME_IES'].value_counts().head(10)"
   ]
  },
  {
   "cell_type": "markdown",
   "metadata": {},
   "source": [
    "## Criando um novo arquivo"
   ]
  },
  {
   "cell_type": "code",
   "execution_count": 31,
   "metadata": {},
   "outputs": [],
   "source": [
    "df_novo = df"
   ]
  },
  {
   "cell_type": "code",
   "execution_count": 32,
   "metadata": {},
   "outputs": [],
   "source": [
    "df_novo.to_csv('N_Datasets/Novo_Prouni2017.csv', sep=';', encoding='utf-8', index = False)"
   ]
  }
 ],
 "metadata": {
  "kernelspec": {
   "display_name": "Python 3",
   "language": "python",
   "name": "python3"
  },
  "language_info": {
   "codemirror_mode": {
    "name": "ipython",
    "version": 3
   },
   "file_extension": ".py",
   "mimetype": "text/x-python",
   "name": "python",
   "nbconvert_exporter": "python",
   "pygments_lexer": "ipython3",
   "version": "3.8.5"
  }
 },
 "nbformat": 4,
 "nbformat_minor": 4
}
