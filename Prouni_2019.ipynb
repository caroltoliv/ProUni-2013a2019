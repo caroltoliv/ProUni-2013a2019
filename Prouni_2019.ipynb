{
 "cells": [
  {
   "cell_type": "markdown",
   "metadata": {},
   "source": [
    "# Análise de Dados - Prouni 2019\n",
    "\n",
    "Conjunto de dados que apresenta as bolsas concedidas e o perfil dos beneficiários do ProUni de 2019.\n",
    "\n",
    "Os dados são disponibilizados pelo Site Dados Abertos (http://dadosabertos.mec.gov.br/prouni), em arquivo CSV."
   ]
  },
  {
   "cell_type": "code",
   "execution_count": 1,
   "metadata": {},
   "outputs": [],
   "source": [
    "import pandas as pd\n",
    "import numpy as np\n",
    "\n",
    "df = pd.read_csv('datasets/pda-prouni-2019.csv', sep=';', encoding='utf-8')"
   ]
  },
  {
   "cell_type": "markdown",
   "metadata": {},
   "source": [
    "## Conhecendo o dataframe"
   ]
  },
  {
   "cell_type": "code",
   "execution_count": 2,
   "metadata": {},
   "outputs": [
    {
     "data": {
      "text/html": [
       "<div>\n",
       "<style scoped>\n",
       "    .dataframe tbody tr th:only-of-type {\n",
       "        vertical-align: middle;\n",
       "    }\n",
       "\n",
       "    .dataframe tbody tr th {\n",
       "        vertical-align: top;\n",
       "    }\n",
       "\n",
       "    .dataframe thead th {\n",
       "        text-align: right;\n",
       "    }\n",
       "</style>\n",
       "<table border=\"1\" class=\"dataframe\">\n",
       "  <thead>\n",
       "    <tr style=\"text-align: right;\">\n",
       "      <th></th>\n",
       "      <th>ANO_CONCESSAO_BOLSA</th>\n",
       "      <th>CODIGO_EMEC_IES_BOLSA</th>\n",
       "      <th>NOME_IES_BOLSA</th>\n",
       "      <th>TIPO_BOLSA</th>\n",
       "      <th>MODALIDADE_ENSINO_BOLSA</th>\n",
       "      <th>NOME_CURSO_BOLSA</th>\n",
       "      <th>NOME_TURNO_CURSO_BOLSA</th>\n",
       "      <th>CPF_BENEFICIARIO_BOLSA</th>\n",
       "      <th>SEXO_BENEFICIARIO_BOLSA</th>\n",
       "      <th>RACA_BENEFICIARIO_BOLSA</th>\n",
       "      <th>DT_NASCIMENTO_BENEFICIARIO</th>\n",
       "      <th>BENEFICIARIO_DEFICIENTE_FISICO</th>\n",
       "      <th>REGIAO_BENEFICIARIO_BOLSA</th>\n",
       "      <th>SIGLA_UF_BENEFICIARIO_BOLSA</th>\n",
       "      <th>MUNICIPIO_BENEFICIARIO_BOLSA</th>\n",
       "    </tr>\n",
       "  </thead>\n",
       "  <tbody>\n",
       "    <tr>\n",
       "      <th>107679</th>\n",
       "      <td>2019.0</td>\n",
       "      <td>20.0</td>\n",
       "      <td>UNIVERSIDADE DE PASSO FUNDO</td>\n",
       "      <td>BOLSA INTEGRAL</td>\n",
       "      <td>Presencial</td>\n",
       "      <td>Psicologia</td>\n",
       "      <td>Noturno</td>\n",
       "      <td>***04719066**</td>\n",
       "      <td>F</td>\n",
       "      <td>Branca</td>\n",
       "      <td>17/08/2000</td>\n",
       "      <td>N</td>\n",
       "      <td>Sul</td>\n",
       "      <td>RS</td>\n",
       "      <td>CARAZINHO</td>\n",
       "    </tr>\n",
       "    <tr>\n",
       "      <th>149082</th>\n",
       "      <td>2019.0</td>\n",
       "      <td>1472.0</td>\n",
       "      <td>CENTRO UNIVERSITÁRIO LEONARDO DA VINCI</td>\n",
       "      <td>BOLSA INTEGRAL</td>\n",
       "      <td>EAD</td>\n",
       "      <td>Pedagogia</td>\n",
       "      <td>Curso a distância</td>\n",
       "      <td>***39950067**</td>\n",
       "      <td>F</td>\n",
       "      <td>Branca</td>\n",
       "      <td>30/08/1986</td>\n",
       "      <td>N</td>\n",
       "      <td>Sul</td>\n",
       "      <td>RS</td>\n",
       "      <td>PORTO ALEGRE</td>\n",
       "    </tr>\n",
       "    <tr>\n",
       "      <th>200430</th>\n",
       "      <td>2019.0</td>\n",
       "      <td>338.0</td>\n",
       "      <td>PONTIFÍCIA UNIVERSIDADE CATÓLICA DE MINAS GERAIS</td>\n",
       "      <td>BOLSA PARCIAL 50%</td>\n",
       "      <td>Presencial</td>\n",
       "      <td>Publicidade E Propaganda</td>\n",
       "      <td>Matutino</td>\n",
       "      <td>***33177612**</td>\n",
       "      <td>F</td>\n",
       "      <td>Branca</td>\n",
       "      <td>26/06/1996</td>\n",
       "      <td>N</td>\n",
       "      <td>Sudeste</td>\n",
       "      <td>MG</td>\n",
       "      <td>POCOS DE CALDAS</td>\n",
       "    </tr>\n",
       "    <tr>\n",
       "      <th>95920</th>\n",
       "      <td>2019.0</td>\n",
       "      <td>374.0</td>\n",
       "      <td>CENTRO UNIVERSITÁRIO DAS FACULDADES METROPOLIT...</td>\n",
       "      <td>BOLSA INTEGRAL</td>\n",
       "      <td>Presencial</td>\n",
       "      <td>Ciências Sociais</td>\n",
       "      <td>Matutino</td>\n",
       "      <td>***84543802**</td>\n",
       "      <td>F</td>\n",
       "      <td>Branca</td>\n",
       "      <td>07/07/2000</td>\n",
       "      <td>N</td>\n",
       "      <td>Sudeste</td>\n",
       "      <td>SP</td>\n",
       "      <td>SAO PAULO</td>\n",
       "    </tr>\n",
       "    <tr>\n",
       "      <th>75317</th>\n",
       "      <td>2019.0</td>\n",
       "      <td>1917.0</td>\n",
       "      <td>FACULDADE DE CIÊNCIAS BIOMÉDICAS DE CACOAL</td>\n",
       "      <td>BOLSA INTEGRAL</td>\n",
       "      <td>Presencial</td>\n",
       "      <td>Medicina Veterinária</td>\n",
       "      <td>Noturno</td>\n",
       "      <td>***03581705**</td>\n",
       "      <td>F</td>\n",
       "      <td>Branca</td>\n",
       "      <td>07/02/1999</td>\n",
       "      <td>N</td>\n",
       "      <td>Norte</td>\n",
       "      <td>RO</td>\n",
       "      <td>CACOAL</td>\n",
       "    </tr>\n",
       "  </tbody>\n",
       "</table>\n",
       "</div>"
      ],
      "text/plain": [
       "        ANO_CONCESSAO_BOLSA  CODIGO_EMEC_IES_BOLSA  \\\n",
       "107679               2019.0                   20.0   \n",
       "149082               2019.0                 1472.0   \n",
       "200430               2019.0                  338.0   \n",
       "95920                2019.0                  374.0   \n",
       "75317                2019.0                 1917.0   \n",
       "\n",
       "                                           NOME_IES_BOLSA         TIPO_BOLSA  \\\n",
       "107679                        UNIVERSIDADE DE PASSO FUNDO     BOLSA INTEGRAL   \n",
       "149082             CENTRO UNIVERSITÁRIO LEONARDO DA VINCI     BOLSA INTEGRAL   \n",
       "200430   PONTIFÍCIA UNIVERSIDADE CATÓLICA DE MINAS GERAIS  BOLSA PARCIAL 50%   \n",
       "95920   CENTRO UNIVERSITÁRIO DAS FACULDADES METROPOLIT...     BOLSA INTEGRAL   \n",
       "75317          FACULDADE DE CIÊNCIAS BIOMÉDICAS DE CACOAL     BOLSA INTEGRAL   \n",
       "\n",
       "       MODALIDADE_ENSINO_BOLSA          NOME_CURSO_BOLSA  \\\n",
       "107679              Presencial                Psicologia   \n",
       "149082                     EAD                 Pedagogia   \n",
       "200430              Presencial  Publicidade E Propaganda   \n",
       "95920               Presencial          Ciências Sociais   \n",
       "75317               Presencial      Medicina Veterinária   \n",
       "\n",
       "       NOME_TURNO_CURSO_BOLSA CPF_BENEFICIARIO_BOLSA SEXO_BENEFICIARIO_BOLSA  \\\n",
       "107679                Noturno          ***04719066**                       F   \n",
       "149082      Curso a distância          ***39950067**                       F   \n",
       "200430               Matutino          ***33177612**                       F   \n",
       "95920                Matutino          ***84543802**                       F   \n",
       "75317                 Noturno          ***03581705**                       F   \n",
       "\n",
       "       RACA_BENEFICIARIO_BOLSA DT_NASCIMENTO_BENEFICIARIO  \\\n",
       "107679                  Branca                 17/08/2000   \n",
       "149082                  Branca                 30/08/1986   \n",
       "200430                  Branca                 26/06/1996   \n",
       "95920                   Branca                 07/07/2000   \n",
       "75317                   Branca                 07/02/1999   \n",
       "\n",
       "       BENEFICIARIO_DEFICIENTE_FISICO REGIAO_BENEFICIARIO_BOLSA  \\\n",
       "107679                              N                       Sul   \n",
       "149082                              N                       Sul   \n",
       "200430                              N                   Sudeste   \n",
       "95920                               N                   Sudeste   \n",
       "75317                               N                     Norte   \n",
       "\n",
       "       SIGLA_UF_BENEFICIARIO_BOLSA MUNICIPIO_BENEFICIARIO_BOLSA  \n",
       "107679                          RS                    CARAZINHO  \n",
       "149082                          RS                 PORTO ALEGRE  \n",
       "200430                          MG              POCOS DE CALDAS  \n",
       "95920                           SP                    SAO PAULO  \n",
       "75317                           RO                       CACOAL  "
      ]
     },
     "execution_count": 2,
     "metadata": {},
     "output_type": "execute_result"
    }
   ],
   "source": [
    "df.sample(5)"
   ]
  },
  {
   "cell_type": "code",
   "execution_count": 3,
   "metadata": {},
   "outputs": [
    {
     "data": {
      "text/plain": [
       "(241032, 15)"
      ]
     },
     "execution_count": 3,
     "metadata": {},
     "output_type": "execute_result"
    }
   ],
   "source": [
    "df.shape "
   ]
  },
  {
   "cell_type": "code",
   "execution_count": 4,
   "metadata": {},
   "outputs": [
    {
     "data": {
      "text/plain": [
       "ANO_CONCESSAO_BOLSA               float64\n",
       "CODIGO_EMEC_IES_BOLSA             float64\n",
       "NOME_IES_BOLSA                     object\n",
       "TIPO_BOLSA                         object\n",
       "MODALIDADE_ENSINO_BOLSA            object\n",
       "NOME_CURSO_BOLSA                   object\n",
       "NOME_TURNO_CURSO_BOLSA             object\n",
       "CPF_BENEFICIARIO_BOLSA             object\n",
       "SEXO_BENEFICIARIO_BOLSA            object\n",
       "RACA_BENEFICIARIO_BOLSA            object\n",
       "DT_NASCIMENTO_BENEFICIARIO         object\n",
       "BENEFICIARIO_DEFICIENTE_FISICO     object\n",
       "REGIAO_BENEFICIARIO_BOLSA          object\n",
       "SIGLA_UF_BENEFICIARIO_BOLSA        object\n",
       "MUNICIPIO_BENEFICIARIO_BOLSA       object\n",
       "dtype: object"
      ]
     },
     "execution_count": 4,
     "metadata": {},
     "output_type": "execute_result"
    }
   ],
   "source": [
    "df.dtypes"
   ]
  },
  {
   "cell_type": "code",
   "execution_count": 5,
   "metadata": {},
   "outputs": [
    {
     "data": {
      "text/plain": [
       "ANO_CONCESSAO_BOLSA               15477\n",
       "CODIGO_EMEC_IES_BOLSA             15477\n",
       "NOME_IES_BOLSA                    15477\n",
       "TIPO_BOLSA                        15477\n",
       "MODALIDADE_ENSINO_BOLSA           15477\n",
       "NOME_CURSO_BOLSA                  15477\n",
       "NOME_TURNO_CURSO_BOLSA            15477\n",
       "CPF_BENEFICIARIO_BOLSA            15477\n",
       "SEXO_BENEFICIARIO_BOLSA           15477\n",
       "RACA_BENEFICIARIO_BOLSA           15477\n",
       "DT_NASCIMENTO_BENEFICIARIO        15477\n",
       "BENEFICIARIO_DEFICIENTE_FISICO    15477\n",
       "REGIAO_BENEFICIARIO_BOLSA         15477\n",
       "SIGLA_UF_BENEFICIARIO_BOLSA       15477\n",
       "MUNICIPIO_BENEFICIARIO_BOLSA      15477\n",
       "dtype: int64"
      ]
     },
     "execution_count": 5,
     "metadata": {},
     "output_type": "execute_result"
    }
   ],
   "source": [
    "df.isnull().sum()"
   ]
  },
  {
   "cell_type": "markdown",
   "metadata": {},
   "source": [
    "###  Analisando e excluindo os dados nulos "
   ]
  },
  {
   "cell_type": "code",
   "execution_count": 6,
   "metadata": {},
   "outputs": [
    {
     "data": {
      "text/html": [
       "<div>\n",
       "<style scoped>\n",
       "    .dataframe tbody tr th:only-of-type {\n",
       "        vertical-align: middle;\n",
       "    }\n",
       "\n",
       "    .dataframe tbody tr th {\n",
       "        vertical-align: top;\n",
       "    }\n",
       "\n",
       "    .dataframe thead th {\n",
       "        text-align: right;\n",
       "    }\n",
       "</style>\n",
       "<table border=\"1\" class=\"dataframe\">\n",
       "  <thead>\n",
       "    <tr style=\"text-align: right;\">\n",
       "      <th></th>\n",
       "      <th>ANO_CONCESSAO_BOLSA</th>\n",
       "      <th>CODIGO_EMEC_IES_BOLSA</th>\n",
       "      <th>NOME_IES_BOLSA</th>\n",
       "      <th>TIPO_BOLSA</th>\n",
       "      <th>MODALIDADE_ENSINO_BOLSA</th>\n",
       "      <th>NOME_CURSO_BOLSA</th>\n",
       "      <th>NOME_TURNO_CURSO_BOLSA</th>\n",
       "      <th>CPF_BENEFICIARIO_BOLSA</th>\n",
       "      <th>SEXO_BENEFICIARIO_BOLSA</th>\n",
       "      <th>RACA_BENEFICIARIO_BOLSA</th>\n",
       "      <th>DT_NASCIMENTO_BENEFICIARIO</th>\n",
       "      <th>BENEFICIARIO_DEFICIENTE_FISICO</th>\n",
       "      <th>REGIAO_BENEFICIARIO_BOLSA</th>\n",
       "      <th>SIGLA_UF_BENEFICIARIO_BOLSA</th>\n",
       "      <th>MUNICIPIO_BENEFICIARIO_BOLSA</th>\n",
       "    </tr>\n",
       "  </thead>\n",
       "  <tbody>\n",
       "    <tr>\n",
       "      <th>0</th>\n",
       "      <td>False</td>\n",
       "      <td>False</td>\n",
       "      <td>False</td>\n",
       "      <td>False</td>\n",
       "      <td>False</td>\n",
       "      <td>False</td>\n",
       "      <td>False</td>\n",
       "      <td>False</td>\n",
       "      <td>False</td>\n",
       "      <td>False</td>\n",
       "      <td>False</td>\n",
       "      <td>False</td>\n",
       "      <td>False</td>\n",
       "      <td>False</td>\n",
       "      <td>False</td>\n",
       "    </tr>\n",
       "    <tr>\n",
       "      <th>1</th>\n",
       "      <td>False</td>\n",
       "      <td>False</td>\n",
       "      <td>False</td>\n",
       "      <td>False</td>\n",
       "      <td>False</td>\n",
       "      <td>False</td>\n",
       "      <td>False</td>\n",
       "      <td>False</td>\n",
       "      <td>False</td>\n",
       "      <td>False</td>\n",
       "      <td>False</td>\n",
       "      <td>False</td>\n",
       "      <td>False</td>\n",
       "      <td>False</td>\n",
       "      <td>False</td>\n",
       "    </tr>\n",
       "    <tr>\n",
       "      <th>2</th>\n",
       "      <td>False</td>\n",
       "      <td>False</td>\n",
       "      <td>False</td>\n",
       "      <td>False</td>\n",
       "      <td>False</td>\n",
       "      <td>False</td>\n",
       "      <td>False</td>\n",
       "      <td>False</td>\n",
       "      <td>False</td>\n",
       "      <td>False</td>\n",
       "      <td>False</td>\n",
       "      <td>False</td>\n",
       "      <td>False</td>\n",
       "      <td>False</td>\n",
       "      <td>False</td>\n",
       "    </tr>\n",
       "    <tr>\n",
       "      <th>3</th>\n",
       "      <td>False</td>\n",
       "      <td>False</td>\n",
       "      <td>False</td>\n",
       "      <td>False</td>\n",
       "      <td>False</td>\n",
       "      <td>False</td>\n",
       "      <td>False</td>\n",
       "      <td>False</td>\n",
       "      <td>False</td>\n",
       "      <td>False</td>\n",
       "      <td>False</td>\n",
       "      <td>False</td>\n",
       "      <td>False</td>\n",
       "      <td>False</td>\n",
       "      <td>False</td>\n",
       "    </tr>\n",
       "    <tr>\n",
       "      <th>4</th>\n",
       "      <td>False</td>\n",
       "      <td>False</td>\n",
       "      <td>False</td>\n",
       "      <td>False</td>\n",
       "      <td>False</td>\n",
       "      <td>False</td>\n",
       "      <td>False</td>\n",
       "      <td>False</td>\n",
       "      <td>False</td>\n",
       "      <td>False</td>\n",
       "      <td>False</td>\n",
       "      <td>False</td>\n",
       "      <td>False</td>\n",
       "      <td>False</td>\n",
       "      <td>False</td>\n",
       "    </tr>\n",
       "    <tr>\n",
       "      <th>...</th>\n",
       "      <td>...</td>\n",
       "      <td>...</td>\n",
       "      <td>...</td>\n",
       "      <td>...</td>\n",
       "      <td>...</td>\n",
       "      <td>...</td>\n",
       "      <td>...</td>\n",
       "      <td>...</td>\n",
       "      <td>...</td>\n",
       "      <td>...</td>\n",
       "      <td>...</td>\n",
       "      <td>...</td>\n",
       "      <td>...</td>\n",
       "      <td>...</td>\n",
       "      <td>...</td>\n",
       "    </tr>\n",
       "    <tr>\n",
       "      <th>241027</th>\n",
       "      <td>True</td>\n",
       "      <td>True</td>\n",
       "      <td>True</td>\n",
       "      <td>True</td>\n",
       "      <td>True</td>\n",
       "      <td>True</td>\n",
       "      <td>True</td>\n",
       "      <td>True</td>\n",
       "      <td>True</td>\n",
       "      <td>True</td>\n",
       "      <td>True</td>\n",
       "      <td>True</td>\n",
       "      <td>True</td>\n",
       "      <td>True</td>\n",
       "      <td>True</td>\n",
       "    </tr>\n",
       "    <tr>\n",
       "      <th>241028</th>\n",
       "      <td>True</td>\n",
       "      <td>True</td>\n",
       "      <td>True</td>\n",
       "      <td>True</td>\n",
       "      <td>True</td>\n",
       "      <td>True</td>\n",
       "      <td>True</td>\n",
       "      <td>True</td>\n",
       "      <td>True</td>\n",
       "      <td>True</td>\n",
       "      <td>True</td>\n",
       "      <td>True</td>\n",
       "      <td>True</td>\n",
       "      <td>True</td>\n",
       "      <td>True</td>\n",
       "    </tr>\n",
       "    <tr>\n",
       "      <th>241029</th>\n",
       "      <td>True</td>\n",
       "      <td>True</td>\n",
       "      <td>True</td>\n",
       "      <td>True</td>\n",
       "      <td>True</td>\n",
       "      <td>True</td>\n",
       "      <td>True</td>\n",
       "      <td>True</td>\n",
       "      <td>True</td>\n",
       "      <td>True</td>\n",
       "      <td>True</td>\n",
       "      <td>True</td>\n",
       "      <td>True</td>\n",
       "      <td>True</td>\n",
       "      <td>True</td>\n",
       "    </tr>\n",
       "    <tr>\n",
       "      <th>241030</th>\n",
       "      <td>True</td>\n",
       "      <td>True</td>\n",
       "      <td>True</td>\n",
       "      <td>True</td>\n",
       "      <td>True</td>\n",
       "      <td>True</td>\n",
       "      <td>True</td>\n",
       "      <td>True</td>\n",
       "      <td>True</td>\n",
       "      <td>True</td>\n",
       "      <td>True</td>\n",
       "      <td>True</td>\n",
       "      <td>True</td>\n",
       "      <td>True</td>\n",
       "      <td>True</td>\n",
       "    </tr>\n",
       "    <tr>\n",
       "      <th>241031</th>\n",
       "      <td>True</td>\n",
       "      <td>True</td>\n",
       "      <td>True</td>\n",
       "      <td>True</td>\n",
       "      <td>True</td>\n",
       "      <td>True</td>\n",
       "      <td>True</td>\n",
       "      <td>True</td>\n",
       "      <td>True</td>\n",
       "      <td>True</td>\n",
       "      <td>True</td>\n",
       "      <td>True</td>\n",
       "      <td>True</td>\n",
       "      <td>True</td>\n",
       "      <td>True</td>\n",
       "    </tr>\n",
       "  </tbody>\n",
       "</table>\n",
       "<p>241032 rows × 15 columns</p>\n",
       "</div>"
      ],
      "text/plain": [
       "        ANO_CONCESSAO_BOLSA  CODIGO_EMEC_IES_BOLSA  NOME_IES_BOLSA  \\\n",
       "0                     False                  False           False   \n",
       "1                     False                  False           False   \n",
       "2                     False                  False           False   \n",
       "3                     False                  False           False   \n",
       "4                     False                  False           False   \n",
       "...                     ...                    ...             ...   \n",
       "241027                 True                   True            True   \n",
       "241028                 True                   True            True   \n",
       "241029                 True                   True            True   \n",
       "241030                 True                   True            True   \n",
       "241031                 True                   True            True   \n",
       "\n",
       "        TIPO_BOLSA  MODALIDADE_ENSINO_BOLSA  NOME_CURSO_BOLSA  \\\n",
       "0            False                    False             False   \n",
       "1            False                    False             False   \n",
       "2            False                    False             False   \n",
       "3            False                    False             False   \n",
       "4            False                    False             False   \n",
       "...            ...                      ...               ...   \n",
       "241027        True                     True              True   \n",
       "241028        True                     True              True   \n",
       "241029        True                     True              True   \n",
       "241030        True                     True              True   \n",
       "241031        True                     True              True   \n",
       "\n",
       "        NOME_TURNO_CURSO_BOLSA  CPF_BENEFICIARIO_BOLSA  \\\n",
       "0                        False                   False   \n",
       "1                        False                   False   \n",
       "2                        False                   False   \n",
       "3                        False                   False   \n",
       "4                        False                   False   \n",
       "...                        ...                     ...   \n",
       "241027                    True                    True   \n",
       "241028                    True                    True   \n",
       "241029                    True                    True   \n",
       "241030                    True                    True   \n",
       "241031                    True                    True   \n",
       "\n",
       "        SEXO_BENEFICIARIO_BOLSA  RACA_BENEFICIARIO_BOLSA  \\\n",
       "0                         False                    False   \n",
       "1                         False                    False   \n",
       "2                         False                    False   \n",
       "3                         False                    False   \n",
       "4                         False                    False   \n",
       "...                         ...                      ...   \n",
       "241027                     True                     True   \n",
       "241028                     True                     True   \n",
       "241029                     True                     True   \n",
       "241030                     True                     True   \n",
       "241031                     True                     True   \n",
       "\n",
       "        DT_NASCIMENTO_BENEFICIARIO  BENEFICIARIO_DEFICIENTE_FISICO  \\\n",
       "0                            False                           False   \n",
       "1                            False                           False   \n",
       "2                            False                           False   \n",
       "3                            False                           False   \n",
       "4                            False                           False   \n",
       "...                            ...                             ...   \n",
       "241027                        True                            True   \n",
       "241028                        True                            True   \n",
       "241029                        True                            True   \n",
       "241030                        True                            True   \n",
       "241031                        True                            True   \n",
       "\n",
       "        REGIAO_BENEFICIARIO_BOLSA  SIGLA_UF_BENEFICIARIO_BOLSA  \\\n",
       "0                           False                        False   \n",
       "1                           False                        False   \n",
       "2                           False                        False   \n",
       "3                           False                        False   \n",
       "4                           False                        False   \n",
       "...                           ...                          ...   \n",
       "241027                       True                         True   \n",
       "241028                       True                         True   \n",
       "241029                       True                         True   \n",
       "241030                       True                         True   \n",
       "241031                       True                         True   \n",
       "\n",
       "        MUNICIPIO_BENEFICIARIO_BOLSA  \n",
       "0                              False  \n",
       "1                              False  \n",
       "2                              False  \n",
       "3                              False  \n",
       "4                              False  \n",
       "...                              ...  \n",
       "241027                          True  \n",
       "241028                          True  \n",
       "241029                          True  \n",
       "241030                          True  \n",
       "241031                          True  \n",
       "\n",
       "[241032 rows x 15 columns]"
      ]
     },
     "execution_count": 6,
     "metadata": {},
     "output_type": "execute_result"
    }
   ],
   "source": [
    "df.isnull()"
   ]
  },
  {
   "cell_type": "code",
   "execution_count": 7,
   "metadata": {},
   "outputs": [],
   "source": [
    "df = df.dropna()"
   ]
  },
  {
   "cell_type": "code",
   "execution_count": 8,
   "metadata": {},
   "outputs": [
    {
     "data": {
      "text/plain": [
       "(225555, 15)"
      ]
     },
     "execution_count": 8,
     "metadata": {},
     "output_type": "execute_result"
    }
   ],
   "source": [
    "df.shape"
   ]
  },
  {
   "cell_type": "markdown",
   "metadata": {},
   "source": [
    "### Mudando os tipos de 3 colunas"
   ]
  },
  {
   "cell_type": "code",
   "execution_count": 9,
   "metadata": {},
   "outputs": [],
   "source": [
    "df['ANO_CONCESSAO_BOLSA'] = df['ANO_CONCESSAO_BOLSA'].astype(np.int64)"
   ]
  },
  {
   "cell_type": "code",
   "execution_count": 10,
   "metadata": {},
   "outputs": [],
   "source": [
    "df['CODIGO_EMEC_IES_BOLSA'] = df['CODIGO_EMEC_IES_BOLSA'].astype(np.int64)"
   ]
  },
  {
   "cell_type": "code",
   "execution_count": 11,
   "metadata": {},
   "outputs": [
    {
     "name": "stdout",
     "output_type": "stream",
     "text": [
      "0         1993\n",
      "1         1999\n",
      "2         1999\n",
      "3         2000\n",
      "4         1993\n",
      "          ... \n",
      "225550    2001\n",
      "225551    2001\n",
      "225552    1992\n",
      "225553    1996\n",
      "225554    1985\n",
      "Name: DT_NASCIMENTO_BENEFICIARIO, Length: 225555, dtype: int64\n"
     ]
    }
   ],
   "source": [
    "df['DT_NASCIMENTO_BENEFICIARIO'] = pd.to_datetime(df['DT_NASCIMENTO_BENEFICIARIO']).dt.year\n",
    "print(df['DT_NASCIMENTO_BENEFICIARIO'])"
   ]
  },
  {
   "cell_type": "code",
   "execution_count": 12,
   "metadata": {},
   "outputs": [
    {
     "data": {
      "text/plain": [
       "ANO_CONCESSAO_BOLSA                int64\n",
       "CODIGO_EMEC_IES_BOLSA              int64\n",
       "NOME_IES_BOLSA                    object\n",
       "TIPO_BOLSA                        object\n",
       "MODALIDADE_ENSINO_BOLSA           object\n",
       "NOME_CURSO_BOLSA                  object\n",
       "NOME_TURNO_CURSO_BOLSA            object\n",
       "CPF_BENEFICIARIO_BOLSA            object\n",
       "SEXO_BENEFICIARIO_BOLSA           object\n",
       "RACA_BENEFICIARIO_BOLSA           object\n",
       "DT_NASCIMENTO_BENEFICIARIO         int64\n",
       "BENEFICIARIO_DEFICIENTE_FISICO    object\n",
       "REGIAO_BENEFICIARIO_BOLSA         object\n",
       "SIGLA_UF_BENEFICIARIO_BOLSA       object\n",
       "MUNICIPIO_BENEFICIARIO_BOLSA      object\n",
       "dtype: object"
      ]
     },
     "execution_count": 12,
     "metadata": {},
     "output_type": "execute_result"
    }
   ],
   "source": [
    "df.dtypes"
   ]
  },
  {
   "cell_type": "markdown",
   "metadata": {},
   "source": [
    "### Excluindo aas Colunas CPF_BENEFICIARIO_BOLS e MUNICIPIO_BENEFICIARIO_BOLSA"
   ]
  },
  {
   "cell_type": "code",
   "execution_count": 13,
   "metadata": {},
   "outputs": [],
   "source": [
    "df.drop(['CPF_BENEFICIARIO_BOLSA','MUNICIPIO_BENEFICIARIO_BOLSA'] , axis=1, inplace = True)"
   ]
  },
  {
   "cell_type": "code",
   "execution_count": 14,
   "metadata": {},
   "outputs": [
    {
     "data": {
      "text/html": [
       "<div>\n",
       "<style scoped>\n",
       "    .dataframe tbody tr th:only-of-type {\n",
       "        vertical-align: middle;\n",
       "    }\n",
       "\n",
       "    .dataframe tbody tr th {\n",
       "        vertical-align: top;\n",
       "    }\n",
       "\n",
       "    .dataframe thead th {\n",
       "        text-align: right;\n",
       "    }\n",
       "</style>\n",
       "<table border=\"1\" class=\"dataframe\">\n",
       "  <thead>\n",
       "    <tr style=\"text-align: right;\">\n",
       "      <th></th>\n",
       "      <th>ANO_CONCESSAO_BOLSA</th>\n",
       "      <th>CODIGO_EMEC_IES_BOLSA</th>\n",
       "      <th>NOME_IES_BOLSA</th>\n",
       "      <th>TIPO_BOLSA</th>\n",
       "      <th>MODALIDADE_ENSINO_BOLSA</th>\n",
       "      <th>NOME_CURSO_BOLSA</th>\n",
       "      <th>NOME_TURNO_CURSO_BOLSA</th>\n",
       "      <th>SEXO_BENEFICIARIO_BOLSA</th>\n",
       "      <th>RACA_BENEFICIARIO_BOLSA</th>\n",
       "      <th>DT_NASCIMENTO_BENEFICIARIO</th>\n",
       "      <th>BENEFICIARIO_DEFICIENTE_FISICO</th>\n",
       "      <th>REGIAO_BENEFICIARIO_BOLSA</th>\n",
       "      <th>SIGLA_UF_BENEFICIARIO_BOLSA</th>\n",
       "    </tr>\n",
       "  </thead>\n",
       "  <tbody>\n",
       "    <tr>\n",
       "      <th>14522</th>\n",
       "      <td>2019</td>\n",
       "      <td>163</td>\n",
       "      <td>UNIVERSIDADE ESTÁCIO DE SÁ</td>\n",
       "      <td>BOLSA INTEGRAL</td>\n",
       "      <td>Presencial</td>\n",
       "      <td>Educação Física</td>\n",
       "      <td>Matutino</td>\n",
       "      <td>F</td>\n",
       "      <td>Preta</td>\n",
       "      <td>2000</td>\n",
       "      <td>N</td>\n",
       "      <td>Sudeste</td>\n",
       "      <td>RJ</td>\n",
       "    </tr>\n",
       "    <tr>\n",
       "      <th>9088</th>\n",
       "      <td>2019</td>\n",
       "      <td>137</td>\n",
       "      <td>CENTRO UNIVERSITÁRIO SAGRADO CORAÇÃO</td>\n",
       "      <td>BOLSA INTEGRAL</td>\n",
       "      <td>Presencial</td>\n",
       "      <td>Design</td>\n",
       "      <td>Noturno</td>\n",
       "      <td>M</td>\n",
       "      <td>Branca</td>\n",
       "      <td>2001</td>\n",
       "      <td>N</td>\n",
       "      <td>Sudeste</td>\n",
       "      <td>SP</td>\n",
       "    </tr>\n",
       "    <tr>\n",
       "      <th>113261</th>\n",
       "      <td>2019</td>\n",
       "      <td>221</td>\n",
       "      <td>UNIVERSIDADE CRUZEIRO DO SUL</td>\n",
       "      <td>BOLSA INTEGRAL</td>\n",
       "      <td>Presencial</td>\n",
       "      <td>Química</td>\n",
       "      <td>Noturno</td>\n",
       "      <td>F</td>\n",
       "      <td>Branca</td>\n",
       "      <td>2001</td>\n",
       "      <td>N</td>\n",
       "      <td>Sudeste</td>\n",
       "      <td>SP</td>\n",
       "    </tr>\n",
       "  </tbody>\n",
       "</table>\n",
       "</div>"
      ],
      "text/plain": [
       "        ANO_CONCESSAO_BOLSA  CODIGO_EMEC_IES_BOLSA  \\\n",
       "14522                  2019                    163   \n",
       "9088                   2019                    137   \n",
       "113261                 2019                    221   \n",
       "\n",
       "                              NOME_IES_BOLSA      TIPO_BOLSA  \\\n",
       "14522             UNIVERSIDADE ESTÁCIO DE SÁ  BOLSA INTEGRAL   \n",
       "9088    CENTRO UNIVERSITÁRIO SAGRADO CORAÇÃO  BOLSA INTEGRAL   \n",
       "113261          UNIVERSIDADE CRUZEIRO DO SUL  BOLSA INTEGRAL   \n",
       "\n",
       "       MODALIDADE_ENSINO_BOLSA NOME_CURSO_BOLSA NOME_TURNO_CURSO_BOLSA  \\\n",
       "14522               Presencial  Educação Física               Matutino   \n",
       "9088                Presencial           Design                Noturno   \n",
       "113261              Presencial          Química                Noturno   \n",
       "\n",
       "       SEXO_BENEFICIARIO_BOLSA RACA_BENEFICIARIO_BOLSA  \\\n",
       "14522                        F                   Preta   \n",
       "9088                         M                  Branca   \n",
       "113261                       F                  Branca   \n",
       "\n",
       "        DT_NASCIMENTO_BENEFICIARIO BENEFICIARIO_DEFICIENTE_FISICO  \\\n",
       "14522                         2000                              N   \n",
       "9088                          2001                              N   \n",
       "113261                        2001                              N   \n",
       "\n",
       "       REGIAO_BENEFICIARIO_BOLSA SIGLA_UF_BENEFICIARIO_BOLSA  \n",
       "14522                    Sudeste                          RJ  \n",
       "9088                     Sudeste                          SP  \n",
       "113261                   Sudeste                          SP  "
      ]
     },
     "execution_count": 14,
     "metadata": {},
     "output_type": "execute_result"
    }
   ],
   "source": [
    "df.sample(3)"
   ]
  },
  {
   "cell_type": "markdown",
   "metadata": {},
   "source": [
    "### Renomeando Colunas"
   ]
  },
  {
   "cell_type": "code",
   "execution_count": 15,
   "metadata": {},
   "outputs": [
    {
     "data": {
      "text/plain": [
       "Index(['ANO_CONCESSAO_BOLSA', 'CODIGO_EMEC_IES_BOLSA', 'NOME_IES_BOLSA',\n",
       "       'TIPO_BOLSA', 'MODALIDADE_ENSINO_BOLSA', 'NOME_CURSO_BOLSA',\n",
       "       'NOME_TURNO_CURSO_BOLSA', 'SEXO_BENEFICIARIO_BOLSA',\n",
       "       'RACA_BENEFICIARIO_BOLSA', 'DT_NASCIMENTO_BENEFICIARIO',\n",
       "       'BENEFICIARIO_DEFICIENTE_FISICO', 'REGIAO_BENEFICIARIO_BOLSA',\n",
       "       'SIGLA_UF_BENEFICIARIO_BOLSA'],\n",
       "      dtype='object')"
      ]
     },
     "execution_count": 15,
     "metadata": {},
     "output_type": "execute_result"
    }
   ],
   "source": [
    "df.columns"
   ]
  },
  {
   "cell_type": "code",
   "execution_count": 16,
   "metadata": {},
   "outputs": [],
   "source": [
    "df.rename(columns = {'ANO_CONCESSAO_BOLSA':'ANO_CONCESSAO', \n",
    "                     'CODIGO_EMEC_IES_BOLSA':'CODIGO_IES', \n",
    "                     'NOME_IES_BOLSA':'NOME_IES', \n",
    "                     'MODALIDADE_ENSINO_BOLSA':'MODALIDADE_ENSINO', \n",
    "                     'NOME_CURSO_BOLSA':'NOME_CURSO'}, inplace = True)"
   ]
  },
  {
   "cell_type": "code",
   "execution_count": 17,
   "metadata": {},
   "outputs": [],
   "source": [
    "df.rename(columns = {'NOME_TURNO_CURSO_BOLSA':'TURNO_CURSO', \n",
    "                     'SEXO_BENEFICIARIO_BOLSA':'SEXO_BENEFICIARIO', \n",
    "                     'RACA_BENEFICIARIO_BOLSA':'RACA_BENEFICIARIO', \n",
    "                     'REGIAO_BENEFICIARIO_BOLSA':'REGIAO_BENEFICIARIO', \n",
    "                     'SIGLA_UF_BENEFICIARIO_BOLSA':'UF_BENEFICIARIO', \n",
    "                     'DT_NASCIMENTO_BENEFICIARIO':'ANO_NASCIMENTO_BENEFICIARIO'}, inplace = True)"
   ]
  },
  {
   "cell_type": "code",
   "execution_count": 18,
   "metadata": {},
   "outputs": [
    {
     "data": {
      "text/html": [
       "<div>\n",
       "<style scoped>\n",
       "    .dataframe tbody tr th:only-of-type {\n",
       "        vertical-align: middle;\n",
       "    }\n",
       "\n",
       "    .dataframe tbody tr th {\n",
       "        vertical-align: top;\n",
       "    }\n",
       "\n",
       "    .dataframe thead th {\n",
       "        text-align: right;\n",
       "    }\n",
       "</style>\n",
       "<table border=\"1\" class=\"dataframe\">\n",
       "  <thead>\n",
       "    <tr style=\"text-align: right;\">\n",
       "      <th></th>\n",
       "      <th>ANO_CONCESSAO</th>\n",
       "      <th>CODIGO_IES</th>\n",
       "      <th>NOME_IES</th>\n",
       "      <th>TIPO_BOLSA</th>\n",
       "      <th>MODALIDADE_ENSINO</th>\n",
       "      <th>NOME_CURSO</th>\n",
       "      <th>TURNO_CURSO</th>\n",
       "      <th>SEXO_BENEFICIARIO</th>\n",
       "      <th>RACA_BENEFICIARIO</th>\n",
       "      <th>ANO_NASCIMENTO_BENEFICIARIO</th>\n",
       "      <th>BENEFICIARIO_DEFICIENTE_FISICO</th>\n",
       "      <th>REGIAO_BENEFICIARIO</th>\n",
       "      <th>UF_BENEFICIARIO</th>\n",
       "    </tr>\n",
       "  </thead>\n",
       "  <tbody>\n",
       "    <tr>\n",
       "      <th>65980</th>\n",
       "      <td>2019</td>\n",
       "      <td>1491</td>\n",
       "      <td>CENTRO UNIVERSITÁRIO INTERNACIONAL</td>\n",
       "      <td>BOLSA PARCIAL 50%</td>\n",
       "      <td>EAD</td>\n",
       "      <td>Logística</td>\n",
       "      <td>Curso a distância</td>\n",
       "      <td>M</td>\n",
       "      <td>Branca</td>\n",
       "      <td>1993</td>\n",
       "      <td>N</td>\n",
       "      <td>Sudeste</td>\n",
       "      <td>SP</td>\n",
       "    </tr>\n",
       "    <tr>\n",
       "      <th>14927</th>\n",
       "      <td>2019</td>\n",
       "      <td>213</td>\n",
       "      <td>CENTRO UNIVERSITÁRIO ÁLVARES PENTEADO</td>\n",
       "      <td>BOLSA PARCIAL 50%</td>\n",
       "      <td>Presencial</td>\n",
       "      <td>Administração</td>\n",
       "      <td>Noturno</td>\n",
       "      <td>F</td>\n",
       "      <td>Branca</td>\n",
       "      <td>1994</td>\n",
       "      <td>N</td>\n",
       "      <td>Sudeste</td>\n",
       "      <td>SP</td>\n",
       "    </tr>\n",
       "    <tr>\n",
       "      <th>47750</th>\n",
       "      <td>2019</td>\n",
       "      <td>823</td>\n",
       "      <td>UNIVERSIDADE CEUMA</td>\n",
       "      <td>BOLSA PARCIAL 50%</td>\n",
       "      <td>Presencial</td>\n",
       "      <td>Direito</td>\n",
       "      <td>Vespertino</td>\n",
       "      <td>M</td>\n",
       "      <td>Parda</td>\n",
       "      <td>1998</td>\n",
       "      <td>N</td>\n",
       "      <td>Nordeste</td>\n",
       "      <td>MA</td>\n",
       "    </tr>\n",
       "  </tbody>\n",
       "</table>\n",
       "</div>"
      ],
      "text/plain": [
       "       ANO_CONCESSAO  CODIGO_IES                               NOME_IES  \\\n",
       "65980           2019        1491     CENTRO UNIVERSITÁRIO INTERNACIONAL   \n",
       "14927           2019         213  CENTRO UNIVERSITÁRIO ÁLVARES PENTEADO   \n",
       "47750           2019         823                     UNIVERSIDADE CEUMA   \n",
       "\n",
       "              TIPO_BOLSA MODALIDADE_ENSINO     NOME_CURSO        TURNO_CURSO  \\\n",
       "65980  BOLSA PARCIAL 50%               EAD      Logística  Curso a distância   \n",
       "14927  BOLSA PARCIAL 50%        Presencial  Administração            Noturno   \n",
       "47750  BOLSA PARCIAL 50%        Presencial        Direito         Vespertino   \n",
       "\n",
       "      SEXO_BENEFICIARIO RACA_BENEFICIARIO  ANO_NASCIMENTO_BENEFICIARIO  \\\n",
       "65980                 M            Branca                         1993   \n",
       "14927                 F            Branca                         1994   \n",
       "47750                 M             Parda                         1998   \n",
       "\n",
       "      BENEFICIARIO_DEFICIENTE_FISICO REGIAO_BENEFICIARIO UF_BENEFICIARIO  \n",
       "65980                              N             Sudeste              SP  \n",
       "14927                              N             Sudeste              SP  \n",
       "47750                              N            Nordeste              MA  "
      ]
     },
     "execution_count": 18,
     "metadata": {},
     "output_type": "execute_result"
    }
   ],
   "source": [
    "df.sample(3)"
   ]
  },
  {
   "cell_type": "markdown",
   "metadata": {},
   "source": [
    "### Renomeando variáveis"
   ]
  },
  {
   "cell_type": "code",
   "execution_count": 19,
   "metadata": {},
   "outputs": [],
   "source": [
    "df.loc[(df['MODALIDADE_ENSINO'] == 'EAD'), 'MODALIDADE_ENSINO'] = 'EDUCAÇÃO A DISTÂNCIA'\n",
    "df.loc[(df['MODALIDADE_ENSINO'] == 'Presencial'), 'MODALIDADE_ENSINO'] = 'PRESENCIAL'\n",
    "df.loc[(df['SEXO_BENEFICIARIO'] == 'M'), 'SEXO_BENEFICIARIO'] = 'Masculino'\n",
    "df.loc[(df['SEXO_BENEFICIARIO'] == 'F'), 'SEXO_BENEFICIARIO'] = 'Feminino'\n",
    "df.loc[(df['BENEFICIARIO_DEFICIENTE_FISICO'] == 'S'), 'BENEFICIARIO_DEFICIENTE_FISICO'] = 'SIM'\n",
    "df.loc[(df['BENEFICIARIO_DEFICIENTE_FISICO'] == 'N'), 'BENEFICIARIO_DEFICIENTE_FISICO'] = 'NÃO'"
   ]
  },
  {
   "cell_type": "markdown",
   "metadata": {},
   "source": [
    "### Tranformando letras minúsculas em letras maiúsculas "
   ]
  },
  {
   "cell_type": "code",
   "execution_count": 20,
   "metadata": {},
   "outputs": [],
   "source": [
    "df['REGIAO_BENEFICIARIO'] = df['REGIAO_BENEFICIARIO'].str.upper()"
   ]
  },
  {
   "cell_type": "markdown",
   "metadata": {},
   "source": [
    "### Descobrindo a idade aproximada* dos beneficiários\n",
    "\n",
    "* é aproximada, pois o dataframe não menciona qual semestre do ano o beneficiário foi contemplado pela bolsa."
   ]
  },
  {
   "cell_type": "markdown",
   "metadata": {},
   "source": [
    "-> Criar uma nova coluna IDADE_APROX_BENEFICIARIO para calcular a idade aproximada deles\n",
    "\n",
    "-> Alterar o formato da coluna DT_NASCIMENTO_BENEFICIARIO Para Y\n",
    "\n",
    "-> Calcular com base na coluna ANO_CONCESSAO a idade aproximada do beneficiário"
   ]
  },
  {
   "cell_type": "code",
   "execution_count": 21,
   "metadata": {},
   "outputs": [],
   "source": [
    "df.insert(loc=10, column='IDADE_APROX_BENEFICIARIO', value=10)"
   ]
  },
  {
   "cell_type": "code",
   "execution_count": 22,
   "metadata": {},
   "outputs": [
    {
     "data": {
      "text/html": [
       "<div>\n",
       "<style scoped>\n",
       "    .dataframe tbody tr th:only-of-type {\n",
       "        vertical-align: middle;\n",
       "    }\n",
       "\n",
       "    .dataframe tbody tr th {\n",
       "        vertical-align: top;\n",
       "    }\n",
       "\n",
       "    .dataframe thead th {\n",
       "        text-align: right;\n",
       "    }\n",
       "</style>\n",
       "<table border=\"1\" class=\"dataframe\">\n",
       "  <thead>\n",
       "    <tr style=\"text-align: right;\">\n",
       "      <th></th>\n",
       "      <th>ANO_CONCESSAO</th>\n",
       "      <th>CODIGO_IES</th>\n",
       "      <th>NOME_IES</th>\n",
       "      <th>TIPO_BOLSA</th>\n",
       "      <th>MODALIDADE_ENSINO</th>\n",
       "      <th>NOME_CURSO</th>\n",
       "      <th>TURNO_CURSO</th>\n",
       "      <th>SEXO_BENEFICIARIO</th>\n",
       "      <th>RACA_BENEFICIARIO</th>\n",
       "      <th>ANO_NASCIMENTO_BENEFICIARIO</th>\n",
       "      <th>IDADE_APROX_BENEFICIARIO</th>\n",
       "      <th>BENEFICIARIO_DEFICIENTE_FISICO</th>\n",
       "      <th>REGIAO_BENEFICIARIO</th>\n",
       "      <th>UF_BENEFICIARIO</th>\n",
       "    </tr>\n",
       "  </thead>\n",
       "  <tbody>\n",
       "    <tr>\n",
       "      <th>0</th>\n",
       "      <td>2019</td>\n",
       "      <td>10</td>\n",
       "      <td>PONTIFÍCIA UNIVERSIDADE CATÓLICA DO PARANÁ</td>\n",
       "      <td>BOLSA INTEGRAL</td>\n",
       "      <td>EDUCAÇÃO A DISTÂNCIA</td>\n",
       "      <td>Administração</td>\n",
       "      <td>Curso a distância</td>\n",
       "      <td>Masculino</td>\n",
       "      <td>Branca</td>\n",
       "      <td>1993</td>\n",
       "      <td>10</td>\n",
       "      <td>NÃO</td>\n",
       "      <td>SUL</td>\n",
       "      <td>PR</td>\n",
       "    </tr>\n",
       "  </tbody>\n",
       "</table>\n",
       "</div>"
      ],
      "text/plain": [
       "   ANO_CONCESSAO  CODIGO_IES                                    NOME_IES  \\\n",
       "0           2019          10  PONTIFÍCIA UNIVERSIDADE CATÓLICA DO PARANÁ   \n",
       "\n",
       "       TIPO_BOLSA     MODALIDADE_ENSINO     NOME_CURSO        TURNO_CURSO  \\\n",
       "0  BOLSA INTEGRAL  EDUCAÇÃO A DISTÂNCIA  Administração  Curso a distância   \n",
       "\n",
       "  SEXO_BENEFICIARIO RACA_BENEFICIARIO  ANO_NASCIMENTO_BENEFICIARIO  \\\n",
       "0         Masculino            Branca                         1993   \n",
       "\n",
       "   IDADE_APROX_BENEFICIARIO BENEFICIARIO_DEFICIENTE_FISICO  \\\n",
       "0                        10                            NÃO   \n",
       "\n",
       "  REGIAO_BENEFICIARIO UF_BENEFICIARIO  \n",
       "0                 SUL              PR  "
      ]
     },
     "execution_count": 22,
     "metadata": {},
     "output_type": "execute_result"
    }
   ],
   "source": [
    "df.head(1)"
   ]
  },
  {
   "cell_type": "code",
   "execution_count": 23,
   "metadata": {},
   "outputs": [
    {
     "data": {
      "text/html": [
       "<div>\n",
       "<style scoped>\n",
       "    .dataframe tbody tr th:only-of-type {\n",
       "        vertical-align: middle;\n",
       "    }\n",
       "\n",
       "    .dataframe tbody tr th {\n",
       "        vertical-align: top;\n",
       "    }\n",
       "\n",
       "    .dataframe thead th {\n",
       "        text-align: right;\n",
       "    }\n",
       "</style>\n",
       "<table border=\"1\" class=\"dataframe\">\n",
       "  <thead>\n",
       "    <tr style=\"text-align: right;\">\n",
       "      <th></th>\n",
       "      <th>ANO_CONCESSAO</th>\n",
       "      <th>CODIGO_IES</th>\n",
       "      <th>NOME_IES</th>\n",
       "      <th>TIPO_BOLSA</th>\n",
       "      <th>MODALIDADE_ENSINO</th>\n",
       "      <th>NOME_CURSO</th>\n",
       "      <th>TURNO_CURSO</th>\n",
       "      <th>SEXO_BENEFICIARIO</th>\n",
       "      <th>RACA_BENEFICIARIO</th>\n",
       "      <th>ANO_NASCIMENTO_BENEFICIARIO</th>\n",
       "      <th>IDADE_APROX_BENEFICIARIO</th>\n",
       "      <th>BENEFICIARIO_DEFICIENTE_FISICO</th>\n",
       "      <th>REGIAO_BENEFICIARIO</th>\n",
       "      <th>UF_BENEFICIARIO</th>\n",
       "    </tr>\n",
       "  </thead>\n",
       "  <tbody>\n",
       "    <tr>\n",
       "      <th>136054</th>\n",
       "      <td>2019</td>\n",
       "      <td>1087</td>\n",
       "      <td>CENTRO UNIVERSITÁRIO APARÍCIO CARVALHO</td>\n",
       "      <td>BOLSA PARCIAL 50%</td>\n",
       "      <td>PRESENCIAL</td>\n",
       "      <td>Psicologia</td>\n",
       "      <td>Noturno</td>\n",
       "      <td>Feminino</td>\n",
       "      <td>Parda</td>\n",
       "      <td>1968</td>\n",
       "      <td>51</td>\n",
       "      <td>NÃO</td>\n",
       "      <td>NORTE</td>\n",
       "      <td>RO</td>\n",
       "    </tr>\n",
       "    <tr>\n",
       "      <th>219926</th>\n",
       "      <td>2019</td>\n",
       "      <td>4450</td>\n",
       "      <td>CENTRO UNIVERSITÁRIO METROPOLITANO DA AMAZÔNIA</td>\n",
       "      <td>BOLSA PARCIAL 50%</td>\n",
       "      <td>PRESENCIAL</td>\n",
       "      <td>Radiologia</td>\n",
       "      <td>Noturno</td>\n",
       "      <td>Masculino</td>\n",
       "      <td>Parda</td>\n",
       "      <td>1996</td>\n",
       "      <td>23</td>\n",
       "      <td>NÃO</td>\n",
       "      <td>NORTE</td>\n",
       "      <td>PA</td>\n",
       "    </tr>\n",
       "    <tr>\n",
       "      <th>172298</th>\n",
       "      <td>2019</td>\n",
       "      <td>2571</td>\n",
       "      <td>CENTRO UNIVERSITÁRIO REDENTOR</td>\n",
       "      <td>BOLSA INTEGRAL</td>\n",
       "      <td>EDUCAÇÃO A DISTÂNCIA</td>\n",
       "      <td>Letras</td>\n",
       "      <td>Curso a distância</td>\n",
       "      <td>Feminino</td>\n",
       "      <td>Parda</td>\n",
       "      <td>1974</td>\n",
       "      <td>45</td>\n",
       "      <td>NÃO</td>\n",
       "      <td>SUDESTE</td>\n",
       "      <td>RJ</td>\n",
       "    </tr>\n",
       "    <tr>\n",
       "      <th>42215</th>\n",
       "      <td>2019</td>\n",
       "      <td>521</td>\n",
       "      <td>UNIVERSIDADE DE MOGI DAS CRUZES</td>\n",
       "      <td>BOLSA INTEGRAL</td>\n",
       "      <td>PRESENCIAL</td>\n",
       "      <td>Ciências Biológicas</td>\n",
       "      <td>Matutino</td>\n",
       "      <td>Feminino</td>\n",
       "      <td>Branca</td>\n",
       "      <td>2001</td>\n",
       "      <td>18</td>\n",
       "      <td>NÃO</td>\n",
       "      <td>SUDESTE</td>\n",
       "      <td>SP</td>\n",
       "    </tr>\n",
       "    <tr>\n",
       "      <th>171051</th>\n",
       "      <td>2019</td>\n",
       "      <td>2150</td>\n",
       "      <td>FACULDADE DO PIAUÍ</td>\n",
       "      <td>BOLSA INTEGRAL</td>\n",
       "      <td>PRESENCIAL</td>\n",
       "      <td>Direito</td>\n",
       "      <td>Matutino</td>\n",
       "      <td>Masculino</td>\n",
       "      <td>Parda</td>\n",
       "      <td>1997</td>\n",
       "      <td>22</td>\n",
       "      <td>NÃO</td>\n",
       "      <td>NORDESTE</td>\n",
       "      <td>PI</td>\n",
       "    </tr>\n",
       "  </tbody>\n",
       "</table>\n",
       "</div>"
      ],
      "text/plain": [
       "        ANO_CONCESSAO  CODIGO_IES  \\\n",
       "136054           2019        1087   \n",
       "219926           2019        4450   \n",
       "172298           2019        2571   \n",
       "42215            2019         521   \n",
       "171051           2019        2150   \n",
       "\n",
       "                                              NOME_IES         TIPO_BOLSA  \\\n",
       "136054          CENTRO UNIVERSITÁRIO APARÍCIO CARVALHO  BOLSA PARCIAL 50%   \n",
       "219926  CENTRO UNIVERSITÁRIO METROPOLITANO DA AMAZÔNIA  BOLSA PARCIAL 50%   \n",
       "172298                   CENTRO UNIVERSITÁRIO REDENTOR     BOLSA INTEGRAL   \n",
       "42215                  UNIVERSIDADE DE MOGI DAS CRUZES     BOLSA INTEGRAL   \n",
       "171051                              FACULDADE DO PIAUÍ     BOLSA INTEGRAL   \n",
       "\n",
       "           MODALIDADE_ENSINO           NOME_CURSO        TURNO_CURSO  \\\n",
       "136054            PRESENCIAL           Psicologia            Noturno   \n",
       "219926            PRESENCIAL           Radiologia            Noturno   \n",
       "172298  EDUCAÇÃO A DISTÂNCIA               Letras  Curso a distância   \n",
       "42215             PRESENCIAL  Ciências Biológicas           Matutino   \n",
       "171051            PRESENCIAL              Direito           Matutino   \n",
       "\n",
       "       SEXO_BENEFICIARIO RACA_BENEFICIARIO  ANO_NASCIMENTO_BENEFICIARIO  \\\n",
       "136054          Feminino             Parda                         1968   \n",
       "219926         Masculino             Parda                         1996   \n",
       "172298          Feminino             Parda                         1974   \n",
       "42215           Feminino            Branca                         2001   \n",
       "171051         Masculino             Parda                         1997   \n",
       "\n",
       "        IDADE_APROX_BENEFICIARIO BENEFICIARIO_DEFICIENTE_FISICO  \\\n",
       "136054                        51                            NÃO   \n",
       "219926                        23                            NÃO   \n",
       "172298                        45                            NÃO   \n",
       "42215                         18                            NÃO   \n",
       "171051                        22                            NÃO   \n",
       "\n",
       "       REGIAO_BENEFICIARIO UF_BENEFICIARIO  \n",
       "136054               NORTE              RO  \n",
       "219926               NORTE              PA  \n",
       "172298             SUDESTE              RJ  \n",
       "42215              SUDESTE              SP  \n",
       "171051            NORDESTE              PI  "
      ]
     },
     "execution_count": 23,
     "metadata": {},
     "output_type": "execute_result"
    }
   ],
   "source": [
    "df['IDADE_APROX_BENEFICIARIO'] = df['ANO_CONCESSAO'] - df['ANO_NASCIMENTO_BENEFICIARIO']\n",
    "df.sample(5)"
   ]
  },
  {
   "cell_type": "markdown",
   "metadata": {},
   "source": [
    "### Criando intervalos em que se agrupam pessoas de idade aproximada"
   ]
  },
  {
   "cell_type": "markdown",
   "metadata": {},
   "source": [
    "-> Criar uma nova coluna FAIXA_ETA_BENEFICIARIO\n",
    "\n",
    "-> Popular a coluna seguindo os seguintes critérios:\n",
    "\n",
    "    Menos de 18 anos\n",
    "    De 18 a 24 anos\n",
    "    De 24 a 30 anos\n",
    "    De 30 a 36 anos\n",
    "    De 36 a 48 anos\n",
    "    De 48 a 60 anos\n",
    "    Mais de 60 anos"
   ]
  },
  {
   "cell_type": "code",
   "execution_count": 24,
   "metadata": {},
   "outputs": [],
   "source": [
    "df.insert(loc=11, column='FAIXA_ETA_BENEFICIARIO', value='Idade')"
   ]
  },
  {
   "cell_type": "code",
   "execution_count": 25,
   "metadata": {},
   "outputs": [
    {
     "data": {
      "text/html": [
       "<div>\n",
       "<style scoped>\n",
       "    .dataframe tbody tr th:only-of-type {\n",
       "        vertical-align: middle;\n",
       "    }\n",
       "\n",
       "    .dataframe tbody tr th {\n",
       "        vertical-align: top;\n",
       "    }\n",
       "\n",
       "    .dataframe thead th {\n",
       "        text-align: right;\n",
       "    }\n",
       "</style>\n",
       "<table border=\"1\" class=\"dataframe\">\n",
       "  <thead>\n",
       "    <tr style=\"text-align: right;\">\n",
       "      <th></th>\n",
       "      <th>ANO_CONCESSAO</th>\n",
       "      <th>CODIGO_IES</th>\n",
       "      <th>NOME_IES</th>\n",
       "      <th>TIPO_BOLSA</th>\n",
       "      <th>MODALIDADE_ENSINO</th>\n",
       "      <th>NOME_CURSO</th>\n",
       "      <th>TURNO_CURSO</th>\n",
       "      <th>SEXO_BENEFICIARIO</th>\n",
       "      <th>RACA_BENEFICIARIO</th>\n",
       "      <th>ANO_NASCIMENTO_BENEFICIARIO</th>\n",
       "      <th>IDADE_APROX_BENEFICIARIO</th>\n",
       "      <th>FAIXA_ETA_BENEFICIARIO</th>\n",
       "      <th>BENEFICIARIO_DEFICIENTE_FISICO</th>\n",
       "      <th>REGIAO_BENEFICIARIO</th>\n",
       "      <th>UF_BENEFICIARIO</th>\n",
       "    </tr>\n",
       "  </thead>\n",
       "  <tbody>\n",
       "    <tr>\n",
       "      <th>0</th>\n",
       "      <td>2019</td>\n",
       "      <td>10</td>\n",
       "      <td>PONTIFÍCIA UNIVERSIDADE CATÓLICA DO PARANÁ</td>\n",
       "      <td>BOLSA INTEGRAL</td>\n",
       "      <td>EDUCAÇÃO A DISTÂNCIA</td>\n",
       "      <td>Administração</td>\n",
       "      <td>Curso a distância</td>\n",
       "      <td>Masculino</td>\n",
       "      <td>Branca</td>\n",
       "      <td>1993</td>\n",
       "      <td>26</td>\n",
       "      <td>Idade</td>\n",
       "      <td>NÃO</td>\n",
       "      <td>SUL</td>\n",
       "      <td>PR</td>\n",
       "    </tr>\n",
       "    <tr>\n",
       "      <th>1</th>\n",
       "      <td>2019</td>\n",
       "      <td>10</td>\n",
       "      <td>PONTIFÍCIA UNIVERSIDADE CATÓLICA DO PARANÁ</td>\n",
       "      <td>BOLSA INTEGRAL</td>\n",
       "      <td>EDUCAÇÃO A DISTÂNCIA</td>\n",
       "      <td>Administração</td>\n",
       "      <td>Curso a distância</td>\n",
       "      <td>Feminino</td>\n",
       "      <td>Branca</td>\n",
       "      <td>1999</td>\n",
       "      <td>20</td>\n",
       "      <td>Idade</td>\n",
       "      <td>NÃO</td>\n",
       "      <td>SUL</td>\n",
       "      <td>PR</td>\n",
       "    </tr>\n",
       "    <tr>\n",
       "      <th>2</th>\n",
       "      <td>2019</td>\n",
       "      <td>10</td>\n",
       "      <td>PONTIFÍCIA UNIVERSIDADE CATÓLICA DO PARANÁ</td>\n",
       "      <td>BOLSA INTEGRAL</td>\n",
       "      <td>EDUCAÇÃO A DISTÂNCIA</td>\n",
       "      <td>Análise E Desenvolvimento De Sistemas</td>\n",
       "      <td>Curso a distância</td>\n",
       "      <td>Masculino</td>\n",
       "      <td>Parda</td>\n",
       "      <td>1999</td>\n",
       "      <td>20</td>\n",
       "      <td>Idade</td>\n",
       "      <td>NÃO</td>\n",
       "      <td>SUL</td>\n",
       "      <td>PR</td>\n",
       "    </tr>\n",
       "    <tr>\n",
       "      <th>3</th>\n",
       "      <td>2019</td>\n",
       "      <td>10</td>\n",
       "      <td>PONTIFÍCIA UNIVERSIDADE CATÓLICA DO PARANÁ</td>\n",
       "      <td>BOLSA INTEGRAL</td>\n",
       "      <td>EDUCAÇÃO A DISTÂNCIA</td>\n",
       "      <td>Análise E Desenvolvimento De Sistemas</td>\n",
       "      <td>Curso a distância</td>\n",
       "      <td>Masculino</td>\n",
       "      <td>Branca</td>\n",
       "      <td>2000</td>\n",
       "      <td>19</td>\n",
       "      <td>Idade</td>\n",
       "      <td>NÃO</td>\n",
       "      <td>SUL</td>\n",
       "      <td>PR</td>\n",
       "    </tr>\n",
       "    <tr>\n",
       "      <th>4</th>\n",
       "      <td>2019</td>\n",
       "      <td>10</td>\n",
       "      <td>PONTIFÍCIA UNIVERSIDADE CATÓLICA DO PARANÁ</td>\n",
       "      <td>BOLSA INTEGRAL</td>\n",
       "      <td>EDUCAÇÃO A DISTÂNCIA</td>\n",
       "      <td>Análise E Desenvolvimento De Sistemas</td>\n",
       "      <td>Curso a distância</td>\n",
       "      <td>Masculino</td>\n",
       "      <td>Branca</td>\n",
       "      <td>1993</td>\n",
       "      <td>26</td>\n",
       "      <td>Idade</td>\n",
       "      <td>NÃO</td>\n",
       "      <td>SUL</td>\n",
       "      <td>PR</td>\n",
       "    </tr>\n",
       "  </tbody>\n",
       "</table>\n",
       "</div>"
      ],
      "text/plain": [
       "   ANO_CONCESSAO  CODIGO_IES                                    NOME_IES  \\\n",
       "0           2019          10  PONTIFÍCIA UNIVERSIDADE CATÓLICA DO PARANÁ   \n",
       "1           2019          10  PONTIFÍCIA UNIVERSIDADE CATÓLICA DO PARANÁ   \n",
       "2           2019          10  PONTIFÍCIA UNIVERSIDADE CATÓLICA DO PARANÁ   \n",
       "3           2019          10  PONTIFÍCIA UNIVERSIDADE CATÓLICA DO PARANÁ   \n",
       "4           2019          10  PONTIFÍCIA UNIVERSIDADE CATÓLICA DO PARANÁ   \n",
       "\n",
       "       TIPO_BOLSA     MODALIDADE_ENSINO  \\\n",
       "0  BOLSA INTEGRAL  EDUCAÇÃO A DISTÂNCIA   \n",
       "1  BOLSA INTEGRAL  EDUCAÇÃO A DISTÂNCIA   \n",
       "2  BOLSA INTEGRAL  EDUCAÇÃO A DISTÂNCIA   \n",
       "3  BOLSA INTEGRAL  EDUCAÇÃO A DISTÂNCIA   \n",
       "4  BOLSA INTEGRAL  EDUCAÇÃO A DISTÂNCIA   \n",
       "\n",
       "                              NOME_CURSO        TURNO_CURSO SEXO_BENEFICIARIO  \\\n",
       "0                          Administração  Curso a distância         Masculino   \n",
       "1                          Administração  Curso a distância          Feminino   \n",
       "2  Análise E Desenvolvimento De Sistemas  Curso a distância         Masculino   \n",
       "3  Análise E Desenvolvimento De Sistemas  Curso a distância         Masculino   \n",
       "4  Análise E Desenvolvimento De Sistemas  Curso a distância         Masculino   \n",
       "\n",
       "  RACA_BENEFICIARIO  ANO_NASCIMENTO_BENEFICIARIO  IDADE_APROX_BENEFICIARIO  \\\n",
       "0            Branca                         1993                        26   \n",
       "1            Branca                         1999                        20   \n",
       "2             Parda                         1999                        20   \n",
       "3            Branca                         2000                        19   \n",
       "4            Branca                         1993                        26   \n",
       "\n",
       "  FAIXA_ETA_BENEFICIARIO BENEFICIARIO_DEFICIENTE_FISICO REGIAO_BENEFICIARIO  \\\n",
       "0                  Idade                            NÃO                 SUL   \n",
       "1                  Idade                            NÃO                 SUL   \n",
       "2                  Idade                            NÃO                 SUL   \n",
       "3                  Idade                            NÃO                 SUL   \n",
       "4                  Idade                            NÃO                 SUL   \n",
       "\n",
       "  UF_BENEFICIARIO  \n",
       "0              PR  \n",
       "1              PR  \n",
       "2              PR  \n",
       "3              PR  \n",
       "4              PR  "
      ]
     },
     "execution_count": 25,
     "metadata": {},
     "output_type": "execute_result"
    }
   ],
   "source": [
    "df.head()"
   ]
  },
  {
   "cell_type": "code",
   "execution_count": 26,
   "metadata": {},
   "outputs": [],
   "source": [
    "for i in range(len (df)): \n",
    "    if (df.loc[i, 'IDADE_APROX_BENEFICIARIO'] > 0) & (df.loc[i, 'IDADE_APROX_BENEFICIARIO'] < 18):\n",
    "        df.loc[i, 'FAIXA_ETA_BENEFICIARIO'] = 'Menos de 18 anos'\n",
    "    \n",
    "    elif (df.loc[i, 'IDADE_APROX_BENEFICIARIO'] >= 18) & (df.loc[i, 'IDADE_APROX_BENEFICIARIO'] < 24):\n",
    "        df.loc[i, 'FAIXA_ETA_BENEFICIARIO'] = 'De 18 a 24 anos'\n",
    "    \n",
    "    elif (df.loc[i, 'IDADE_APROX_BENEFICIARIO'] >= 24) & (df.loc[i, 'IDADE_APROX_BENEFICIARIO'] < 30):\n",
    "        df.loc[i, 'FAIXA_ETA_BENEFICIARIO'] = 'De 24 a 30 anos'\n",
    "    \n",
    "    elif (df.loc[i, 'IDADE_APROX_BENEFICIARIO'] >= 30) & (df.loc[i, 'IDADE_APROX_BENEFICIARIO'] < 36):\n",
    "        df.loc[i, 'FAIXA_ETA_BENEFICIARIO'] = 'De 30 a 36 anos'\n",
    "    \n",
    "    elif (df.loc[i, 'IDADE_APROX_BENEFICIARIO'] >= 36) & (df.loc[i, 'IDADE_APROX_BENEFICIARIO'] < 48):\n",
    "        df.loc[i, 'FAIXA_ETA_BENEFICIARIO'] = 'De 36 a 48 anos'\n",
    "    \n",
    "    elif (df.loc[i, 'IDADE_APROX_BENEFICIARIO'] >= 48) & (df.loc[i, 'IDADE_APROX_BENEFICIARIO'] < 60):\n",
    "        df.loc[i, 'FAIXA_ETA_BENEFICIARIO'] = 'De 48 a 60 anos'\n",
    "    \n",
    "    else:\n",
    "        df.loc[i, 'FAIXA_ETA_BENEFICIARIO'] = 'Mais de 60 anos'"
   ]
  },
  {
   "cell_type": "code",
   "execution_count": 27,
   "metadata": {},
   "outputs": [
    {
     "data": {
      "text/html": [
       "<div>\n",
       "<style scoped>\n",
       "    .dataframe tbody tr th:only-of-type {\n",
       "        vertical-align: middle;\n",
       "    }\n",
       "\n",
       "    .dataframe tbody tr th {\n",
       "        vertical-align: top;\n",
       "    }\n",
       "\n",
       "    .dataframe thead th {\n",
       "        text-align: right;\n",
       "    }\n",
       "</style>\n",
       "<table border=\"1\" class=\"dataframe\">\n",
       "  <thead>\n",
       "    <tr style=\"text-align: right;\">\n",
       "      <th></th>\n",
       "      <th>ANO_CONCESSAO</th>\n",
       "      <th>CODIGO_IES</th>\n",
       "      <th>NOME_IES</th>\n",
       "      <th>TIPO_BOLSA</th>\n",
       "      <th>MODALIDADE_ENSINO</th>\n",
       "      <th>NOME_CURSO</th>\n",
       "      <th>TURNO_CURSO</th>\n",
       "      <th>SEXO_BENEFICIARIO</th>\n",
       "      <th>RACA_BENEFICIARIO</th>\n",
       "      <th>ANO_NASCIMENTO_BENEFICIARIO</th>\n",
       "      <th>IDADE_APROX_BENEFICIARIO</th>\n",
       "      <th>FAIXA_ETA_BENEFICIARIO</th>\n",
       "      <th>BENEFICIARIO_DEFICIENTE_FISICO</th>\n",
       "      <th>REGIAO_BENEFICIARIO</th>\n",
       "      <th>UF_BENEFICIARIO</th>\n",
       "    </tr>\n",
       "  </thead>\n",
       "  <tbody>\n",
       "    <tr>\n",
       "      <th>29559</th>\n",
       "      <td>2019</td>\n",
       "      <td>322</td>\n",
       "      <td>UNIVERSIDADE PAULISTA</td>\n",
       "      <td>BOLSA INTEGRAL</td>\n",
       "      <td>EDUCAÇÃO A DISTÂNCIA</td>\n",
       "      <td>Serviço Social</td>\n",
       "      <td>Curso a distância</td>\n",
       "      <td>Feminino</td>\n",
       "      <td>Parda</td>\n",
       "      <td>1996</td>\n",
       "      <td>23</td>\n",
       "      <td>De 18 a 24 anos</td>\n",
       "      <td>NÃO</td>\n",
       "      <td>CENTRO-OESTE</td>\n",
       "      <td>MT</td>\n",
       "    </tr>\n",
       "  </tbody>\n",
       "</table>\n",
       "</div>"
      ],
      "text/plain": [
       "       ANO_CONCESSAO  CODIGO_IES               NOME_IES      TIPO_BOLSA  \\\n",
       "29559           2019         322  UNIVERSIDADE PAULISTA  BOLSA INTEGRAL   \n",
       "\n",
       "          MODALIDADE_ENSINO      NOME_CURSO        TURNO_CURSO  \\\n",
       "29559  EDUCAÇÃO A DISTÂNCIA  Serviço Social  Curso a distância   \n",
       "\n",
       "      SEXO_BENEFICIARIO RACA_BENEFICIARIO  ANO_NASCIMENTO_BENEFICIARIO  \\\n",
       "29559          Feminino             Parda                         1996   \n",
       "\n",
       "       IDADE_APROX_BENEFICIARIO FAIXA_ETA_BENEFICIARIO  \\\n",
       "29559                        23        De 18 a 24 anos   \n",
       "\n",
       "      BENEFICIARIO_DEFICIENTE_FISICO REGIAO_BENEFICIARIO UF_BENEFICIARIO  \n",
       "29559                            NÃO        CENTRO-OESTE              MT  "
      ]
     },
     "execution_count": 27,
     "metadata": {},
     "output_type": "execute_result"
    }
   ],
   "source": [
    "df.sample()"
   ]
  },
  {
   "cell_type": "markdown",
   "metadata": {},
   "source": [
    "# Análise os dados"
   ]
  },
  {
   "cell_type": "markdown",
   "metadata": {},
   "source": [
    "### Tipos de Bolsas"
   ]
  },
  {
   "cell_type": "code",
   "execution_count": 28,
   "metadata": {},
   "outputs": [
    {
     "data": {
      "text/plain": [
       "BOLSA INTEGRAL       167807\n",
       "BOLSA PARCIAL 50%     57748\n",
       "Name: TIPO_BOLSA, dtype: int64"
      ]
     },
     "execution_count": 28,
     "metadata": {},
     "output_type": "execute_result"
    }
   ],
   "source": [
    "df['TIPO_BOLSA'].value_counts()"
   ]
  },
  {
   "cell_type": "markdown",
   "metadata": {},
   "source": [
    "### Modalidade de ensino"
   ]
  },
  {
   "cell_type": "code",
   "execution_count": 29,
   "metadata": {},
   "outputs": [
    {
     "data": {
      "text/plain": [
       "PRESENCIAL              158305\n",
       "EDUCAÇÃO A DISTÂNCIA     67250\n",
       "Name: MODALIDADE_ENSINO, dtype: int64"
      ]
     },
     "execution_count": 29,
     "metadata": {},
     "output_type": "execute_result"
    }
   ],
   "source": [
    "df['MODALIDADE_ENSINO'].value_counts()#.plot.bar()"
   ]
  },
  {
   "cell_type": "markdown",
   "metadata": {},
   "source": [
    "###  Top 10 - Cursos"
   ]
  },
  {
   "cell_type": "code",
   "execution_count": 30,
   "metadata": {},
   "outputs": [
    {
     "data": {
      "text/plain": [
       "Administração                 18884\n",
       "Pedagogia                     17076\n",
       "Direito                       16983\n",
       "Ciências Contábeis            11337\n",
       "Enfermagem                     9293\n",
       "Educação Física                9230\n",
       "Psicologia                     7140\n",
       "Gestão De Recursos Humanos     6048\n",
       "Engenharia Civil               5966\n",
       "Fisioterapia                   5518\n",
       "Name: NOME_CURSO, dtype: int64"
      ]
     },
     "execution_count": 30,
     "metadata": {},
     "output_type": "execute_result"
    }
   ],
   "source": [
    "df['NOME_CURSO'].value_counts().head(10)"
   ]
  },
  {
   "cell_type": "markdown",
   "metadata": {},
   "source": [
    "### Turno predominante"
   ]
  },
  {
   "cell_type": "code",
   "execution_count": 31,
   "metadata": {
    "scrolled": true
   },
   "outputs": [
    {
     "data": {
      "text/plain": [
       "Noturno              105792\n",
       "Curso a distância     67250\n",
       "Matutino              40931\n",
       "Integral               6302\n",
       "Vespertino             5280\n",
       "Name: TURNO_CURSO, dtype: int64"
      ]
     },
     "execution_count": 31,
     "metadata": {},
     "output_type": "execute_result"
    }
   ],
   "source": [
    "df['TURNO_CURSO'].value_counts()"
   ]
  },
  {
   "cell_type": "markdown",
   "metadata": {},
   "source": [
    "### Sexo dos beneficiários"
   ]
  },
  {
   "cell_type": "code",
   "execution_count": 32,
   "metadata": {},
   "outputs": [
    {
     "data": {
      "text/plain": [
       "Feminino     131368\n",
       "Masculino     94187\n",
       "Name: SEXO_BENEFICIARIO, dtype: int64"
      ]
     },
     "execution_count": 32,
     "metadata": {},
     "output_type": "execute_result"
    }
   ],
   "source": [
    "df['SEXO_BENEFICIARIO'].value_counts()"
   ]
  },
  {
   "cell_type": "markdown",
   "metadata": {},
   "source": [
    "### Raça dos beneficiários"
   ]
  },
  {
   "cell_type": "code",
   "execution_count": 33,
   "metadata": {},
   "outputs": [
    {
     "data": {
      "text/plain": [
       "Parda            105705\n",
       "Branca            86375\n",
       "Preta             29456\n",
       "Amarela            3817\n",
       "Indígena            197\n",
       "Não Informada         5\n",
       "Name: RACA_BENEFICIARIO, dtype: int64"
      ]
     },
     "execution_count": 33,
     "metadata": {},
     "output_type": "execute_result"
    }
   ],
   "source": [
    "df['RACA_BENEFICIARIO'].value_counts()"
   ]
  },
  {
   "cell_type": "markdown",
   "metadata": {},
   "source": [
    "### Faixa etária dos Beneficiários"
   ]
  },
  {
   "cell_type": "code",
   "execution_count": 34,
   "metadata": {},
   "outputs": [
    {
     "data": {
      "text/plain": [
       "De 18 a 24 anos     152902\n",
       "De 24 a 30 anos      38623\n",
       "De 30 a 36 anos      16647\n",
       "De 36 a 48 anos      13172\n",
       "De 48 a 60 anos       2378\n",
       "Menos de 18 anos      1659\n",
       "Mais de 60 anos        174\n",
       "Name: FAIXA_ETA_BENEFICIARIO, dtype: int64"
      ]
     },
     "execution_count": 34,
     "metadata": {},
     "output_type": "execute_result"
    }
   ],
   "source": [
    "df['FAIXA_ETA_BENEFICIARIO'].value_counts()"
   ]
  },
  {
   "cell_type": "markdown",
   "metadata": {},
   "source": [
    "### Beneficiários deficientes físicos"
   ]
  },
  {
   "cell_type": "code",
   "execution_count": 35,
   "metadata": {},
   "outputs": [
    {
     "data": {
      "text/plain": [
       "NÃO    223931\n",
       "SIM      1624\n",
       "Name: BENEFICIARIO_DEFICIENTE_FISICO, dtype: int64"
      ]
     },
     "execution_count": 35,
     "metadata": {},
     "output_type": "execute_result"
    }
   ],
   "source": [
    "df['BENEFICIARIO_DEFICIENTE_FISICO'].value_counts()"
   ]
  },
  {
   "cell_type": "markdown",
   "metadata": {},
   "source": [
    "### Região x Bolsas"
   ]
  },
  {
   "cell_type": "code",
   "execution_count": 36,
   "metadata": {},
   "outputs": [
    {
     "data": {
      "text/plain": [
       "SUDESTE         104102\n",
       "NORDESTE         48545\n",
       "SUL              34388\n",
       "NORTE            19289\n",
       "CENTRO-OESTE     19231\n",
       "Name: REGIAO_BENEFICIARIO, dtype: int64"
      ]
     },
     "execution_count": 36,
     "metadata": {},
     "output_type": "execute_result"
    }
   ],
   "source": [
    "df['REGIAO_BENEFICIARIO'].value_counts()"
   ]
  },
  {
   "cell_type": "markdown",
   "metadata": {},
   "source": [
    "### Top 5 bolsas - UF's x Bolsas"
   ]
  },
  {
   "cell_type": "code",
   "execution_count": 37,
   "metadata": {},
   "outputs": [
    {
     "data": {
      "text/plain": [
       "SP    59441\n",
       "MG    26372\n",
       "PR    15195\n",
       "BA    14172\n",
       "RJ    12945\n",
       "Name: UF_BENEFICIARIO, dtype: int64"
      ]
     },
     "execution_count": 37,
     "metadata": {},
     "output_type": "execute_result"
    }
   ],
   "source": [
    "df['UF_BENEFICIARIO'].value_counts().head()"
   ]
  },
  {
   "cell_type": "markdown",
   "metadata": {},
   "source": [
    "### Top 10 - IE's xBolsas"
   ]
  },
  {
   "cell_type": "code",
   "execution_count": 38,
   "metadata": {},
   "outputs": [
    {
     "data": {
      "text/plain": [
       "UNIVERSIDADE PAULISTA                               36618\n",
       "CENTRO UNIVERSITÁRIO INTERNACIONAL                   8598\n",
       "UNIVERSIDADE ESTÁCIO DE SÁ                           7009\n",
       "CENTRO UNIVERSITÁRIO LEONARDO DA VINCI               5344\n",
       "UNIVERSIDADE PITÁGORAS UNOPAR                        4864\n",
       "UNIVERSIDADE NOVE DE JULHO                           4446\n",
       "PONTIFÍCIA UNIVERSIDADE CATÓLICA DE MINAS GERAIS     4342\n",
       "UNIVERSIDADE CEUMA                                   3267\n",
       "UNIVERSIDADE ANHANGUERA                              2866\n",
       "CENTRO UNIVERSITÁRIO DE MARINGÁ - UNICESUMAR         2810\n",
       "Name: NOME_IES, dtype: int64"
      ]
     },
     "execution_count": 38,
     "metadata": {},
     "output_type": "execute_result"
    }
   ],
   "source": [
    "df['NOME_IES'].value_counts().head(10)"
   ]
  },
  {
   "cell_type": "markdown",
   "metadata": {},
   "source": [
    "## Criando novo arquivo csv"
   ]
  },
  {
   "cell_type": "code",
   "execution_count": 39,
   "metadata": {},
   "outputs": [],
   "source": [
    "novo_df = df"
   ]
  },
  {
   "cell_type": "code",
   "execution_count": 40,
   "metadata": {},
   "outputs": [],
   "source": [
    "novo_df.to_csv('N_Datasets/Novo_Prouni2019.csv', sep=';', encoding='utf-8', index = False)"
   ]
  }
 ],
 "metadata": {
  "kernelspec": {
   "display_name": "Python 3",
   "language": "python",
   "name": "python3"
  },
  "language_info": {
   "codemirror_mode": {
    "name": "ipython",
    "version": 3
   },
   "file_extension": ".py",
   "mimetype": "text/x-python",
   "name": "python",
   "nbconvert_exporter": "python",
   "pygments_lexer": "ipython3",
   "version": "3.8.5"
  }
 },
 "nbformat": 4,
 "nbformat_minor": 4
}
